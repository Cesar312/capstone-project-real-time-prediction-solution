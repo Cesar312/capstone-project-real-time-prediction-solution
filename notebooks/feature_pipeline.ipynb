{
 "cells": [
  {
   "cell_type": "code",
   "execution_count": 1,
   "metadata": {},
   "outputs": [],
   "source": [
    "import os\n",
    "import sys\n",
    "from datetime import datetime, timedelta, timezone\n",
    "import pytz\n",
    "import pandas as pd\n",
    "\n",
    "import hopsworks"
   ]
  },
  {
   "cell_type": "code",
   "execution_count": 2,
   "metadata": {},
   "outputs": [],
   "source": [
    "sys.path.append(os.path.abspath(os.path.join(os.getcwd(), os.pardir)))"
   ]
  },
  {
   "cell_type": "code",
   "execution_count": 3,
   "metadata": {},
   "outputs": [],
   "source": [
    "import src.config as config"
   ]
  },
  {
   "cell_type": "code",
   "execution_count": 4,
   "metadata": {},
   "outputs": [
    {
     "name": "stdout",
     "output_type": "stream",
     "text": [
      "2024-05-09 20:41:18,141 WARNING: FutureWarning: 'H' is deprecated and will be removed in a future version, please use 'h' instead.\n",
      "\n",
      "Current date: 2024-05-10 01:00:00\n"
     ]
    }
   ],
   "source": [
    "current_date = pd.to_datetime(datetime.utcnow()).floor('H')\n",
    "print(f'Current date: {current_date}')\n",
    "\n",
    "fetch_data_to = current_date\n",
    "fetch_data_from = current_date - timedelta(days=28)"
   ]
  },
  {
   "cell_type": "code",
   "execution_count": 5,
   "metadata": {},
   "outputs": [
    {
     "name": "stdout",
     "output_type": "stream",
     "text": [
      "Fetching data from 2024-04-12 01:00:00 to 2024-05-10 01:00:00\n"
     ]
    }
   ],
   "source": [
    "print(f'Fetching data from {fetch_data_from} to {fetch_data_to}')"
   ]
  },
  {
   "cell_type": "code",
   "execution_count": 6,
   "metadata": {},
   "outputs": [],
   "source": [
    "from src.data import load_raw_data"
   ]
  },
  {
   "cell_type": "code",
   "execution_count": 7,
   "metadata": {},
   "outputs": [],
   "source": [
    "import pandas as pd\n",
    "from datetime import datetime, timedelta\n",
    "import calendar\n",
    "from dateutil.relativedelta import relativedelta  # For precise month additions\n",
    "\n",
    "def fetch_batch_raw_data(from_date: datetime, to_date: datetime) -> pd.DataFrame:\n",
    "    '''\n",
    "    Fetch data from the specified historical date range and simulate it as if it is from March 1, 2024, onward.\n",
    "    '''\n",
    "\n",
    "    # Adjust the date range backward by one year to fetch historical data\n",
    "    from_date_ = from_date - relativedelta(years=1)\n",
    "    to_date_ = to_date - relativedelta(years=1)\n",
    "    print(f'Adjusted from_date: {from_date_}, to_date: {to_date_}')\n",
    "\n",
    "    rides = pd.DataFrame()\n",
    "    current_date = from_date_\n",
    "\n",
    "    while current_date <= to_date_:\n",
    "        year, month = current_date.year, current_date.month\n",
    "        try:\n",
    "            month_data = load_raw_data(year=year, months=[month])\n",
    "            month_data = month_data[(month_data.pickup_datetime >= from_date_) & (month_data.pickup_datetime <= to_date_)]\n",
    "            rides = pd.concat([rides, month_data])\n",
    "        except FileNotFoundError:\n",
    "            print(f\"No data available for {year}-{month}, skipping...\")\n",
    "        current_date += timedelta(days=calendar.monthrange(year, month)[1])\n",
    "\n",
    "    # Define the base date for simulation (March 1, 2024)\n",
    "    base_date = pd.Timestamp('2024-03-01')\n",
    "\n",
    "    # Calculate the difference in days from the earliest date in 'rides' to 'base_date'\n",
    "    earliest_date_in_data = rides['pickup_datetime'].min()\n",
    "    days_difference = (base_date - earliest_date_in_data).days\n",
    "\n",
    "    # Shift all 'pickup_datetime' in 'rides' by this difference\n",
    "    rides['pickup_datetime'] += timedelta(days=days_difference)\n",
    "\n",
    "    # Sort data by location ID and datetime\n",
    "    rides.sort_values(by=['pickup_location_id', 'pickup_datetime'], inplace=True)\n",
    "\n",
    "    return rides"
   ]
  },
  {
   "cell_type": "code",
   "execution_count": 8,
   "metadata": {},
   "outputs": [
    {
     "name": "stdout",
     "output_type": "stream",
     "text": [
      "Adjusted from_date: 2023-04-12 01:00:00, to_date: 2023-05-10 01:00:00\n",
      "2023-04 file is already in local storage\n"
     ]
    }
   ],
   "source": [
    "rides = fetch_batch_raw_data(from_date=fetch_data_from, to_date=fetch_data_to)"
   ]
  },
  {
   "cell_type": "code",
   "execution_count": 9,
   "metadata": {},
   "outputs": [],
   "source": [
    "from src.data import transform_raw_data_into_timeseries_data"
   ]
  },
  {
   "cell_type": "code",
   "execution_count": 10,
   "metadata": {},
   "outputs": [
    {
     "name": "stdout",
     "output_type": "stream",
     "text": [
      "2024-05-09 20:41:20,728 WARNING: FutureWarning: 'H' is deprecated and will be removed in a future version, please use 'h' instead.\n",
      "\n",
      "2024-05-09 20:41:21,121 WARNING: FutureWarning: 'H' is deprecated and will be removed in a future version, please use 'h' instead.\n",
      "\n"
     ]
    },
    {
     "name": "stderr",
     "output_type": "stream",
     "text": [
      "100%|██████████| 265/265 [00:01<00:00, 213.94it/s]\n"
     ]
    }
   ],
   "source": [
    "ts_data = transform_raw_data_into_timeseries_data(rides)"
   ]
  },
  {
   "cell_type": "code",
   "execution_count": 11,
   "metadata": {},
   "outputs": [],
   "source": [
    "ts_data['pickup_hour'] = pd.to_datetime(ts_data['pickup_hour'], utc=True)\n",
    "ts_data['pickup_ts'] = ts_data['pickup_hour'].astype(int) // 10**6"
   ]
  },
  {
   "cell_type": "code",
   "execution_count": 12,
   "metadata": {},
   "outputs": [
    {
     "name": "stdout",
     "output_type": "stream",
     "text": [
      "Connected. Call `.close()` to terminate connection gracefully.\n",
      "\n",
      "Logged in to project, explore it here https://c.app.hopsworks.ai:443/p/699541\n",
      "Connected. Call `.close()` to terminate connection gracefully.\n"
     ]
    }
   ],
   "source": [
    "# Connect to Hopsworks\n",
    "project = hopsworks.login(project=config.HOPSWORKS_PROJECT_NAME, api_key_value=config.HOPSWORKS_API_KEY)\n",
    "\n",
    "# Get the feature store handle for the project\n",
    "feature_store = project.get_feature_store()\n",
    "\n",
    "# Create the feature group\n",
    "feature_group = feature_store.get_or_create_feature_group(name=config.FEATURE_GROUP_NAME, \n",
    "                                                          version=config.FEATURE_GROUP_VERSION,\n",
    "                                                          description='Timeseries data with hourly frequency', \n",
    "                                                          primary_key=['pickup_location_id', 'pickup_ts'], \n",
    "                                                          event_time='pickup_hour')"
   ]
  },
  {
   "cell_type": "code",
   "execution_count": 13,
   "metadata": {},
   "outputs": [
    {
     "data": {
      "application/vnd.jupyter.widget-view+json": {
       "model_id": "acdbac47f9c340bf9a6328d5537148dd",
       "version_major": 2,
       "version_minor": 0
      },
      "text/plain": [
       "Uploading Dataframe: 0.00% |          | Rows 0/120575 | Elapsed Time: 00:00 | Remaining Time: ?"
      ]
     },
     "metadata": {},
     "output_type": "display_data"
    },
    {
     "name": "stdout",
     "output_type": "stream",
     "text": [
      "Launching job: timeseries_hourly_feature_group_1_offline_fg_materialization\n",
      "Job started successfully, you can follow the progress at \n",
      "https://c.app.hopsworks.ai/p/699541/jobs/named/timeseries_hourly_feature_group_1_offline_fg_materialization/executions\n"
     ]
    },
    {
     "data": {
      "text/plain": [
       "(<hsfs.core.job.Job at 0x13c31f070>, None)"
      ]
     },
     "execution_count": 13,
     "metadata": {},
     "output_type": "execute_result"
    }
   ],
   "source": [
    "feature_group.insert(ts_data, write_options={'wait_for_job': False})"
   ]
  },
  {
   "cell_type": "code",
   "execution_count": null,
   "metadata": {},
   "outputs": [],
   "source": []
  }
 ],
 "metadata": {
  "kernelspec": {
   "display_name": "python39",
   "language": "python",
   "name": "python3"
  },
  "language_info": {
   "codemirror_mode": {
    "name": "ipython",
    "version": 3
   },
   "file_extension": ".py",
   "mimetype": "text/x-python",
   "name": "python",
   "nbconvert_exporter": "python",
   "pygments_lexer": "ipython3",
   "version": "3.9.13"
  }
 },
 "nbformat": 4,
 "nbformat_minor": 2
}
