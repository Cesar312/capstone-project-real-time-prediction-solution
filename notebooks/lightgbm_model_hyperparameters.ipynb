{
 "cells": [
  {
   "cell_type": "code",
   "execution_count": 1,
   "metadata": {},
   "outputs": [],
   "source": [
    "import os\n",
    "import sys\n",
    "import numpy as np\n",
    "import pandas as pd\n",
    "\n",
    "from datetime import datetime\n",
    "\n",
    "import lightgbm as lgb\n",
    "\n",
    "from sklearn.metrics import mean_absolute_error\n",
    "from sklearn.model_selection import KFold\n",
    "\n",
    "import optuna\n",
    "\n",
    "import warnings\n",
    "warnings.filterwarnings('ignore')"
   ]
  },
  {
   "cell_type": "code",
   "execution_count": 2,
   "metadata": {},
   "outputs": [],
   "source": [
    "sys.path.append(os.path.abspath(os.path.join(os.getcwd(), os.pardir)))"
   ]
  },
  {
   "cell_type": "code",
   "execution_count": 3,
   "metadata": {},
   "outputs": [],
   "source": [
    "from src.paths import TRANSFORMED_DATA_DIR, RESIDUALS_DATA_DIR\n",
    "from src.evaluation import evaluate_metrics, save_metrics"
   ]
  },
  {
   "cell_type": "code",
   "execution_count": 4,
   "metadata": {},
   "outputs": [
    {
     "data": {
      "text/html": [
       "<div>\n",
       "<style scoped>\n",
       "    .dataframe tbody tr th:only-of-type {\n",
       "        vertical-align: middle;\n",
       "    }\n",
       "\n",
       "    .dataframe tbody tr th {\n",
       "        vertical-align: top;\n",
       "    }\n",
       "\n",
       "    .dataframe thead th {\n",
       "        text-align: right;\n",
       "    }\n",
       "</style>\n",
       "<table border=\"1\" class=\"dataframe\">\n",
       "  <thead>\n",
       "    <tr style=\"text-align: right;\">\n",
       "      <th></th>\n",
       "      <th>rides_previous_672_hour</th>\n",
       "      <th>rides_previous_671_hour</th>\n",
       "      <th>rides_previous_670_hour</th>\n",
       "      <th>rides_previous_669_hour</th>\n",
       "      <th>rides_previous_668_hour</th>\n",
       "      <th>rides_previous_667_hour</th>\n",
       "      <th>rides_previous_666_hour</th>\n",
       "      <th>rides_previous_665_hour</th>\n",
       "      <th>rides_previous_664_hour</th>\n",
       "      <th>rides_previous_663_hour</th>\n",
       "      <th>...</th>\n",
       "      <th>rides_previous_7_hour</th>\n",
       "      <th>rides_previous_6_hour</th>\n",
       "      <th>rides_previous_5_hour</th>\n",
       "      <th>rides_previous_4_hour</th>\n",
       "      <th>rides_previous_3_hour</th>\n",
       "      <th>rides_previous_2_hour</th>\n",
       "      <th>rides_previous_1_hour</th>\n",
       "      <th>pickup_hour</th>\n",
       "      <th>pickup_location_id</th>\n",
       "      <th>target_rides_next_hour</th>\n",
       "    </tr>\n",
       "  </thead>\n",
       "  <tbody>\n",
       "    <tr>\n",
       "      <th>0</th>\n",
       "      <td>0.0</td>\n",
       "      <td>0.0</td>\n",
       "      <td>0.0</td>\n",
       "      <td>0.0</td>\n",
       "      <td>0.0</td>\n",
       "      <td>1.0</td>\n",
       "      <td>0.0</td>\n",
       "      <td>0.0</td>\n",
       "      <td>1.0</td>\n",
       "      <td>0.0</td>\n",
       "      <td>...</td>\n",
       "      <td>1.0</td>\n",
       "      <td>0.0</td>\n",
       "      <td>0.0</td>\n",
       "      <td>0.0</td>\n",
       "      <td>0.0</td>\n",
       "      <td>0.0</td>\n",
       "      <td>0.0</td>\n",
       "      <td>2023-01-29</td>\n",
       "      <td>1</td>\n",
       "      <td>0.0</td>\n",
       "    </tr>\n",
       "    <tr>\n",
       "      <th>1</th>\n",
       "      <td>0.0</td>\n",
       "      <td>0.0</td>\n",
       "      <td>0.0</td>\n",
       "      <td>0.0</td>\n",
       "      <td>1.0</td>\n",
       "      <td>2.0</td>\n",
       "      <td>2.0</td>\n",
       "      <td>2.0</td>\n",
       "      <td>0.0</td>\n",
       "      <td>2.0</td>\n",
       "      <td>...</td>\n",
       "      <td>2.0</td>\n",
       "      <td>1.0</td>\n",
       "      <td>1.0</td>\n",
       "      <td>0.0</td>\n",
       "      <td>0.0</td>\n",
       "      <td>0.0</td>\n",
       "      <td>0.0</td>\n",
       "      <td>2023-01-30</td>\n",
       "      <td>1</td>\n",
       "      <td>0.0</td>\n",
       "    </tr>\n",
       "    <tr>\n",
       "      <th>2</th>\n",
       "      <td>0.0</td>\n",
       "      <td>0.0</td>\n",
       "      <td>1.0</td>\n",
       "      <td>1.0</td>\n",
       "      <td>1.0</td>\n",
       "      <td>0.0</td>\n",
       "      <td>1.0</td>\n",
       "      <td>0.0</td>\n",
       "      <td>1.0</td>\n",
       "      <td>0.0</td>\n",
       "      <td>...</td>\n",
       "      <td>1.0</td>\n",
       "      <td>2.0</td>\n",
       "      <td>0.0</td>\n",
       "      <td>1.0</td>\n",
       "      <td>0.0</td>\n",
       "      <td>0.0</td>\n",
       "      <td>0.0</td>\n",
       "      <td>2023-01-31</td>\n",
       "      <td>1</td>\n",
       "      <td>0.0</td>\n",
       "    </tr>\n",
       "    <tr>\n",
       "      <th>3</th>\n",
       "      <td>0.0</td>\n",
       "      <td>0.0</td>\n",
       "      <td>1.0</td>\n",
       "      <td>0.0</td>\n",
       "      <td>0.0</td>\n",
       "      <td>0.0</td>\n",
       "      <td>0.0</td>\n",
       "      <td>1.0</td>\n",
       "      <td>1.0</td>\n",
       "      <td>0.0</td>\n",
       "      <td>...</td>\n",
       "      <td>2.0</td>\n",
       "      <td>0.0</td>\n",
       "      <td>0.0</td>\n",
       "      <td>0.0</td>\n",
       "      <td>0.0</td>\n",
       "      <td>0.0</td>\n",
       "      <td>0.0</td>\n",
       "      <td>2023-02-01</td>\n",
       "      <td>1</td>\n",
       "      <td>0.0</td>\n",
       "    </tr>\n",
       "    <tr>\n",
       "      <th>4</th>\n",
       "      <td>0.0</td>\n",
       "      <td>0.0</td>\n",
       "      <td>0.0</td>\n",
       "      <td>0.0</td>\n",
       "      <td>1.0</td>\n",
       "      <td>0.0</td>\n",
       "      <td>0.0</td>\n",
       "      <td>0.0</td>\n",
       "      <td>2.0</td>\n",
       "      <td>1.0</td>\n",
       "      <td>...</td>\n",
       "      <td>1.0</td>\n",
       "      <td>1.0</td>\n",
       "      <td>0.0</td>\n",
       "      <td>0.0</td>\n",
       "      <td>0.0</td>\n",
       "      <td>0.0</td>\n",
       "      <td>0.0</td>\n",
       "      <td>2023-02-02</td>\n",
       "      <td>1</td>\n",
       "      <td>0.0</td>\n",
       "    </tr>\n",
       "    <tr>\n",
       "      <th>...</th>\n",
       "      <td>...</td>\n",
       "      <td>...</td>\n",
       "      <td>...</td>\n",
       "      <td>...</td>\n",
       "      <td>...</td>\n",
       "      <td>...</td>\n",
       "      <td>...</td>\n",
       "      <td>...</td>\n",
       "      <td>...</td>\n",
       "      <td>...</td>\n",
       "      <td>...</td>\n",
       "      <td>...</td>\n",
       "      <td>...</td>\n",
       "      <td>...</td>\n",
       "      <td>...</td>\n",
       "      <td>...</td>\n",
       "      <td>...</td>\n",
       "      <td>...</td>\n",
       "      <td>...</td>\n",
       "      <td>...</td>\n",
       "      <td>...</td>\n",
       "    </tr>\n",
       "    <tr>\n",
       "      <th>89300</th>\n",
       "      <td>1.0</td>\n",
       "      <td>0.0</td>\n",
       "      <td>2.0</td>\n",
       "      <td>0.0</td>\n",
       "      <td>0.0</td>\n",
       "      <td>3.0</td>\n",
       "      <td>3.0</td>\n",
       "      <td>0.0</td>\n",
       "      <td>3.0</td>\n",
       "      <td>2.0</td>\n",
       "      <td>...</td>\n",
       "      <td>2.0</td>\n",
       "      <td>2.0</td>\n",
       "      <td>1.0</td>\n",
       "      <td>2.0</td>\n",
       "      <td>3.0</td>\n",
       "      <td>1.0</td>\n",
       "      <td>3.0</td>\n",
       "      <td>2023-12-27</td>\n",
       "      <td>265</td>\n",
       "      <td>3.0</td>\n",
       "    </tr>\n",
       "    <tr>\n",
       "      <th>89301</th>\n",
       "      <td>5.0</td>\n",
       "      <td>7.0</td>\n",
       "      <td>2.0</td>\n",
       "      <td>1.0</td>\n",
       "      <td>0.0</td>\n",
       "      <td>1.0</td>\n",
       "      <td>2.0</td>\n",
       "      <td>2.0</td>\n",
       "      <td>3.0</td>\n",
       "      <td>3.0</td>\n",
       "      <td>...</td>\n",
       "      <td>6.0</td>\n",
       "      <td>4.0</td>\n",
       "      <td>2.0</td>\n",
       "      <td>4.0</td>\n",
       "      <td>10.0</td>\n",
       "      <td>3.0</td>\n",
       "      <td>3.0</td>\n",
       "      <td>2023-12-28</td>\n",
       "      <td>265</td>\n",
       "      <td>1.0</td>\n",
       "    </tr>\n",
       "    <tr>\n",
       "      <th>89302</th>\n",
       "      <td>5.0</td>\n",
       "      <td>3.0</td>\n",
       "      <td>2.0</td>\n",
       "      <td>3.0</td>\n",
       "      <td>1.0</td>\n",
       "      <td>3.0</td>\n",
       "      <td>1.0</td>\n",
       "      <td>5.0</td>\n",
       "      <td>3.0</td>\n",
       "      <td>1.0</td>\n",
       "      <td>...</td>\n",
       "      <td>3.0</td>\n",
       "      <td>1.0</td>\n",
       "      <td>8.0</td>\n",
       "      <td>5.0</td>\n",
       "      <td>1.0</td>\n",
       "      <td>0.0</td>\n",
       "      <td>6.0</td>\n",
       "      <td>2023-12-29</td>\n",
       "      <td>265</td>\n",
       "      <td>5.0</td>\n",
       "    </tr>\n",
       "    <tr>\n",
       "      <th>89303</th>\n",
       "      <td>3.0</td>\n",
       "      <td>4.0</td>\n",
       "      <td>9.0</td>\n",
       "      <td>4.0</td>\n",
       "      <td>1.0</td>\n",
       "      <td>2.0</td>\n",
       "      <td>0.0</td>\n",
       "      <td>0.0</td>\n",
       "      <td>0.0</td>\n",
       "      <td>2.0</td>\n",
       "      <td>...</td>\n",
       "      <td>6.0</td>\n",
       "      <td>3.0</td>\n",
       "      <td>2.0</td>\n",
       "      <td>2.0</td>\n",
       "      <td>5.0</td>\n",
       "      <td>1.0</td>\n",
       "      <td>5.0</td>\n",
       "      <td>2023-12-30</td>\n",
       "      <td>265</td>\n",
       "      <td>2.0</td>\n",
       "    </tr>\n",
       "    <tr>\n",
       "      <th>89304</th>\n",
       "      <td>13.0</td>\n",
       "      <td>6.0</td>\n",
       "      <td>6.0</td>\n",
       "      <td>5.0</td>\n",
       "      <td>8.0</td>\n",
       "      <td>3.0</td>\n",
       "      <td>2.0</td>\n",
       "      <td>4.0</td>\n",
       "      <td>0.0</td>\n",
       "      <td>4.0</td>\n",
       "      <td>...</td>\n",
       "      <td>3.0</td>\n",
       "      <td>2.0</td>\n",
       "      <td>1.0</td>\n",
       "      <td>3.0</td>\n",
       "      <td>5.0</td>\n",
       "      <td>4.0</td>\n",
       "      <td>0.0</td>\n",
       "      <td>2023-12-31</td>\n",
       "      <td>265</td>\n",
       "      <td>3.0</td>\n",
       "    </tr>\n",
       "  </tbody>\n",
       "</table>\n",
       "<p>89305 rows × 675 columns</p>\n",
       "</div>"
      ],
      "text/plain": [
       "       rides_previous_672_hour  rides_previous_671_hour  \\\n",
       "0                          0.0                      0.0   \n",
       "1                          0.0                      0.0   \n",
       "2                          0.0                      0.0   \n",
       "3                          0.0                      0.0   \n",
       "4                          0.0                      0.0   \n",
       "...                        ...                      ...   \n",
       "89300                      1.0                      0.0   \n",
       "89301                      5.0                      7.0   \n",
       "89302                      5.0                      3.0   \n",
       "89303                      3.0                      4.0   \n",
       "89304                     13.0                      6.0   \n",
       "\n",
       "       rides_previous_670_hour  rides_previous_669_hour  \\\n",
       "0                          0.0                      0.0   \n",
       "1                          0.0                      0.0   \n",
       "2                          1.0                      1.0   \n",
       "3                          1.0                      0.0   \n",
       "4                          0.0                      0.0   \n",
       "...                        ...                      ...   \n",
       "89300                      2.0                      0.0   \n",
       "89301                      2.0                      1.0   \n",
       "89302                      2.0                      3.0   \n",
       "89303                      9.0                      4.0   \n",
       "89304                      6.0                      5.0   \n",
       "\n",
       "       rides_previous_668_hour  rides_previous_667_hour  \\\n",
       "0                          0.0                      1.0   \n",
       "1                          1.0                      2.0   \n",
       "2                          1.0                      0.0   \n",
       "3                          0.0                      0.0   \n",
       "4                          1.0                      0.0   \n",
       "...                        ...                      ...   \n",
       "89300                      0.0                      3.0   \n",
       "89301                      0.0                      1.0   \n",
       "89302                      1.0                      3.0   \n",
       "89303                      1.0                      2.0   \n",
       "89304                      8.0                      3.0   \n",
       "\n",
       "       rides_previous_666_hour  rides_previous_665_hour  \\\n",
       "0                          0.0                      0.0   \n",
       "1                          2.0                      2.0   \n",
       "2                          1.0                      0.0   \n",
       "3                          0.0                      1.0   \n",
       "4                          0.0                      0.0   \n",
       "...                        ...                      ...   \n",
       "89300                      3.0                      0.0   \n",
       "89301                      2.0                      2.0   \n",
       "89302                      1.0                      5.0   \n",
       "89303                      0.0                      0.0   \n",
       "89304                      2.0                      4.0   \n",
       "\n",
       "       rides_previous_664_hour  rides_previous_663_hour  ...  \\\n",
       "0                          1.0                      0.0  ...   \n",
       "1                          0.0                      2.0  ...   \n",
       "2                          1.0                      0.0  ...   \n",
       "3                          1.0                      0.0  ...   \n",
       "4                          2.0                      1.0  ...   \n",
       "...                        ...                      ...  ...   \n",
       "89300                      3.0                      2.0  ...   \n",
       "89301                      3.0                      3.0  ...   \n",
       "89302                      3.0                      1.0  ...   \n",
       "89303                      0.0                      2.0  ...   \n",
       "89304                      0.0                      4.0  ...   \n",
       "\n",
       "       rides_previous_7_hour  rides_previous_6_hour  rides_previous_5_hour  \\\n",
       "0                        1.0                    0.0                    0.0   \n",
       "1                        2.0                    1.0                    1.0   \n",
       "2                        1.0                    2.0                    0.0   \n",
       "3                        2.0                    0.0                    0.0   \n",
       "4                        1.0                    1.0                    0.0   \n",
       "...                      ...                    ...                    ...   \n",
       "89300                    2.0                    2.0                    1.0   \n",
       "89301                    6.0                    4.0                    2.0   \n",
       "89302                    3.0                    1.0                    8.0   \n",
       "89303                    6.0                    3.0                    2.0   \n",
       "89304                    3.0                    2.0                    1.0   \n",
       "\n",
       "       rides_previous_4_hour  rides_previous_3_hour  rides_previous_2_hour  \\\n",
       "0                        0.0                    0.0                    0.0   \n",
       "1                        0.0                    0.0                    0.0   \n",
       "2                        1.0                    0.0                    0.0   \n",
       "3                        0.0                    0.0                    0.0   \n",
       "4                        0.0                    0.0                    0.0   \n",
       "...                      ...                    ...                    ...   \n",
       "89300                    2.0                    3.0                    1.0   \n",
       "89301                    4.0                   10.0                    3.0   \n",
       "89302                    5.0                    1.0                    0.0   \n",
       "89303                    2.0                    5.0                    1.0   \n",
       "89304                    3.0                    5.0                    4.0   \n",
       "\n",
       "       rides_previous_1_hour  pickup_hour  pickup_location_id  \\\n",
       "0                        0.0   2023-01-29                   1   \n",
       "1                        0.0   2023-01-30                   1   \n",
       "2                        0.0   2023-01-31                   1   \n",
       "3                        0.0   2023-02-01                   1   \n",
       "4                        0.0   2023-02-02                   1   \n",
       "...                      ...          ...                 ...   \n",
       "89300                    3.0   2023-12-27                 265   \n",
       "89301                    3.0   2023-12-28                 265   \n",
       "89302                    6.0   2023-12-29                 265   \n",
       "89303                    5.0   2023-12-30                 265   \n",
       "89304                    0.0   2023-12-31                 265   \n",
       "\n",
       "       target_rides_next_hour  \n",
       "0                         0.0  \n",
       "1                         0.0  \n",
       "2                         0.0  \n",
       "3                         0.0  \n",
       "4                         0.0  \n",
       "...                       ...  \n",
       "89300                     3.0  \n",
       "89301                     1.0  \n",
       "89302                     5.0  \n",
       "89303                     2.0  \n",
       "89304                     3.0  \n",
       "\n",
       "[89305 rows x 675 columns]"
      ]
     },
     "execution_count": 4,
     "metadata": {},
     "output_type": "execute_result"
    }
   ],
   "source": [
    "df = pd.read_parquet(TRANSFORMED_DATA_DIR / 'tabular_data.parquet')\n",
    "df"
   ]
  },
  {
   "cell_type": "code",
   "execution_count": 5,
   "metadata": {},
   "outputs": [],
   "source": [
    "from src.data_split import train_test_split"
   ]
  },
  {
   "cell_type": "code",
   "execution_count": 6,
   "metadata": {},
   "outputs": [],
   "source": [
    "X_train, y_train, X_test, y_test = train_test_split(df, \n",
    "                                                    cutoff_date=datetime(2023, 6, 1, 0, 0, 0),\n",
    "                                                    target_column_name='target_rides_next_hour')"
   ]
  },
  {
   "cell_type": "code",
   "execution_count": 7,
   "metadata": {},
   "outputs": [
    {
     "name": "stdout",
     "output_type": "stream",
     "text": [
      "Datasets shapes\n",
      "X_train: (32595, 674)\n",
      "y_train: (32595,)\n",
      "X_test: (56710, 674)\n",
      "y_test: (56710,)\n"
     ]
    }
   ],
   "source": [
    "print(f'Datasets shapes')\n",
    "print(f'X_train: {X_train.shape}')\n",
    "print(f'y_train: {y_train.shape}')\n",
    "print(f'X_test: {X_test.shape}')\n",
    "print(f'y_test: {y_test.shape}')"
   ]
  },
  {
   "cell_type": "code",
   "execution_count": 8,
   "metadata": {},
   "outputs": [],
   "source": [
    "from src.model import get_pipeline"
   ]
  },
  {
   "cell_type": "code",
   "execution_count": 9,
   "metadata": {},
   "outputs": [],
   "source": [
    "def objective(trial: optuna.trial.Trial) -> float:\n",
    "\n",
    "    '''\n",
    "    Define the objective function to optimize the hyperparameters of the model\n",
    "    Split data into folds for training and validation\n",
    "    '''\n",
    "\n",
    "    # Define the hyperparameters to optimize\n",
    "    hyperparameters = {\n",
    "        'metric': 'mae',\n",
    "        'verbose': -1,\n",
    "        'num_leaves': trial.suggest_int('num_leaves', 2, 256),\n",
    "        'feature_fraction': trial.suggest_float('feature_fraction', 0.2, 1.0),\n",
    "        'bagging_fraction': trial.suggest_float('bagging_fraction', 0.2, 1.0),\n",
    "        'min_child_samples': trial.suggest_int('min_child_samples', 3, 100),\n",
    "    }\n",
    "\n",
    "    tss = KFold(n_splits=3)\n",
    "    scores = []\n",
    "\n",
    "    for train_index, val_index in tss.split(X_train):\n",
    "        # Split the data into training and validation sets\n",
    "        X_train_, X_val_ = X_train.iloc[train_index, :], X_train.iloc[val_index, :]\n",
    "        y_train_, y_val_ = y_train.iloc[train_index], y_train.iloc[val_index]\n",
    "\n",
    "        # Train the model\n",
    "        pipeline = get_pipeline(**hyperparameters)\n",
    "        pipeline.fit(X_train_, y_train_)\n",
    "\n",
    "        # Evaluate the model\n",
    "        y_pred = pipeline.predict(X_val_)\n",
    "        mae = mean_absolute_error(y_val_, y_pred)\n",
    "        scores.append(mae)\n",
    "\n",
    "    return np.array(scores).mean()"
   ]
  },
  {
   "cell_type": "code",
   "execution_count": 10,
   "metadata": {},
   "outputs": [
    {
     "name": "stderr",
     "output_type": "stream",
     "text": [
      "[I 2024-05-20 16:37:22,716] A new study created in memory with name: no-name-eed932b3-b1f8-45f8-8c29-99efca951263\n"
     ]
    },
    {
     "name": "stdout",
     "output_type": "stream",
     "text": [
      "[LightGBM] [Warning] bagging_fraction is set=0.392995726851379, subsample=1.0 will be ignored. Current value: bagging_fraction=0.392995726851379\n",
      "[LightGBM] [Warning] feature_fraction is set=0.47876925473391774, colsample_bytree=1.0 will be ignored. Current value: feature_fraction=0.47876925473391774\n",
      "[LightGBM] [Warning] bagging_fraction is set=0.392995726851379, subsample=1.0 will be ignored. Current value: bagging_fraction=0.392995726851379\n",
      "[LightGBM] [Warning] feature_fraction is set=0.47876925473391774, colsample_bytree=1.0 will be ignored. Current value: feature_fraction=0.47876925473391774\n",
      "[LightGBM] [Warning] bagging_fraction is set=0.392995726851379, subsample=1.0 will be ignored. Current value: bagging_fraction=0.392995726851379\n",
      "[LightGBM] [Warning] feature_fraction is set=0.47876925473391774, colsample_bytree=1.0 will be ignored. Current value: feature_fraction=0.47876925473391774\n"
     ]
    },
    {
     "name": "stderr",
     "output_type": "stream",
     "text": [
      "[I 2024-05-20 16:37:41,548] Trial 0 finished with value: 2.577514515351623 and parameters: {'num_leaves': 43, 'feature_fraction': 0.47876925473391774, 'bagging_fraction': 0.392995726851379, 'min_child_samples': 25}. Best is trial 0 with value: 2.577514515351623.\n"
     ]
    },
    {
     "name": "stdout",
     "output_type": "stream",
     "text": [
      "[LightGBM] [Warning] bagging_fraction is set=0.6112575881703828, subsample=1.0 will be ignored. Current value: bagging_fraction=0.6112575881703828\n",
      "[LightGBM] [Warning] feature_fraction is set=0.906609712394846, colsample_bytree=1.0 will be ignored. Current value: feature_fraction=0.906609712394846\n",
      "[LightGBM] [Warning] bagging_fraction is set=0.6112575881703828, subsample=1.0 will be ignored. Current value: bagging_fraction=0.6112575881703828\n",
      "[LightGBM] [Warning] feature_fraction is set=0.906609712394846, colsample_bytree=1.0 will be ignored. Current value: feature_fraction=0.906609712394846\n",
      "[LightGBM] [Warning] bagging_fraction is set=0.6112575881703828, subsample=1.0 will be ignored. Current value: bagging_fraction=0.6112575881703828\n",
      "[LightGBM] [Warning] feature_fraction is set=0.906609712394846, colsample_bytree=1.0 will be ignored. Current value: feature_fraction=0.906609712394846\n"
     ]
    },
    {
     "name": "stderr",
     "output_type": "stream",
     "text": [
      "[I 2024-05-20 16:38:01,098] Trial 1 finished with value: 2.581663449350201 and parameters: {'num_leaves': 40, 'feature_fraction': 0.906609712394846, 'bagging_fraction': 0.6112575881703828, 'min_child_samples': 14}. Best is trial 0 with value: 2.577514515351623.\n"
     ]
    },
    {
     "name": "stdout",
     "output_type": "stream",
     "text": [
      "[LightGBM] [Warning] bagging_fraction is set=0.43929307706667386, subsample=1.0 will be ignored. Current value: bagging_fraction=0.43929307706667386\n",
      "[LightGBM] [Warning] feature_fraction is set=0.5755546632987774, colsample_bytree=1.0 will be ignored. Current value: feature_fraction=0.5755546632987774\n",
      "[LightGBM] [Warning] bagging_fraction is set=0.43929307706667386, subsample=1.0 will be ignored. Current value: bagging_fraction=0.43929307706667386\n",
      "[LightGBM] [Warning] feature_fraction is set=0.5755546632987774, colsample_bytree=1.0 will be ignored. Current value: feature_fraction=0.5755546632987774\n",
      "[LightGBM] [Warning] bagging_fraction is set=0.43929307706667386, subsample=1.0 will be ignored. Current value: bagging_fraction=0.43929307706667386\n",
      "[LightGBM] [Warning] feature_fraction is set=0.5755546632987774, colsample_bytree=1.0 will be ignored. Current value: feature_fraction=0.5755546632987774\n"
     ]
    },
    {
     "name": "stderr",
     "output_type": "stream",
     "text": [
      "[I 2024-05-20 16:38:38,486] Trial 2 finished with value: 2.542230843063005 and parameters: {'num_leaves': 129, 'feature_fraction': 0.5755546632987774, 'bagging_fraction': 0.43929307706667386, 'min_child_samples': 78}. Best is trial 2 with value: 2.542230843063005.\n"
     ]
    },
    {
     "name": "stdout",
     "output_type": "stream",
     "text": [
      "[LightGBM] [Warning] bagging_fraction is set=0.2187912903094933, subsample=1.0 will be ignored. Current value: bagging_fraction=0.2187912903094933\n",
      "[LightGBM] [Warning] feature_fraction is set=0.8185558693539201, colsample_bytree=1.0 will be ignored. Current value: feature_fraction=0.8185558693539201\n",
      "[LightGBM] [Warning] bagging_fraction is set=0.2187912903094933, subsample=1.0 will be ignored. Current value: bagging_fraction=0.2187912903094933\n",
      "[LightGBM] [Warning] feature_fraction is set=0.8185558693539201, colsample_bytree=1.0 will be ignored. Current value: feature_fraction=0.8185558693539201\n",
      "[LightGBM] [Warning] bagging_fraction is set=0.2187912903094933, subsample=1.0 will be ignored. Current value: bagging_fraction=0.2187912903094933\n",
      "[LightGBM] [Warning] feature_fraction is set=0.8185558693539201, colsample_bytree=1.0 will be ignored. Current value: feature_fraction=0.8185558693539201\n"
     ]
    },
    {
     "name": "stderr",
     "output_type": "stream",
     "text": [
      "[I 2024-05-20 16:38:53,125] Trial 3 finished with value: 2.6295993038832104 and parameters: {'num_leaves': 21, 'feature_fraction': 0.8185558693539201, 'bagging_fraction': 0.2187912903094933, 'min_child_samples': 60}. Best is trial 2 with value: 2.542230843063005.\n"
     ]
    },
    {
     "name": "stdout",
     "output_type": "stream",
     "text": [
      "[LightGBM] [Warning] bagging_fraction is set=0.7786926241662051, subsample=1.0 will be ignored. Current value: bagging_fraction=0.7786926241662051\n",
      "[LightGBM] [Warning] feature_fraction is set=0.5150086614078015, colsample_bytree=1.0 will be ignored. Current value: feature_fraction=0.5150086614078015\n",
      "[LightGBM] [Warning] bagging_fraction is set=0.7786926241662051, subsample=1.0 will be ignored. Current value: bagging_fraction=0.7786926241662051\n",
      "[LightGBM] [Warning] feature_fraction is set=0.5150086614078015, colsample_bytree=1.0 will be ignored. Current value: feature_fraction=0.5150086614078015\n",
      "[LightGBM] [Warning] bagging_fraction is set=0.7786926241662051, subsample=1.0 will be ignored. Current value: bagging_fraction=0.7786926241662051\n",
      "[LightGBM] [Warning] feature_fraction is set=0.5150086614078015, colsample_bytree=1.0 will be ignored. Current value: feature_fraction=0.5150086614078015\n"
     ]
    },
    {
     "name": "stderr",
     "output_type": "stream",
     "text": [
      "[I 2024-05-20 16:39:35,186] Trial 4 finished with value: 2.6700693381401712 and parameters: {'num_leaves': 159, 'feature_fraction': 0.5150086614078015, 'bagging_fraction': 0.7786926241662051, 'min_child_samples': 10}. Best is trial 2 with value: 2.542230843063005.\n"
     ]
    },
    {
     "name": "stdout",
     "output_type": "stream",
     "text": [
      "[LightGBM] [Warning] bagging_fraction is set=0.7340821801343236, subsample=1.0 will be ignored. Current value: bagging_fraction=0.7340821801343236\n",
      "[LightGBM] [Warning] feature_fraction is set=0.24915944056927702, colsample_bytree=1.0 will be ignored. Current value: feature_fraction=0.24915944056927702\n",
      "[LightGBM] [Warning] bagging_fraction is set=0.7340821801343236, subsample=1.0 will be ignored. Current value: bagging_fraction=0.7340821801343236\n",
      "[LightGBM] [Warning] feature_fraction is set=0.24915944056927702, colsample_bytree=1.0 will be ignored. Current value: feature_fraction=0.24915944056927702\n",
      "[LightGBM] [Warning] bagging_fraction is set=0.7340821801343236, subsample=1.0 will be ignored. Current value: bagging_fraction=0.7340821801343236\n",
      "[LightGBM] [Warning] feature_fraction is set=0.24915944056927702, colsample_bytree=1.0 will be ignored. Current value: feature_fraction=0.24915944056927702\n"
     ]
    },
    {
     "name": "stderr",
     "output_type": "stream",
     "text": [
      "[I 2024-05-20 16:40:01,937] Trial 5 finished with value: 2.605184567174364 and parameters: {'num_leaves': 139, 'feature_fraction': 0.24915944056927702, 'bagging_fraction': 0.7340821801343236, 'min_child_samples': 56}. Best is trial 2 with value: 2.542230843063005.\n"
     ]
    },
    {
     "name": "stdout",
     "output_type": "stream",
     "text": [
      "[LightGBM] [Warning] bagging_fraction is set=0.3201090047069888, subsample=1.0 will be ignored. Current value: bagging_fraction=0.3201090047069888\n",
      "[LightGBM] [Warning] feature_fraction is set=0.632894097247408, colsample_bytree=1.0 will be ignored. Current value: feature_fraction=0.632894097247408\n",
      "[LightGBM] [Warning] bagging_fraction is set=0.3201090047069888, subsample=1.0 will be ignored. Current value: bagging_fraction=0.3201090047069888\n",
      "[LightGBM] [Warning] feature_fraction is set=0.632894097247408, colsample_bytree=1.0 will be ignored. Current value: feature_fraction=0.632894097247408\n",
      "[LightGBM] [Warning] bagging_fraction is set=0.3201090047069888, subsample=1.0 will be ignored. Current value: bagging_fraction=0.3201090047069888\n",
      "[LightGBM] [Warning] feature_fraction is set=0.632894097247408, colsample_bytree=1.0 will be ignored. Current value: feature_fraction=0.632894097247408\n"
     ]
    },
    {
     "name": "stderr",
     "output_type": "stream",
     "text": [
      "[I 2024-05-20 16:40:14,786] Trial 6 finished with value: 2.573158646445771 and parameters: {'num_leaves': 22, 'feature_fraction': 0.632894097247408, 'bagging_fraction': 0.3201090047069888, 'min_child_samples': 30}. Best is trial 2 with value: 2.542230843063005.\n"
     ]
    },
    {
     "name": "stdout",
     "output_type": "stream",
     "text": [
      "[LightGBM] [Warning] bagging_fraction is set=0.20786157810225464, subsample=1.0 will be ignored. Current value: bagging_fraction=0.20786157810225464\n",
      "[LightGBM] [Warning] feature_fraction is set=0.24932644202279466, colsample_bytree=1.0 will be ignored. Current value: feature_fraction=0.24932644202279466\n",
      "[LightGBM] [Warning] bagging_fraction is set=0.20786157810225464, subsample=1.0 will be ignored. Current value: bagging_fraction=0.20786157810225464\n",
      "[LightGBM] [Warning] feature_fraction is set=0.24932644202279466, colsample_bytree=1.0 will be ignored. Current value: feature_fraction=0.24932644202279466\n",
      "[LightGBM] [Warning] bagging_fraction is set=0.20786157810225464, subsample=1.0 will be ignored. Current value: bagging_fraction=0.20786157810225464\n",
      "[LightGBM] [Warning] feature_fraction is set=0.24932644202279466, colsample_bytree=1.0 will be ignored. Current value: feature_fraction=0.24932644202279466\n"
     ]
    },
    {
     "name": "stderr",
     "output_type": "stream",
     "text": [
      "[I 2024-05-20 16:40:40,836] Trial 7 finished with value: 2.8085906134535326 and parameters: {'num_leaves': 100, 'feature_fraction': 0.24932644202279466, 'bagging_fraction': 0.20786157810225464, 'min_child_samples': 7}. Best is trial 2 with value: 2.542230843063005.\n"
     ]
    },
    {
     "name": "stdout",
     "output_type": "stream",
     "text": [
      "[LightGBM] [Warning] bagging_fraction is set=0.4674680457238231, subsample=1.0 will be ignored. Current value: bagging_fraction=0.4674680457238231\n",
      "[LightGBM] [Warning] feature_fraction is set=0.5811984967026858, colsample_bytree=1.0 will be ignored. Current value: feature_fraction=0.5811984967026858\n",
      "[LightGBM] [Warning] bagging_fraction is set=0.4674680457238231, subsample=1.0 will be ignored. Current value: bagging_fraction=0.4674680457238231\n",
      "[LightGBM] [Warning] feature_fraction is set=0.5811984967026858, colsample_bytree=1.0 will be ignored. Current value: feature_fraction=0.5811984967026858\n",
      "[LightGBM] [Warning] bagging_fraction is set=0.4674680457238231, subsample=1.0 will be ignored. Current value: bagging_fraction=0.4674680457238231\n",
      "[LightGBM] [Warning] feature_fraction is set=0.5811984967026858, colsample_bytree=1.0 will be ignored. Current value: feature_fraction=0.5811984967026858\n"
     ]
    },
    {
     "name": "stderr",
     "output_type": "stream",
     "text": [
      "[I 2024-05-20 16:41:40,126] Trial 8 finished with value: 2.586254026637761 and parameters: {'num_leaves': 197, 'feature_fraction': 0.5811984967026858, 'bagging_fraction': 0.4674680457238231, 'min_child_samples': 57}. Best is trial 2 with value: 2.542230843063005.\n"
     ]
    },
    {
     "name": "stdout",
     "output_type": "stream",
     "text": [
      "[LightGBM] [Warning] bagging_fraction is set=0.9906985762765155, subsample=1.0 will be ignored. Current value: bagging_fraction=0.9906985762765155\n",
      "[LightGBM] [Warning] feature_fraction is set=0.8953447912109569, colsample_bytree=1.0 will be ignored. Current value: feature_fraction=0.8953447912109569\n",
      "[LightGBM] [Warning] bagging_fraction is set=0.9906985762765155, subsample=1.0 will be ignored. Current value: bagging_fraction=0.9906985762765155\n",
      "[LightGBM] [Warning] feature_fraction is set=0.8953447912109569, colsample_bytree=1.0 will be ignored. Current value: feature_fraction=0.8953447912109569\n",
      "[LightGBM] [Warning] bagging_fraction is set=0.9906985762765155, subsample=1.0 will be ignored. Current value: bagging_fraction=0.9906985762765155\n",
      "[LightGBM] [Warning] feature_fraction is set=0.8953447912109569, colsample_bytree=1.0 will be ignored. Current value: feature_fraction=0.8953447912109569\n"
     ]
    },
    {
     "name": "stderr",
     "output_type": "stream",
     "text": [
      "[I 2024-05-20 16:42:41,387] Trial 9 finished with value: 2.6729489674541536 and parameters: {'num_leaves': 182, 'feature_fraction': 0.8953447912109569, 'bagging_fraction': 0.9906985762765155, 'min_child_samples': 93}. Best is trial 2 with value: 2.542230843063005.\n"
     ]
    },
    {
     "name": "stdout",
     "output_type": "stream",
     "text": [
      "[LightGBM] [Warning] bagging_fraction is set=0.5346060193501665, subsample=1.0 will be ignored. Current value: bagging_fraction=0.5346060193501665\n",
      "[LightGBM] [Warning] feature_fraction is set=0.7239453667039697, colsample_bytree=1.0 will be ignored. Current value: feature_fraction=0.7239453667039697\n",
      "[LightGBM] [Warning] bagging_fraction is set=0.5346060193501665, subsample=1.0 will be ignored. Current value: bagging_fraction=0.5346060193501665\n",
      "[LightGBM] [Warning] feature_fraction is set=0.7239453667039697, colsample_bytree=1.0 will be ignored. Current value: feature_fraction=0.7239453667039697\n",
      "[LightGBM] [Warning] bagging_fraction is set=0.5346060193501665, subsample=1.0 will be ignored. Current value: bagging_fraction=0.5346060193501665\n",
      "[LightGBM] [Warning] feature_fraction is set=0.7239453667039697, colsample_bytree=1.0 will be ignored. Current value: feature_fraction=0.7239453667039697\n"
     ]
    },
    {
     "name": "stderr",
     "output_type": "stream",
     "text": [
      "[I 2024-05-20 16:43:37,567] Trial 10 finished with value: 2.6330069211025897 and parameters: {'num_leaves': 251, 'feature_fraction': 0.7239453667039697, 'bagging_fraction': 0.5346060193501665, 'min_child_samples': 92}. Best is trial 2 with value: 2.542230843063005.\n"
     ]
    },
    {
     "name": "stdout",
     "output_type": "stream",
     "text": [
      "[LightGBM] [Warning] bagging_fraction is set=0.35923500638534905, subsample=1.0 will be ignored. Current value: bagging_fraction=0.35923500638534905\n",
      "[LightGBM] [Warning] feature_fraction is set=0.6700229109842757, colsample_bytree=1.0 will be ignored. Current value: feature_fraction=0.6700229109842757\n",
      "[LightGBM] [Warning] bagging_fraction is set=0.35923500638534905, subsample=1.0 will be ignored. Current value: bagging_fraction=0.35923500638534905\n",
      "[LightGBM] [Warning] feature_fraction is set=0.6700229109842757, colsample_bytree=1.0 will be ignored. Current value: feature_fraction=0.6700229109842757\n",
      "[LightGBM] [Warning] bagging_fraction is set=0.35923500638534905, subsample=1.0 will be ignored. Current value: bagging_fraction=0.35923500638534905\n",
      "[LightGBM] [Warning] feature_fraction is set=0.6700229109842757, colsample_bytree=1.0 will be ignored. Current value: feature_fraction=0.6700229109842757\n"
     ]
    },
    {
     "name": "stderr",
     "output_type": "stream",
     "text": [
      "[I 2024-05-20 16:44:17,233] Trial 11 finished with value: 2.6640769942675253 and parameters: {'num_leaves': 90, 'feature_fraction': 0.6700229109842757, 'bagging_fraction': 0.35923500638534905, 'min_child_samples': 36}. Best is trial 2 with value: 2.542230843063005.\n"
     ]
    },
    {
     "name": "stdout",
     "output_type": "stream",
     "text": [
      "[LightGBM] [Warning] bagging_fraction is set=0.33743353293643674, subsample=1.0 will be ignored. Current value: bagging_fraction=0.33743353293643674\n",
      "[LightGBM] [Warning] feature_fraction is set=0.424098256113811, colsample_bytree=1.0 will be ignored. Current value: feature_fraction=0.424098256113811\n",
      "[LightGBM] [Warning] bagging_fraction is set=0.33743353293643674, subsample=1.0 will be ignored. Current value: bagging_fraction=0.33743353293643674\n",
      "[LightGBM] [Warning] feature_fraction is set=0.424098256113811, colsample_bytree=1.0 will be ignored. Current value: feature_fraction=0.424098256113811\n",
      "[LightGBM] [Warning] bagging_fraction is set=0.33743353293643674, subsample=1.0 will be ignored. Current value: bagging_fraction=0.33743353293643674\n",
      "[LightGBM] [Warning] feature_fraction is set=0.424098256113811, colsample_bytree=1.0 will be ignored. Current value: feature_fraction=0.424098256113811\n"
     ]
    },
    {
     "name": "stderr",
     "output_type": "stream",
     "text": [
      "[I 2024-05-20 16:44:55,142] Trial 12 finished with value: 2.5633237257640995 and parameters: {'num_leaves': 92, 'feature_fraction': 0.424098256113811, 'bagging_fraction': 0.33743353293643674, 'min_child_samples': 79}. Best is trial 2 with value: 2.542230843063005.\n"
     ]
    },
    {
     "name": "stdout",
     "output_type": "stream",
     "text": [
      "[LightGBM] [Warning] bagging_fraction is set=0.4990001845676455, subsample=1.0 will be ignored. Current value: bagging_fraction=0.4990001845676455\n",
      "[LightGBM] [Warning] feature_fraction is set=0.37955510024356015, colsample_bytree=1.0 will be ignored. Current value: feature_fraction=0.37955510024356015\n",
      "[LightGBM] [Warning] bagging_fraction is set=0.4990001845676455, subsample=1.0 will be ignored. Current value: bagging_fraction=0.4990001845676455\n",
      "[LightGBM] [Warning] feature_fraction is set=0.37955510024356015, colsample_bytree=1.0 will be ignored. Current value: feature_fraction=0.37955510024356015\n",
      "[LightGBM] [Warning] bagging_fraction is set=0.4990001845676455, subsample=1.0 will be ignored. Current value: bagging_fraction=0.4990001845676455\n",
      "[LightGBM] [Warning] feature_fraction is set=0.37955510024356015, colsample_bytree=1.0 will be ignored. Current value: feature_fraction=0.37955510024356015\n"
     ]
    },
    {
     "name": "stderr",
     "output_type": "stream",
     "text": [
      "[I 2024-05-20 16:45:28,521] Trial 13 finished with value: 2.5588392052752504 and parameters: {'num_leaves': 93, 'feature_fraction': 0.37955510024356015, 'bagging_fraction': 0.4990001845676455, 'min_child_samples': 76}. Best is trial 2 with value: 2.542230843063005.\n"
     ]
    },
    {
     "name": "stdout",
     "output_type": "stream",
     "text": [
      "[LightGBM] [Warning] bagging_fraction is set=0.629887575697178, subsample=1.0 will be ignored. Current value: bagging_fraction=0.629887575697178\n",
      "[LightGBM] [Warning] feature_fraction is set=0.3472596440200228, colsample_bytree=1.0 will be ignored. Current value: feature_fraction=0.3472596440200228\n",
      "[LightGBM] [Warning] bagging_fraction is set=0.629887575697178, subsample=1.0 will be ignored. Current value: bagging_fraction=0.629887575697178\n",
      "[LightGBM] [Warning] feature_fraction is set=0.3472596440200228, colsample_bytree=1.0 will be ignored. Current value: feature_fraction=0.3472596440200228\n",
      "[LightGBM] [Warning] bagging_fraction is set=0.629887575697178, subsample=1.0 will be ignored. Current value: bagging_fraction=0.629887575697178\n",
      "[LightGBM] [Warning] feature_fraction is set=0.3472596440200228, colsample_bytree=1.0 will be ignored. Current value: feature_fraction=0.3472596440200228\n"
     ]
    },
    {
     "name": "stderr",
     "output_type": "stream",
     "text": [
      "[I 2024-05-20 16:46:04,019] Trial 14 finished with value: 2.5500032404881408 and parameters: {'num_leaves': 118, 'feature_fraction': 0.3472596440200228, 'bagging_fraction': 0.629887575697178, 'min_child_samples': 74}. Best is trial 2 with value: 2.542230843063005.\n"
     ]
    },
    {
     "name": "stdout",
     "output_type": "stream",
     "text": [
      "[LightGBM] [Warning] bagging_fraction is set=0.6518949052356413, subsample=1.0 will be ignored. Current value: bagging_fraction=0.6518949052356413\n",
      "[LightGBM] [Warning] feature_fraction is set=0.34370711983837865, colsample_bytree=1.0 will be ignored. Current value: feature_fraction=0.34370711983837865\n",
      "[LightGBM] [Warning] bagging_fraction is set=0.6518949052356413, subsample=1.0 will be ignored. Current value: bagging_fraction=0.6518949052356413\n",
      "[LightGBM] [Warning] feature_fraction is set=0.34370711983837865, colsample_bytree=1.0 will be ignored. Current value: feature_fraction=0.34370711983837865\n",
      "[LightGBM] [Warning] bagging_fraction is set=0.6518949052356413, subsample=1.0 will be ignored. Current value: bagging_fraction=0.6518949052356413\n",
      "[LightGBM] [Warning] feature_fraction is set=0.34370711983837865, colsample_bytree=1.0 will be ignored. Current value: feature_fraction=0.34370711983837865\n"
     ]
    },
    {
     "name": "stderr",
     "output_type": "stream",
     "text": [
      "[I 2024-05-20 16:46:30,268] Trial 15 finished with value: 2.5602598642312047 and parameters: {'num_leaves': 129, 'feature_fraction': 0.34370711983837865, 'bagging_fraction': 0.6518949052356413, 'min_child_samples': 74}. Best is trial 2 with value: 2.542230843063005.\n"
     ]
    },
    {
     "name": "stdout",
     "output_type": "stream",
     "text": [
      "[LightGBM] [Warning] bagging_fraction is set=0.8593254219840017, subsample=1.0 will be ignored. Current value: bagging_fraction=0.8593254219840017\n",
      "[LightGBM] [Warning] feature_fraction is set=0.5411679979097194, colsample_bytree=1.0 will be ignored. Current value: feature_fraction=0.5411679979097194\n",
      "[LightGBM] [Warning] bagging_fraction is set=0.8593254219840017, subsample=1.0 will be ignored. Current value: bagging_fraction=0.8593254219840017\n",
      "[LightGBM] [Warning] feature_fraction is set=0.5411679979097194, colsample_bytree=1.0 will be ignored. Current value: feature_fraction=0.5411679979097194\n",
      "[LightGBM] [Warning] bagging_fraction is set=0.8593254219840017, subsample=1.0 will be ignored. Current value: bagging_fraction=0.8593254219840017\n",
      "[LightGBM] [Warning] feature_fraction is set=0.5411679979097194, colsample_bytree=1.0 will be ignored. Current value: feature_fraction=0.5411679979097194\n"
     ]
    },
    {
     "name": "stderr",
     "output_type": "stream",
     "text": [
      "[I 2024-05-20 16:47:13,485] Trial 16 finished with value: 2.606771499206605 and parameters: {'num_leaves': 217, 'feature_fraction': 0.5411679979097194, 'bagging_fraction': 0.8593254219840017, 'min_child_samples': 67}. Best is trial 2 with value: 2.542230843063005.\n"
     ]
    },
    {
     "name": "stdout",
     "output_type": "stream",
     "text": [
      "[LightGBM] [Warning] bagging_fraction is set=0.6850332563738305, subsample=1.0 will be ignored. Current value: bagging_fraction=0.6850332563738305\n",
      "[LightGBM] [Warning] feature_fraction is set=0.20026889914972587, colsample_bytree=1.0 will be ignored. Current value: feature_fraction=0.20026889914972587\n",
      "[LightGBM] [Warning] bagging_fraction is set=0.6850332563738305, subsample=1.0 will be ignored. Current value: bagging_fraction=0.6850332563738305\n",
      "[LightGBM] [Warning] feature_fraction is set=0.20026889914972587, colsample_bytree=1.0 will be ignored. Current value: feature_fraction=0.20026889914972587\n",
      "[LightGBM] [Warning] bagging_fraction is set=0.6850332563738305, subsample=1.0 will be ignored. Current value: bagging_fraction=0.6850332563738305\n",
      "[LightGBM] [Warning] feature_fraction is set=0.20026889914972587, colsample_bytree=1.0 will be ignored. Current value: feature_fraction=0.20026889914972587\n"
     ]
    },
    {
     "name": "stderr",
     "output_type": "stream",
     "text": [
      "[I 2024-05-20 16:47:38,703] Trial 17 finished with value: 2.6319884239295916 and parameters: {'num_leaves': 122, 'feature_fraction': 0.20026889914972587, 'bagging_fraction': 0.6850332563738305, 'min_child_samples': 46}. Best is trial 2 with value: 2.542230843063005.\n"
     ]
    },
    {
     "name": "stdout",
     "output_type": "stream",
     "text": [
      "[LightGBM] [Warning] bagging_fraction is set=0.5592009159878144, subsample=1.0 will be ignored. Current value: bagging_fraction=0.5592009159878144\n",
      "[LightGBM] [Warning] feature_fraction is set=0.7505058270955256, colsample_bytree=1.0 will be ignored. Current value: feature_fraction=0.7505058270955256\n",
      "[LightGBM] [Warning] bagging_fraction is set=0.5592009159878144, subsample=1.0 will be ignored. Current value: bagging_fraction=0.5592009159878144\n",
      "[LightGBM] [Warning] feature_fraction is set=0.7505058270955256, colsample_bytree=1.0 will be ignored. Current value: feature_fraction=0.7505058270955256\n",
      "[LightGBM] [Warning] bagging_fraction is set=0.5592009159878144, subsample=1.0 will be ignored. Current value: bagging_fraction=0.5592009159878144\n",
      "[LightGBM] [Warning] feature_fraction is set=0.7505058270955256, colsample_bytree=1.0 will be ignored. Current value: feature_fraction=0.7505058270955256\n"
     ]
    },
    {
     "name": "stderr",
     "output_type": "stream",
     "text": [
      "[I 2024-05-20 16:48:07,370] Trial 18 finished with value: 2.6358607231132885 and parameters: {'num_leaves': 67, 'feature_fraction': 0.7505058270955256, 'bagging_fraction': 0.5592009159878144, 'min_child_samples': 85}. Best is trial 2 with value: 2.542230843063005.\n"
     ]
    },
    {
     "name": "stdout",
     "output_type": "stream",
     "text": [
      "[LightGBM] [Warning] bagging_fraction is set=0.4382813248407061, subsample=1.0 will be ignored. Current value: bagging_fraction=0.4382813248407061\n",
      "[LightGBM] [Warning] feature_fraction is set=0.3454175586095911, colsample_bytree=1.0 will be ignored. Current value: feature_fraction=0.3454175586095911\n",
      "[LightGBM] [Warning] bagging_fraction is set=0.4382813248407061, subsample=1.0 will be ignored. Current value: bagging_fraction=0.4382813248407061\n",
      "[LightGBM] [Warning] feature_fraction is set=0.3454175586095911, colsample_bytree=1.0 will be ignored. Current value: feature_fraction=0.3454175586095911\n",
      "[LightGBM] [Warning] bagging_fraction is set=0.4382813248407061, subsample=1.0 will be ignored. Current value: bagging_fraction=0.4382813248407061\n",
      "[LightGBM] [Warning] feature_fraction is set=0.3454175586095911, colsample_bytree=1.0 will be ignored. Current value: feature_fraction=0.3454175586095911\n"
     ]
    },
    {
     "name": "stderr",
     "output_type": "stream",
     "text": [
      "[I 2024-05-20 16:48:37,759] Trial 19 finished with value: 2.5990901025563216 and parameters: {'num_leaves': 166, 'feature_fraction': 0.3454175586095911, 'bagging_fraction': 0.4382813248407061, 'min_child_samples': 45}. Best is trial 2 with value: 2.542230843063005.\n"
     ]
    },
    {
     "name": "stdout",
     "output_type": "stream",
     "text": [
      "[LightGBM] [Warning] bagging_fraction is set=0.8946247759211808, subsample=1.0 will be ignored. Current value: bagging_fraction=0.8946247759211808\n",
      "[LightGBM] [Warning] feature_fraction is set=0.49445515404834345, colsample_bytree=1.0 will be ignored. Current value: feature_fraction=0.49445515404834345\n",
      "[LightGBM] [Warning] bagging_fraction is set=0.8946247759211808, subsample=1.0 will be ignored. Current value: bagging_fraction=0.8946247759211808\n",
      "[LightGBM] [Warning] feature_fraction is set=0.49445515404834345, colsample_bytree=1.0 will be ignored. Current value: feature_fraction=0.49445515404834345\n",
      "[LightGBM] [Warning] bagging_fraction is set=0.8946247759211808, subsample=1.0 will be ignored. Current value: bagging_fraction=0.8946247759211808\n",
      "[LightGBM] [Warning] feature_fraction is set=0.49445515404834345, colsample_bytree=1.0 will be ignored. Current value: feature_fraction=0.49445515404834345\n"
     ]
    },
    {
     "name": "stderr",
     "output_type": "stream",
     "text": [
      "[I 2024-05-20 16:49:10,213] Trial 20 finished with value: 2.6554415132142064 and parameters: {'num_leaves': 153, 'feature_fraction': 0.49445515404834345, 'bagging_fraction': 0.8946247759211808, 'min_child_samples': 100}. Best is trial 2 with value: 2.542230843063005.\n"
     ]
    },
    {
     "name": "stdout",
     "output_type": "stream",
     "text": [
      "[LightGBM] [Warning] bagging_fraction is set=0.5055243353303526, subsample=1.0 will be ignored. Current value: bagging_fraction=0.5055243353303526\n",
      "[LightGBM] [Warning] feature_fraction is set=0.3730179876180231, colsample_bytree=1.0 will be ignored. Current value: feature_fraction=0.3730179876180231\n",
      "[LightGBM] [Warning] bagging_fraction is set=0.5055243353303526, subsample=1.0 will be ignored. Current value: bagging_fraction=0.5055243353303526\n",
      "[LightGBM] [Warning] feature_fraction is set=0.3730179876180231, colsample_bytree=1.0 will be ignored. Current value: feature_fraction=0.3730179876180231\n",
      "[LightGBM] [Warning] bagging_fraction is set=0.5055243353303526, subsample=1.0 will be ignored. Current value: bagging_fraction=0.5055243353303526\n",
      "[LightGBM] [Warning] feature_fraction is set=0.3730179876180231, colsample_bytree=1.0 will be ignored. Current value: feature_fraction=0.3730179876180231\n"
     ]
    },
    {
     "name": "stderr",
     "output_type": "stream",
     "text": [
      "[I 2024-05-20 16:49:35,365] Trial 21 finished with value: 2.580576940601647 and parameters: {'num_leaves': 115, 'feature_fraction': 0.3730179876180231, 'bagging_fraction': 0.5055243353303526, 'min_child_samples': 73}. Best is trial 2 with value: 2.542230843063005.\n"
     ]
    },
    {
     "name": "stdout",
     "output_type": "stream",
     "text": [
      "[LightGBM] [Warning] bagging_fraction is set=0.5915472428346458, subsample=1.0 will be ignored. Current value: bagging_fraction=0.5915472428346458\n",
      "[LightGBM] [Warning] feature_fraction is set=0.41822514178069914, colsample_bytree=1.0 will be ignored. Current value: feature_fraction=0.41822514178069914\n",
      "[LightGBM] [Warning] bagging_fraction is set=0.5915472428346458, subsample=1.0 will be ignored. Current value: bagging_fraction=0.5915472428346458\n",
      "[LightGBM] [Warning] feature_fraction is set=0.41822514178069914, colsample_bytree=1.0 will be ignored. Current value: feature_fraction=0.41822514178069914\n",
      "[LightGBM] [Warning] bagging_fraction is set=0.5915472428346458, subsample=1.0 will be ignored. Current value: bagging_fraction=0.5915472428346458\n",
      "[LightGBM] [Warning] feature_fraction is set=0.41822514178069914, colsample_bytree=1.0 will be ignored. Current value: feature_fraction=0.41822514178069914\n"
     ]
    },
    {
     "name": "stderr",
     "output_type": "stream",
     "text": [
      "[I 2024-05-20 16:50:01,955] Trial 22 finished with value: 2.5504824193271176 and parameters: {'num_leaves': 72, 'feature_fraction': 0.41822514178069914, 'bagging_fraction': 0.5915472428346458, 'min_child_samples': 66}. Best is trial 2 with value: 2.542230843063005.\n"
     ]
    },
    {
     "name": "stdout",
     "output_type": "stream",
     "text": [
      "[LightGBM] [Warning] bagging_fraction is set=0.6296587761075991, subsample=1.0 will be ignored. Current value: bagging_fraction=0.6296587761075991\n",
      "[LightGBM] [Warning] feature_fraction is set=0.44078603835242725, colsample_bytree=1.0 will be ignored. Current value: feature_fraction=0.44078603835242725\n",
      "[LightGBM] [Warning] bagging_fraction is set=0.6296587761075991, subsample=1.0 will be ignored. Current value: bagging_fraction=0.6296587761075991\n",
      "[LightGBM] [Warning] feature_fraction is set=0.44078603835242725, colsample_bytree=1.0 will be ignored. Current value: feature_fraction=0.44078603835242725\n",
      "[LightGBM] [Warning] bagging_fraction is set=0.6296587761075991, subsample=1.0 will be ignored. Current value: bagging_fraction=0.6296587761075991\n",
      "[LightGBM] [Warning] feature_fraction is set=0.44078603835242725, colsample_bytree=1.0 will be ignored. Current value: feature_fraction=0.44078603835242725\n"
     ]
    },
    {
     "name": "stderr",
     "output_type": "stream",
     "text": [
      "[I 2024-05-20 16:50:25,637] Trial 23 finished with value: 2.548838507731353 and parameters: {'num_leaves': 66, 'feature_fraction': 0.44078603835242725, 'bagging_fraction': 0.6296587761075991, 'min_child_samples': 64}. Best is trial 2 with value: 2.542230843063005.\n"
     ]
    },
    {
     "name": "stdout",
     "output_type": "stream",
     "text": [
      "[LightGBM] [Warning] bagging_fraction is set=0.6938431093143316, subsample=1.0 will be ignored. Current value: bagging_fraction=0.6938431093143316\n",
      "[LightGBM] [Warning] feature_fraction is set=0.29170467838637754, colsample_bytree=1.0 will be ignored. Current value: feature_fraction=0.29170467838637754\n",
      "[LightGBM] [Warning] bagging_fraction is set=0.6938431093143316, subsample=1.0 will be ignored. Current value: bagging_fraction=0.6938431093143316\n",
      "[LightGBM] [Warning] feature_fraction is set=0.29170467838637754, colsample_bytree=1.0 will be ignored. Current value: feature_fraction=0.29170467838637754\n",
      "[LightGBM] [Warning] bagging_fraction is set=0.6938431093143316, subsample=1.0 will be ignored. Current value: bagging_fraction=0.6938431093143316\n",
      "[LightGBM] [Warning] feature_fraction is set=0.29170467838637754, colsample_bytree=1.0 will be ignored. Current value: feature_fraction=0.29170467838637754\n"
     ]
    },
    {
     "name": "stderr",
     "output_type": "stream",
     "text": [
      "[I 2024-05-20 16:50:44,494] Trial 24 finished with value: 2.5874265503062044 and parameters: {'num_leaves': 56, 'feature_fraction': 0.29170467838637754, 'bagging_fraction': 0.6938431093143316, 'min_child_samples': 84}. Best is trial 2 with value: 2.542230843063005.\n"
     ]
    },
    {
     "name": "stdout",
     "output_type": "stream",
     "text": [
      "[LightGBM] [Warning] bagging_fraction is set=0.773706867245351, subsample=1.0 will be ignored. Current value: bagging_fraction=0.773706867245351\n",
      "[LightGBM] [Warning] feature_fraction is set=0.4505420991346856, colsample_bytree=1.0 will be ignored. Current value: feature_fraction=0.4505420991346856\n",
      "[LightGBM] [Warning] bagging_fraction is set=0.773706867245351, subsample=1.0 will be ignored. Current value: bagging_fraction=0.773706867245351\n",
      "[LightGBM] [Warning] feature_fraction is set=0.4505420991346856, colsample_bytree=1.0 will be ignored. Current value: feature_fraction=0.4505420991346856\n",
      "[LightGBM] [Warning] bagging_fraction is set=0.773706867245351, subsample=1.0 will be ignored. Current value: bagging_fraction=0.773706867245351\n",
      "[LightGBM] [Warning] feature_fraction is set=0.4505420991346856, colsample_bytree=1.0 will be ignored. Current value: feature_fraction=0.4505420991346856\n"
     ]
    },
    {
     "name": "stderr",
     "output_type": "stream",
     "text": [
      "[I 2024-05-20 16:51:19,425] Trial 25 finished with value: 2.537900371330329 and parameters: {'num_leaves': 108, 'feature_fraction': 0.4505420991346856, 'bagging_fraction': 0.773706867245351, 'min_child_samples': 65}. Best is trial 25 with value: 2.537900371330329.\n"
     ]
    },
    {
     "name": "stdout",
     "output_type": "stream",
     "text": [
      "[LightGBM] [Warning] bagging_fraction is set=0.8149561940703273, subsample=1.0 will be ignored. Current value: bagging_fraction=0.8149561940703273\n",
      "[LightGBM] [Warning] feature_fraction is set=0.5830872084248272, colsample_bytree=1.0 will be ignored. Current value: feature_fraction=0.5830872084248272\n",
      "[LightGBM] [Warning] bagging_fraction is set=0.8149561940703273, subsample=1.0 will be ignored. Current value: bagging_fraction=0.8149561940703273\n",
      "[LightGBM] [Warning] feature_fraction is set=0.5830872084248272, colsample_bytree=1.0 will be ignored. Current value: feature_fraction=0.5830872084248272\n",
      "[LightGBM] [Warning] bagging_fraction is set=0.8149561940703273, subsample=1.0 will be ignored. Current value: bagging_fraction=0.8149561940703273\n",
      "[LightGBM] [Warning] feature_fraction is set=0.5830872084248272, colsample_bytree=1.0 will be ignored. Current value: feature_fraction=0.5830872084248272\n"
     ]
    },
    {
     "name": "stderr",
     "output_type": "stream",
     "text": [
      "[I 2024-05-20 16:51:31,755] Trial 26 finished with value: 2.6981584210951453 and parameters: {'num_leaves': 8, 'feature_fraction': 0.5830872084248272, 'bagging_fraction': 0.8149561940703273, 'min_child_samples': 66}. Best is trial 25 with value: 2.537900371330329.\n"
     ]
    },
    {
     "name": "stdout",
     "output_type": "stream",
     "text": [
      "[LightGBM] [Warning] bagging_fraction is set=0.7329640598631231, subsample=1.0 will be ignored. Current value: bagging_fraction=0.7329640598631231\n",
      "[LightGBM] [Warning] feature_fraction is set=0.4463226133482249, colsample_bytree=1.0 will be ignored. Current value: feature_fraction=0.4463226133482249\n",
      "[LightGBM] [Warning] bagging_fraction is set=0.7329640598631231, subsample=1.0 will be ignored. Current value: bagging_fraction=0.7329640598631231\n",
      "[LightGBM] [Warning] feature_fraction is set=0.4463226133482249, colsample_bytree=1.0 will be ignored. Current value: feature_fraction=0.4463226133482249\n",
      "[LightGBM] [Warning] bagging_fraction is set=0.7329640598631231, subsample=1.0 will be ignored. Current value: bagging_fraction=0.7329640598631231\n",
      "[LightGBM] [Warning] feature_fraction is set=0.4463226133482249, colsample_bytree=1.0 will be ignored. Current value: feature_fraction=0.4463226133482249\n"
     ]
    },
    {
     "name": "stderr",
     "output_type": "stream",
     "text": [
      "[I 2024-05-20 16:51:58,617] Trial 27 finished with value: 2.6020539574816666 and parameters: {'num_leaves': 79, 'feature_fraction': 0.4463226133482249, 'bagging_fraction': 0.7329640598631231, 'min_child_samples': 50}. Best is trial 25 with value: 2.537900371330329.\n"
     ]
    },
    {
     "name": "stdout",
     "output_type": "stream",
     "text": [
      "[LightGBM] [Warning] bagging_fraction is set=0.9360948650642007, subsample=1.0 will be ignored. Current value: bagging_fraction=0.9360948650642007\n",
      "[LightGBM] [Warning] feature_fraction is set=0.5512331424922793, colsample_bytree=1.0 will be ignored. Current value: feature_fraction=0.5512331424922793\n",
      "[LightGBM] [Warning] bagging_fraction is set=0.9360948650642007, subsample=1.0 will be ignored. Current value: bagging_fraction=0.9360948650642007\n",
      "[LightGBM] [Warning] feature_fraction is set=0.5512331424922793, colsample_bytree=1.0 will be ignored. Current value: feature_fraction=0.5512331424922793\n",
      "[LightGBM] [Warning] bagging_fraction is set=0.9360948650642007, subsample=1.0 will be ignored. Current value: bagging_fraction=0.9360948650642007\n",
      "[LightGBM] [Warning] feature_fraction is set=0.5512331424922793, colsample_bytree=1.0 will be ignored. Current value: feature_fraction=0.5512331424922793\n"
     ]
    },
    {
     "name": "stderr",
     "output_type": "stream",
     "text": [
      "[I 2024-05-20 16:52:45,849] Trial 28 finished with value: 2.6054210012142653 and parameters: {'num_leaves': 147, 'feature_fraction': 0.5512331424922793, 'bagging_fraction': 0.9360948650642007, 'min_child_samples': 62}. Best is trial 25 with value: 2.537900371330329.\n"
     ]
    },
    {
     "name": "stdout",
     "output_type": "stream",
     "text": [
      "[LightGBM] [Warning] bagging_fraction is set=0.4311447078276227, subsample=1.0 will be ignored. Current value: bagging_fraction=0.4311447078276227\n",
      "[LightGBM] [Warning] feature_fraction is set=0.4741297149653599, colsample_bytree=1.0 will be ignored. Current value: feature_fraction=0.4741297149653599\n",
      "[LightGBM] [Warning] bagging_fraction is set=0.4311447078276227, subsample=1.0 will be ignored. Current value: bagging_fraction=0.4311447078276227\n",
      "[LightGBM] [Warning] feature_fraction is set=0.4741297149653599, colsample_bytree=1.0 will be ignored. Current value: feature_fraction=0.4741297149653599\n",
      "[LightGBM] [Warning] bagging_fraction is set=0.4311447078276227, subsample=1.0 will be ignored. Current value: bagging_fraction=0.4311447078276227\n",
      "[LightGBM] [Warning] feature_fraction is set=0.4741297149653599, colsample_bytree=1.0 will be ignored. Current value: feature_fraction=0.4741297149653599\n"
     ]
    },
    {
     "name": "stderr",
     "output_type": "stream",
     "text": [
      "[I 2024-05-20 16:53:15,625] Trial 29 finished with value: 2.6595834891440653 and parameters: {'num_leaves': 109, 'feature_fraction': 0.4741297149653599, 'bagging_fraction': 0.4311447078276227, 'min_child_samples': 41}. Best is trial 25 with value: 2.537900371330329.\n"
     ]
    },
    {
     "name": "stdout",
     "output_type": "stream",
     "text": [
      "[LightGBM] [Warning] bagging_fraction is set=0.2767716554287081, subsample=1.0 will be ignored. Current value: bagging_fraction=0.2767716554287081\n",
      "[LightGBM] [Warning] feature_fraction is set=0.9952575838144114, colsample_bytree=1.0 will be ignored. Current value: feature_fraction=0.9952575838144114\n",
      "[LightGBM] [Warning] bagging_fraction is set=0.2767716554287081, subsample=1.0 will be ignored. Current value: bagging_fraction=0.2767716554287081\n",
      "[LightGBM] [Warning] feature_fraction is set=0.9952575838144114, colsample_bytree=1.0 will be ignored. Current value: feature_fraction=0.9952575838144114\n",
      "[LightGBM] [Warning] bagging_fraction is set=0.2767716554287081, subsample=1.0 will be ignored. Current value: bagging_fraction=0.2767716554287081\n",
      "[LightGBM] [Warning] feature_fraction is set=0.9952575838144114, colsample_bytree=1.0 will be ignored. Current value: feature_fraction=0.9952575838144114\n"
     ]
    },
    {
     "name": "stderr",
     "output_type": "stream",
     "text": [
      "[I 2024-05-20 16:53:40,668] Trial 30 finished with value: 2.666498187535104 and parameters: {'num_leaves': 46, 'feature_fraction': 0.9952575838144114, 'bagging_fraction': 0.2767716554287081, 'min_child_samples': 53}. Best is trial 25 with value: 2.537900371330329.\n"
     ]
    },
    {
     "name": "stdout",
     "output_type": "stream",
     "text": [
      "[LightGBM] [Warning] bagging_fraction is set=0.6251255520220468, subsample=1.0 will be ignored. Current value: bagging_fraction=0.6251255520220468\n",
      "[LightGBM] [Warning] feature_fraction is set=0.4677557672769279, colsample_bytree=1.0 will be ignored. Current value: feature_fraction=0.4677557672769279\n",
      "[LightGBM] [Warning] bagging_fraction is set=0.6251255520220468, subsample=1.0 will be ignored. Current value: bagging_fraction=0.6251255520220468\n",
      "[LightGBM] [Warning] feature_fraction is set=0.4677557672769279, colsample_bytree=1.0 will be ignored. Current value: feature_fraction=0.4677557672769279\n",
      "[LightGBM] [Warning] bagging_fraction is set=0.6251255520220468, subsample=1.0 will be ignored. Current value: bagging_fraction=0.6251255520220468\n",
      "[LightGBM] [Warning] feature_fraction is set=0.4677557672769279, colsample_bytree=1.0 will be ignored. Current value: feature_fraction=0.4677557672769279\n"
     ]
    },
    {
     "name": "stderr",
     "output_type": "stream",
     "text": [
      "[I 2024-05-20 16:54:17,321] Trial 31 finished with value: 2.56266431995001 and parameters: {'num_leaves': 135, 'feature_fraction': 0.4677557672769279, 'bagging_fraction': 0.6251255520220468, 'min_child_samples': 70}. Best is trial 25 with value: 2.537900371330329.\n"
     ]
    },
    {
     "name": "stdout",
     "output_type": "stream",
     "text": [
      "[LightGBM] [Warning] bagging_fraction is set=0.7905579987217446, subsample=1.0 will be ignored. Current value: bagging_fraction=0.7905579987217446\n",
      "[LightGBM] [Warning] feature_fraction is set=0.6274565145921149, colsample_bytree=1.0 will be ignored. Current value: feature_fraction=0.6274565145921149\n",
      "[LightGBM] [Warning] bagging_fraction is set=0.7905579987217446, subsample=1.0 will be ignored. Current value: bagging_fraction=0.7905579987217446\n",
      "[LightGBM] [Warning] feature_fraction is set=0.6274565145921149, colsample_bytree=1.0 will be ignored. Current value: feature_fraction=0.6274565145921149\n",
      "[LightGBM] [Warning] bagging_fraction is set=0.7905579987217446, subsample=1.0 will be ignored. Current value: bagging_fraction=0.7905579987217446\n",
      "[LightGBM] [Warning] feature_fraction is set=0.6274565145921149, colsample_bytree=1.0 will be ignored. Current value: feature_fraction=0.6274565145921149\n"
     ]
    },
    {
     "name": "stderr",
     "output_type": "stream",
     "text": [
      "[I 2024-05-20 16:54:56,960] Trial 32 finished with value: 2.536943483959074 and parameters: {'num_leaves': 110, 'feature_fraction': 0.6274565145921149, 'bagging_fraction': 0.7905579987217446, 'min_child_samples': 82}. Best is trial 32 with value: 2.536943483959074.\n"
     ]
    },
    {
     "name": "stdout",
     "output_type": "stream",
     "text": [
      "[LightGBM] [Warning] bagging_fraction is set=0.8019549989769471, subsample=1.0 will be ignored. Current value: bagging_fraction=0.8019549989769471\n",
      "[LightGBM] [Warning] feature_fraction is set=0.6743630517148362, colsample_bytree=1.0 will be ignored. Current value: feature_fraction=0.6743630517148362\n",
      "[LightGBM] [Warning] bagging_fraction is set=0.8019549989769471, subsample=1.0 will be ignored. Current value: bagging_fraction=0.8019549989769471\n",
      "[LightGBM] [Warning] feature_fraction is set=0.6743630517148362, colsample_bytree=1.0 will be ignored. Current value: feature_fraction=0.6743630517148362\n",
      "[LightGBM] [Warning] bagging_fraction is set=0.8019549989769471, subsample=1.0 will be ignored. Current value: bagging_fraction=0.8019549989769471\n",
      "[LightGBM] [Warning] feature_fraction is set=0.6743630517148362, colsample_bytree=1.0 will be ignored. Current value: feature_fraction=0.6743630517148362\n"
     ]
    },
    {
     "name": "stderr",
     "output_type": "stream",
     "text": [
      "[I 2024-05-20 16:55:23,171] Trial 33 finished with value: 2.588584272251116 and parameters: {'num_leaves': 58, 'feature_fraction': 0.6743630517148362, 'bagging_fraction': 0.8019549989769471, 'min_child_samples': 83}. Best is trial 32 with value: 2.536943483959074.\n"
     ]
    },
    {
     "name": "stdout",
     "output_type": "stream",
     "text": [
      "[LightGBM] [Warning] bagging_fraction is set=0.7512807023799526, subsample=1.0 will be ignored. Current value: bagging_fraction=0.7512807023799526\n",
      "[LightGBM] [Warning] feature_fraction is set=0.6244136868988903, colsample_bytree=1.0 will be ignored. Current value: feature_fraction=0.6244136868988903\n",
      "[LightGBM] [Warning] bagging_fraction is set=0.7512807023799526, subsample=1.0 will be ignored. Current value: bagging_fraction=0.7512807023799526\n",
      "[LightGBM] [Warning] feature_fraction is set=0.6244136868988903, colsample_bytree=1.0 will be ignored. Current value: feature_fraction=0.6244136868988903\n",
      "[LightGBM] [Warning] bagging_fraction is set=0.7512807023799526, subsample=1.0 will be ignored. Current value: bagging_fraction=0.7512807023799526\n",
      "[LightGBM] [Warning] feature_fraction is set=0.6244136868988903, colsample_bytree=1.0 will be ignored. Current value: feature_fraction=0.6244136868988903\n"
     ]
    },
    {
     "name": "stderr",
     "output_type": "stream",
     "text": [
      "[I 2024-05-20 16:55:44,351] Trial 34 finished with value: 2.5955846809219487 and parameters: {'num_leaves': 35, 'feature_fraction': 0.6244136868988903, 'bagging_fraction': 0.7512807023799526, 'min_child_samples': 89}. Best is trial 32 with value: 2.536943483959074.\n"
     ]
    },
    {
     "name": "stdout",
     "output_type": "stream",
     "text": [
      "[LightGBM] [Warning] bagging_fraction is set=0.8452811039088396, subsample=1.0 will be ignored. Current value: bagging_fraction=0.8452811039088396\n",
      "[LightGBM] [Warning] feature_fraction is set=0.5238507257859928, colsample_bytree=1.0 will be ignored. Current value: feature_fraction=0.5238507257859928\n",
      "[LightGBM] [Warning] bagging_fraction is set=0.8452811039088396, subsample=1.0 will be ignored. Current value: bagging_fraction=0.8452811039088396\n",
      "[LightGBM] [Warning] feature_fraction is set=0.5238507257859928, colsample_bytree=1.0 will be ignored. Current value: feature_fraction=0.5238507257859928\n",
      "[LightGBM] [Warning] bagging_fraction is set=0.8452811039088396, subsample=1.0 will be ignored. Current value: bagging_fraction=0.8452811039088396\n",
      "[LightGBM] [Warning] feature_fraction is set=0.5238507257859928, colsample_bytree=1.0 will be ignored. Current value: feature_fraction=0.5238507257859928\n"
     ]
    },
    {
     "name": "stderr",
     "output_type": "stream",
     "text": [
      "[I 2024-05-20 16:56:28,138] Trial 35 finished with value: 2.6286996494490773 and parameters: {'num_leaves': 169, 'feature_fraction': 0.5238507257859928, 'bagging_fraction': 0.8452811039088396, 'min_child_samples': 62}. Best is trial 32 with value: 2.536943483959074.\n"
     ]
    },
    {
     "name": "stdout",
     "output_type": "stream",
     "text": [
      "[LightGBM] [Warning] bagging_fraction is set=0.6803004273044093, subsample=1.0 will be ignored. Current value: bagging_fraction=0.6803004273044093\n",
      "[LightGBM] [Warning] feature_fraction is set=0.7642527920955954, colsample_bytree=1.0 will be ignored. Current value: feature_fraction=0.7642527920955954\n",
      "[LightGBM] [Warning] bagging_fraction is set=0.6803004273044093, subsample=1.0 will be ignored. Current value: bagging_fraction=0.6803004273044093\n",
      "[LightGBM] [Warning] feature_fraction is set=0.7642527920955954, colsample_bytree=1.0 will be ignored. Current value: feature_fraction=0.7642527920955954\n",
      "[LightGBM] [Warning] bagging_fraction is set=0.6803004273044093, subsample=1.0 will be ignored. Current value: bagging_fraction=0.6803004273044093\n",
      "[LightGBM] [Warning] feature_fraction is set=0.7642527920955954, colsample_bytree=1.0 will be ignored. Current value: feature_fraction=0.7642527920955954\n"
     ]
    },
    {
     "name": "stderr",
     "output_type": "stream",
     "text": [
      "[I 2024-05-20 16:57:05,478] Trial 36 finished with value: 2.6324241063394096 and parameters: {'num_leaves': 104, 'feature_fraction': 0.7642527920955954, 'bagging_fraction': 0.6803004273044093, 'min_child_samples': 97}. Best is trial 32 with value: 2.536943483959074.\n"
     ]
    },
    {
     "name": "stdout",
     "output_type": "stream",
     "text": [
      "[LightGBM] [Warning] bagging_fraction is set=0.7521788765180574, subsample=1.0 will be ignored. Current value: bagging_fraction=0.7521788765180574\n",
      "[LightGBM] [Warning] feature_fraction is set=0.6699709225047572, colsample_bytree=1.0 will be ignored. Current value: feature_fraction=0.6699709225047572\n",
      "[LightGBM] [Warning] bagging_fraction is set=0.7521788765180574, subsample=1.0 will be ignored. Current value: bagging_fraction=0.7521788765180574\n",
      "[LightGBM] [Warning] feature_fraction is set=0.6699709225047572, colsample_bytree=1.0 will be ignored. Current value: feature_fraction=0.6699709225047572\n",
      "[LightGBM] [Warning] bagging_fraction is set=0.7521788765180574, subsample=1.0 will be ignored. Current value: bagging_fraction=0.7521788765180574\n",
      "[LightGBM] [Warning] feature_fraction is set=0.6699709225047572, colsample_bytree=1.0 will be ignored. Current value: feature_fraction=0.6699709225047572\n"
     ]
    },
    {
     "name": "stderr",
     "output_type": "stream",
     "text": [
      "[I 2024-05-20 16:57:37,619] Trial 37 finished with value: 2.575988914025576 and parameters: {'num_leaves': 82, 'feature_fraction': 0.6699709225047572, 'bagging_fraction': 0.7521788765180574, 'min_child_samples': 81}. Best is trial 32 with value: 2.536943483959074.\n"
     ]
    },
    {
     "name": "stdout",
     "output_type": "stream",
     "text": [
      "[LightGBM] [Warning] bagging_fraction is set=0.5836017847019406, subsample=1.0 will be ignored. Current value: bagging_fraction=0.5836017847019406\n",
      "[LightGBM] [Warning] feature_fraction is set=0.6037895377765964, colsample_bytree=1.0 will be ignored. Current value: feature_fraction=0.6037895377765964\n",
      "[LightGBM] [Warning] bagging_fraction is set=0.5836017847019406, subsample=1.0 will be ignored. Current value: bagging_fraction=0.5836017847019406\n",
      "[LightGBM] [Warning] feature_fraction is set=0.6037895377765964, colsample_bytree=1.0 will be ignored. Current value: feature_fraction=0.6037895377765964\n",
      "[LightGBM] [Warning] bagging_fraction is set=0.5836017847019406, subsample=1.0 will be ignored. Current value: bagging_fraction=0.5836017847019406\n",
      "[LightGBM] [Warning] feature_fraction is set=0.6037895377765964, colsample_bytree=1.0 will be ignored. Current value: feature_fraction=0.6037895377765964\n"
     ]
    },
    {
     "name": "stderr",
     "output_type": "stream",
     "text": [
      "[I 2024-05-20 16:58:18,557] Trial 38 finished with value: 2.5967598018176754 and parameters: {'num_leaves': 131, 'feature_fraction': 0.6037895377765964, 'bagging_fraction': 0.5836017847019406, 'min_child_samples': 58}. Best is trial 32 with value: 2.536943483959074.\n"
     ]
    },
    {
     "name": "stdout",
     "output_type": "stream",
     "text": [
      "[LightGBM] [Warning] bagging_fraction is set=0.27038908253500893, subsample=1.0 will be ignored. Current value: bagging_fraction=0.27038908253500893\n",
      "[LightGBM] [Warning] feature_fraction is set=0.8079809520713782, colsample_bytree=1.0 will be ignored. Current value: feature_fraction=0.8079809520713782\n",
      "[LightGBM] [Warning] bagging_fraction is set=0.27038908253500893, subsample=1.0 will be ignored. Current value: bagging_fraction=0.27038908253500893\n",
      "[LightGBM] [Warning] feature_fraction is set=0.8079809520713782, colsample_bytree=1.0 will be ignored. Current value: feature_fraction=0.8079809520713782\n",
      "[LightGBM] [Warning] bagging_fraction is set=0.27038908253500893, subsample=1.0 will be ignored. Current value: bagging_fraction=0.27038908253500893\n",
      "[LightGBM] [Warning] feature_fraction is set=0.8079809520713782, colsample_bytree=1.0 will be ignored. Current value: feature_fraction=0.8079809520713782\n"
     ]
    },
    {
     "name": "stderr",
     "output_type": "stream",
     "text": [
      "[I 2024-05-20 16:59:04,327] Trial 39 finished with value: 2.5373283548159082 and parameters: {'num_leaves': 147, 'feature_fraction': 0.8079809520713782, 'bagging_fraction': 0.27038908253500893, 'min_child_samples': 19}. Best is trial 32 with value: 2.536943483959074.\n"
     ]
    },
    {
     "name": "stdout",
     "output_type": "stream",
     "text": [
      "[LightGBM] [Warning] bagging_fraction is set=0.25690074563613857, subsample=1.0 will be ignored. Current value: bagging_fraction=0.25690074563613857\n",
      "[LightGBM] [Warning] feature_fraction is set=0.8437108619333503, colsample_bytree=1.0 will be ignored. Current value: feature_fraction=0.8437108619333503\n",
      "[LightGBM] [Warning] bagging_fraction is set=0.25690074563613857, subsample=1.0 will be ignored. Current value: bagging_fraction=0.25690074563613857\n",
      "[LightGBM] [Warning] feature_fraction is set=0.8437108619333503, colsample_bytree=1.0 will be ignored. Current value: feature_fraction=0.8437108619333503\n",
      "[LightGBM] [Warning] bagging_fraction is set=0.25690074563613857, subsample=1.0 will be ignored. Current value: bagging_fraction=0.25690074563613857\n",
      "[LightGBM] [Warning] feature_fraction is set=0.8437108619333503, colsample_bytree=1.0 will be ignored. Current value: feature_fraction=0.8437108619333503\n"
     ]
    },
    {
     "name": "stderr",
     "output_type": "stream",
     "text": [
      "[I 2024-05-20 16:59:48,535] Trial 40 finished with value: 2.5722674199020727 and parameters: {'num_leaves': 141, 'feature_fraction': 0.8437108619333503, 'bagging_fraction': 0.25690074563613857, 'min_child_samples': 25}. Best is trial 32 with value: 2.536943483959074.\n"
     ]
    },
    {
     "name": "stdout",
     "output_type": "stream",
     "text": [
      "[LightGBM] [Warning] bagging_fraction is set=0.37651988016003757, subsample=1.0 will be ignored. Current value: bagging_fraction=0.37651988016003757\n",
      "[LightGBM] [Warning] feature_fraction is set=0.8160708565110484, colsample_bytree=1.0 will be ignored. Current value: feature_fraction=0.8160708565110484\n",
      "[LightGBM] [Warning] bagging_fraction is set=0.37651988016003757, subsample=1.0 will be ignored. Current value: bagging_fraction=0.37651988016003757\n",
      "[LightGBM] [Warning] feature_fraction is set=0.8160708565110484, colsample_bytree=1.0 will be ignored. Current value: feature_fraction=0.8160708565110484\n",
      "[LightGBM] [Warning] bagging_fraction is set=0.37651988016003757, subsample=1.0 will be ignored. Current value: bagging_fraction=0.37651988016003757\n",
      "[LightGBM] [Warning] feature_fraction is set=0.8160708565110484, colsample_bytree=1.0 will be ignored. Current value: feature_fraction=0.8160708565110484\n"
     ]
    },
    {
     "name": "stderr",
     "output_type": "stream",
     "text": [
      "[I 2024-05-20 17:00:40,882] Trial 41 finished with value: 2.5924600007267267 and parameters: {'num_leaves': 185, 'feature_fraction': 0.8160708565110484, 'bagging_fraction': 0.37651988016003757, 'min_child_samples': 14}. Best is trial 32 with value: 2.536943483959074.\n"
     ]
    },
    {
     "name": "stdout",
     "output_type": "stream",
     "text": [
      "[LightGBM] [Warning] bagging_fraction is set=0.2993908015011788, subsample=1.0 will be ignored. Current value: bagging_fraction=0.2993908015011788\n",
      "[LightGBM] [Warning] feature_fraction is set=0.9509938464847172, colsample_bytree=1.0 will be ignored. Current value: feature_fraction=0.9509938464847172\n",
      "[LightGBM] [Warning] bagging_fraction is set=0.2993908015011788, subsample=1.0 will be ignored. Current value: bagging_fraction=0.2993908015011788\n",
      "[LightGBM] [Warning] feature_fraction is set=0.9509938464847172, colsample_bytree=1.0 will be ignored. Current value: feature_fraction=0.9509938464847172\n",
      "[LightGBM] [Warning] bagging_fraction is set=0.2993908015011788, subsample=1.0 will be ignored. Current value: bagging_fraction=0.2993908015011788\n",
      "[LightGBM] [Warning] feature_fraction is set=0.9509938464847172, colsample_bytree=1.0 will be ignored. Current value: feature_fraction=0.9509938464847172\n"
     ]
    },
    {
     "name": "stderr",
     "output_type": "stream",
     "text": [
      "[I 2024-05-20 17:01:16,988] Trial 42 finished with value: 2.6148075693120885 and parameters: {'num_leaves': 107, 'feature_fraction': 0.9509938464847172, 'bagging_fraction': 0.2993908015011788, 'min_child_samples': 13}. Best is trial 32 with value: 2.536943483959074.\n"
     ]
    },
    {
     "name": "stdout",
     "output_type": "stream",
     "text": [
      "[LightGBM] [Warning] bagging_fraction is set=0.4366606443199947, subsample=1.0 will be ignored. Current value: bagging_fraction=0.4366606443199947\n",
      "[LightGBM] [Warning] feature_fraction is set=0.711895895146043, colsample_bytree=1.0 will be ignored. Current value: feature_fraction=0.711895895146043\n",
      "[LightGBM] [Warning] bagging_fraction is set=0.4366606443199947, subsample=1.0 will be ignored. Current value: bagging_fraction=0.4366606443199947\n",
      "[LightGBM] [Warning] feature_fraction is set=0.711895895146043, colsample_bytree=1.0 will be ignored. Current value: feature_fraction=0.711895895146043\n",
      "[LightGBM] [Warning] bagging_fraction is set=0.4366606443199947, subsample=1.0 will be ignored. Current value: bagging_fraction=0.4366606443199947\n",
      "[LightGBM] [Warning] feature_fraction is set=0.711895895146043, colsample_bytree=1.0 will be ignored. Current value: feature_fraction=0.711895895146043\n"
     ]
    },
    {
     "name": "stderr",
     "output_type": "stream",
     "text": [
      "[I 2024-05-20 17:01:56,615] Trial 43 finished with value: 2.6082835560856936 and parameters: {'num_leaves': 155, 'feature_fraction': 0.711895895146043, 'bagging_fraction': 0.4366606443199947, 'min_child_samples': 89}. Best is trial 32 with value: 2.536943483959074.\n"
     ]
    },
    {
     "name": "stdout",
     "output_type": "stream",
     "text": [
      "[LightGBM] [Warning] bagging_fraction is set=0.20826212927377002, subsample=1.0 will be ignored. Current value: bagging_fraction=0.20826212927377002\n",
      "[LightGBM] [Warning] feature_fraction is set=0.5517582855846911, colsample_bytree=1.0 will be ignored. Current value: feature_fraction=0.5517582855846911\n",
      "[LightGBM] [Warning] bagging_fraction is set=0.20826212927377002, subsample=1.0 will be ignored. Current value: bagging_fraction=0.20826212927377002\n",
      "[LightGBM] [Warning] feature_fraction is set=0.5517582855846911, colsample_bytree=1.0 will be ignored. Current value: feature_fraction=0.5517582855846911\n",
      "[LightGBM] [Warning] bagging_fraction is set=0.20826212927377002, subsample=1.0 will be ignored. Current value: bagging_fraction=0.20826212927377002\n",
      "[LightGBM] [Warning] feature_fraction is set=0.5517582855846911, colsample_bytree=1.0 will be ignored. Current value: feature_fraction=0.5517582855846911\n"
     ]
    },
    {
     "name": "stderr",
     "output_type": "stream",
     "text": [
      "[I 2024-05-20 17:02:28,012] Trial 44 finished with value: 2.5786849232492197 and parameters: {'num_leaves': 119, 'feature_fraction': 0.5517582855846911, 'bagging_fraction': 0.20826212927377002, 'min_child_samples': 78}. Best is trial 32 with value: 2.536943483959074.\n"
     ]
    },
    {
     "name": "stdout",
     "output_type": "stream",
     "text": [
      "[LightGBM] [Warning] bagging_fraction is set=0.9343334572884158, subsample=1.0 will be ignored. Current value: bagging_fraction=0.9343334572884158\n",
      "[LightGBM] [Warning] feature_fraction is set=0.8763190976057046, colsample_bytree=1.0 will be ignored. Current value: feature_fraction=0.8763190976057046\n",
      "[LightGBM] [Warning] bagging_fraction is set=0.9343334572884158, subsample=1.0 will be ignored. Current value: bagging_fraction=0.9343334572884158\n",
      "[LightGBM] [Warning] feature_fraction is set=0.8763190976057046, colsample_bytree=1.0 will be ignored. Current value: feature_fraction=0.8763190976057046\n",
      "[LightGBM] [Warning] bagging_fraction is set=0.9343334572884158, subsample=1.0 will be ignored. Current value: bagging_fraction=0.9343334572884158\n",
      "[LightGBM] [Warning] feature_fraction is set=0.8763190976057046, colsample_bytree=1.0 will be ignored. Current value: feature_fraction=0.8763190976057046\n"
     ]
    },
    {
     "name": "stderr",
     "output_type": "stream",
     "text": [
      "[I 2024-05-20 17:03:21,841] Trial 45 finished with value: 2.5399878968370855 and parameters: {'num_leaves': 207, 'feature_fraction': 0.8763190976057046, 'bagging_fraction': 0.9343334572884158, 'min_child_samples': 70}. Best is trial 32 with value: 2.536943483959074.\n"
     ]
    },
    {
     "name": "stdout",
     "output_type": "stream",
     "text": [
      "[LightGBM] [Warning] bagging_fraction is set=0.9479088961265093, subsample=1.0 will be ignored. Current value: bagging_fraction=0.9479088961265093\n",
      "[LightGBM] [Warning] feature_fraction is set=0.859372243239578, colsample_bytree=1.0 will be ignored. Current value: feature_fraction=0.859372243239578\n",
      "[LightGBM] [Warning] bagging_fraction is set=0.9479088961265093, subsample=1.0 will be ignored. Current value: bagging_fraction=0.9479088961265093\n",
      "[LightGBM] [Warning] feature_fraction is set=0.859372243239578, colsample_bytree=1.0 will be ignored. Current value: feature_fraction=0.859372243239578\n",
      "[LightGBM] [Warning] bagging_fraction is set=0.9479088961265093, subsample=1.0 will be ignored. Current value: bagging_fraction=0.9479088961265093\n",
      "[LightGBM] [Warning] feature_fraction is set=0.859372243239578, colsample_bytree=1.0 will be ignored. Current value: feature_fraction=0.859372243239578\n"
     ]
    },
    {
     "name": "stderr",
     "output_type": "stream",
     "text": [
      "[I 2024-05-20 17:04:16,685] Trial 46 finished with value: 2.5352490902606153 and parameters: {'num_leaves': 221, 'feature_fraction': 0.859372243239578, 'bagging_fraction': 0.9479088961265093, 'min_child_samples': 70}. Best is trial 46 with value: 2.5352490902606153.\n"
     ]
    },
    {
     "name": "stdout",
     "output_type": "stream",
     "text": [
      "[LightGBM] [Warning] bagging_fraction is set=0.9858990168591925, subsample=1.0 will be ignored. Current value: bagging_fraction=0.9858990168591925\n",
      "[LightGBM] [Warning] feature_fraction is set=0.8497888928494439, colsample_bytree=1.0 will be ignored. Current value: feature_fraction=0.8497888928494439\n",
      "[LightGBM] [Warning] bagging_fraction is set=0.9858990168591925, subsample=1.0 will be ignored. Current value: bagging_fraction=0.9858990168591925\n",
      "[LightGBM] [Warning] feature_fraction is set=0.8497888928494439, colsample_bytree=1.0 will be ignored. Current value: feature_fraction=0.8497888928494439\n",
      "[LightGBM] [Warning] bagging_fraction is set=0.9858990168591925, subsample=1.0 will be ignored. Current value: bagging_fraction=0.9858990168591925\n",
      "[LightGBM] [Warning] feature_fraction is set=0.8497888928494439, colsample_bytree=1.0 will be ignored. Current value: feature_fraction=0.8497888928494439\n"
     ]
    },
    {
     "name": "stderr",
     "output_type": "stream",
     "text": [
      "[I 2024-05-20 17:05:28,397] Trial 47 finished with value: 2.70913712657659 and parameters: {'num_leaves': 227, 'feature_fraction': 0.8497888928494439, 'bagging_fraction': 0.9858990168591925, 'min_child_samples': 4}. Best is trial 46 with value: 2.5352490902606153.\n"
     ]
    },
    {
     "name": "stdout",
     "output_type": "stream",
     "text": [
      "[LightGBM] [Warning] bagging_fraction is set=0.9227886556618077, subsample=1.0 will be ignored. Current value: bagging_fraction=0.9227886556618077\n",
      "[LightGBM] [Warning] feature_fraction is set=0.9151318031169401, colsample_bytree=1.0 will be ignored. Current value: feature_fraction=0.9151318031169401\n",
      "[LightGBM] [Warning] bagging_fraction is set=0.9227886556618077, subsample=1.0 will be ignored. Current value: bagging_fraction=0.9227886556618077\n",
      "[LightGBM] [Warning] feature_fraction is set=0.9151318031169401, colsample_bytree=1.0 will be ignored. Current value: feature_fraction=0.9151318031169401\n",
      "[LightGBM] [Warning] bagging_fraction is set=0.9227886556618077, subsample=1.0 will be ignored. Current value: bagging_fraction=0.9227886556618077\n",
      "[LightGBM] [Warning] feature_fraction is set=0.9151318031169401, colsample_bytree=1.0 will be ignored. Current value: feature_fraction=0.9151318031169401\n"
     ]
    },
    {
     "name": "stderr",
     "output_type": "stream",
     "text": [
      "[I 2024-05-20 17:06:18,951] Trial 48 finished with value: 2.5389008368440966 and parameters: {'num_leaves': 247, 'feature_fraction': 0.9151318031169401, 'bagging_fraction': 0.9227886556618077, 'min_child_samples': 70}. Best is trial 46 with value: 2.5352490902606153.\n"
     ]
    },
    {
     "name": "stdout",
     "output_type": "stream",
     "text": [
      "[LightGBM] [Warning] bagging_fraction is set=0.8988260683269481, subsample=1.0 will be ignored. Current value: bagging_fraction=0.8988260683269481\n",
      "[LightGBM] [Warning] feature_fraction is set=0.9218215647261424, colsample_bytree=1.0 will be ignored. Current value: feature_fraction=0.9218215647261424\n",
      "[LightGBM] [Warning] bagging_fraction is set=0.8988260683269481, subsample=1.0 will be ignored. Current value: bagging_fraction=0.8988260683269481\n",
      "[LightGBM] [Warning] feature_fraction is set=0.9218215647261424, colsample_bytree=1.0 will be ignored. Current value: feature_fraction=0.9218215647261424\n",
      "[LightGBM] [Warning] bagging_fraction is set=0.8988260683269481, subsample=1.0 will be ignored. Current value: bagging_fraction=0.8988260683269481\n",
      "[LightGBM] [Warning] feature_fraction is set=0.9218215647261424, colsample_bytree=1.0 will be ignored. Current value: feature_fraction=0.9218215647261424\n"
     ]
    },
    {
     "name": "stderr",
     "output_type": "stream",
     "text": [
      "[I 2024-05-20 17:07:13,407] Trial 49 finished with value: 2.674702190481822 and parameters: {'num_leaves': 256, 'feature_fraction': 0.9218215647261424, 'bagging_fraction': 0.8988260683269481, 'min_child_samples': 55}. Best is trial 46 with value: 2.5352490902606153.\n"
     ]
    },
    {
     "name": "stdout",
     "output_type": "stream",
     "text": [
      "[LightGBM] [Warning] bagging_fraction is set=0.955953217238482, subsample=1.0 will be ignored. Current value: bagging_fraction=0.955953217238482\n",
      "[LightGBM] [Warning] feature_fraction is set=0.8059519360402888, colsample_bytree=1.0 will be ignored. Current value: feature_fraction=0.8059519360402888\n",
      "[LightGBM] [Warning] bagging_fraction is set=0.955953217238482, subsample=1.0 will be ignored. Current value: bagging_fraction=0.955953217238482\n",
      "[LightGBM] [Warning] feature_fraction is set=0.8059519360402888, colsample_bytree=1.0 will be ignored. Current value: feature_fraction=0.8059519360402888\n",
      "[LightGBM] [Warning] bagging_fraction is set=0.955953217238482, subsample=1.0 will be ignored. Current value: bagging_fraction=0.955953217238482\n",
      "[LightGBM] [Warning] feature_fraction is set=0.8059519360402888, colsample_bytree=1.0 will be ignored. Current value: feature_fraction=0.8059519360402888\n"
     ]
    },
    {
     "name": "stderr",
     "output_type": "stream",
     "text": [
      "[I 2024-05-20 17:08:04,667] Trial 50 finished with value: 2.5566064628691105 and parameters: {'num_leaves': 239, 'feature_fraction': 0.8059519360402888, 'bagging_fraction': 0.955953217238482, 'min_child_samples': 19}. Best is trial 46 with value: 2.5352490902606153.\n"
     ]
    },
    {
     "name": "stdout",
     "output_type": "stream",
     "text": [
      "[LightGBM] [Warning] bagging_fraction is set=0.9177091402844645, subsample=1.0 will be ignored. Current value: bagging_fraction=0.9177091402844645\n",
      "[LightGBM] [Warning] feature_fraction is set=0.8846548553560787, colsample_bytree=1.0 will be ignored. Current value: feature_fraction=0.8846548553560787\n",
      "[LightGBM] [Warning] bagging_fraction is set=0.9177091402844645, subsample=1.0 will be ignored. Current value: bagging_fraction=0.9177091402844645\n",
      "[LightGBM] [Warning] feature_fraction is set=0.8846548553560787, colsample_bytree=1.0 will be ignored. Current value: feature_fraction=0.8846548553560787\n",
      "[LightGBM] [Warning] bagging_fraction is set=0.9177091402844645, subsample=1.0 will be ignored. Current value: bagging_fraction=0.9177091402844645\n",
      "[LightGBM] [Warning] feature_fraction is set=0.8846548553560787, colsample_bytree=1.0 will be ignored. Current value: feature_fraction=0.8846548553560787\n"
     ]
    },
    {
     "name": "stderr",
     "output_type": "stream",
     "text": [
      "[I 2024-05-20 17:09:03,147] Trial 51 finished with value: 2.53193186218385 and parameters: {'num_leaves': 205, 'feature_fraction': 0.8846548553560787, 'bagging_fraction': 0.9177091402844645, 'min_child_samples': 70}. Best is trial 51 with value: 2.53193186218385.\n"
     ]
    },
    {
     "name": "stdout",
     "output_type": "stream",
     "text": [
      "[LightGBM] [Warning] bagging_fraction is set=0.8850277325059562, subsample=1.0 will be ignored. Current value: bagging_fraction=0.8850277325059562\n",
      "[LightGBM] [Warning] feature_fraction is set=0.9173905717971508, colsample_bytree=1.0 will be ignored. Current value: feature_fraction=0.9173905717971508\n",
      "[LightGBM] [Warning] bagging_fraction is set=0.8850277325059562, subsample=1.0 will be ignored. Current value: bagging_fraction=0.8850277325059562\n",
      "[LightGBM] [Warning] feature_fraction is set=0.9173905717971508, colsample_bytree=1.0 will be ignored. Current value: feature_fraction=0.9173905717971508\n",
      "[LightGBM] [Warning] bagging_fraction is set=0.8850277325059562, subsample=1.0 will be ignored. Current value: bagging_fraction=0.8850277325059562\n",
      "[LightGBM] [Warning] feature_fraction is set=0.9173905717971508, colsample_bytree=1.0 will be ignored. Current value: feature_fraction=0.9173905717971508\n"
     ]
    },
    {
     "name": "stderr",
     "output_type": "stream",
     "text": [
      "[I 2024-05-20 17:09:49,044] Trial 52 finished with value: 2.52150880697246 and parameters: {'num_leaves': 241, 'feature_fraction': 0.9173905717971508, 'bagging_fraction': 0.8850277325059562, 'min_child_samples': 70}. Best is trial 52 with value: 2.52150880697246.\n"
     ]
    },
    {
     "name": "stdout",
     "output_type": "stream",
     "text": [
      "[LightGBM] [Warning] bagging_fraction is set=0.8476308266268937, subsample=1.0 will be ignored. Current value: bagging_fraction=0.8476308266268937\n",
      "[LightGBM] [Warning] feature_fraction is set=0.9658306772304334, colsample_bytree=1.0 will be ignored. Current value: feature_fraction=0.9658306772304334\n",
      "[LightGBM] [Warning] bagging_fraction is set=0.8476308266268937, subsample=1.0 will be ignored. Current value: bagging_fraction=0.8476308266268937\n",
      "[LightGBM] [Warning] feature_fraction is set=0.9658306772304334, colsample_bytree=1.0 will be ignored. Current value: feature_fraction=0.9658306772304334\n",
      "[LightGBM] [Warning] bagging_fraction is set=0.8476308266268937, subsample=1.0 will be ignored. Current value: bagging_fraction=0.8476308266268937\n",
      "[LightGBM] [Warning] feature_fraction is set=0.9658306772304334, colsample_bytree=1.0 will be ignored. Current value: feature_fraction=0.9658306772304334\n"
     ]
    },
    {
     "name": "stderr",
     "output_type": "stream",
     "text": [
      "[I 2024-05-20 17:10:32,773] Trial 53 finished with value: 2.608464077908455 and parameters: {'num_leaves': 220, 'feature_fraction': 0.9658306772304334, 'bagging_fraction': 0.8476308266268937, 'min_child_samples': 77}. Best is trial 52 with value: 2.52150880697246.\n"
     ]
    },
    {
     "name": "stdout",
     "output_type": "stream",
     "text": [
      "[LightGBM] [Warning] bagging_fraction is set=0.8832675427332705, subsample=1.0 will be ignored. Current value: bagging_fraction=0.8832675427332705\n",
      "[LightGBM] [Warning] feature_fraction is set=0.7772976303540299, colsample_bytree=1.0 will be ignored. Current value: feature_fraction=0.7772976303540299\n",
      "[LightGBM] [Warning] bagging_fraction is set=0.8832675427332705, subsample=1.0 will be ignored. Current value: bagging_fraction=0.8832675427332705\n",
      "[LightGBM] [Warning] feature_fraction is set=0.7772976303540299, colsample_bytree=1.0 will be ignored. Current value: feature_fraction=0.7772976303540299\n",
      "[LightGBM] [Warning] bagging_fraction is set=0.8832675427332705, subsample=1.0 will be ignored. Current value: bagging_fraction=0.8832675427332705\n",
      "[LightGBM] [Warning] feature_fraction is set=0.7772976303540299, colsample_bytree=1.0 will be ignored. Current value: feature_fraction=0.7772976303540299\n"
     ]
    },
    {
     "name": "stderr",
     "output_type": "stream",
     "text": [
      "[I 2024-05-20 17:11:16,184] Trial 54 finished with value: 2.597174198238245 and parameters: {'num_leaves': 199, 'feature_fraction': 0.7772976303540299, 'bagging_fraction': 0.8832675427332705, 'min_child_samples': 59}. Best is trial 52 with value: 2.52150880697246.\n"
     ]
    },
    {
     "name": "stdout",
     "output_type": "stream",
     "text": [
      "[LightGBM] [Warning] bagging_fraction is set=0.8019227912336061, subsample=1.0 will be ignored. Current value: bagging_fraction=0.8019227912336061\n",
      "[LightGBM] [Warning] feature_fraction is set=0.8633441715636583, colsample_bytree=1.0 will be ignored. Current value: feature_fraction=0.8633441715636583\n",
      "[LightGBM] [Warning] bagging_fraction is set=0.8019227912336061, subsample=1.0 will be ignored. Current value: bagging_fraction=0.8019227912336061\n",
      "[LightGBM] [Warning] feature_fraction is set=0.8633441715636583, colsample_bytree=1.0 will be ignored. Current value: feature_fraction=0.8633441715636583\n",
      "[LightGBM] [Warning] bagging_fraction is set=0.8019227912336061, subsample=1.0 will be ignored. Current value: bagging_fraction=0.8019227912336061\n",
      "[LightGBM] [Warning] feature_fraction is set=0.8633441715636583, colsample_bytree=1.0 will be ignored. Current value: feature_fraction=0.8633441715636583\n"
     ]
    },
    {
     "name": "stderr",
     "output_type": "stream",
     "text": [
      "[I 2024-05-20 17:12:06,400] Trial 55 finished with value: 2.6720095458038338 and parameters: {'num_leaves': 231, 'feature_fraction': 0.8633441715636583, 'bagging_fraction': 0.8019227912336061, 'min_child_samples': 32}. Best is trial 52 with value: 2.52150880697246.\n"
     ]
    },
    {
     "name": "stdout",
     "output_type": "stream",
     "text": [
      "[LightGBM] [Warning] bagging_fraction is set=0.9669349646571778, subsample=1.0 will be ignored. Current value: bagging_fraction=0.9669349646571778\n",
      "[LightGBM] [Warning] feature_fraction is set=0.9351885542122641, colsample_bytree=1.0 will be ignored. Current value: feature_fraction=0.9351885542122641\n",
      "[LightGBM] [Warning] bagging_fraction is set=0.9669349646571778, subsample=1.0 will be ignored. Current value: bagging_fraction=0.9669349646571778\n",
      "[LightGBM] [Warning] feature_fraction is set=0.9351885542122641, colsample_bytree=1.0 will be ignored. Current value: feature_fraction=0.9351885542122641\n",
      "[LightGBM] [Warning] bagging_fraction is set=0.9669349646571778, subsample=1.0 will be ignored. Current value: bagging_fraction=0.9669349646571778\n",
      "[LightGBM] [Warning] feature_fraction is set=0.9351885542122641, colsample_bytree=1.0 will be ignored. Current value: feature_fraction=0.9351885542122641\n"
     ]
    },
    {
     "name": "stderr",
     "output_type": "stream",
     "text": [
      "[I 2024-05-20 17:12:49,926] Trial 56 finished with value: 2.644407814457418 and parameters: {'num_leaves': 181, 'feature_fraction': 0.9351885542122641, 'bagging_fraction': 0.9669349646571778, 'min_child_samples': 72}. Best is trial 52 with value: 2.52150880697246.\n"
     ]
    },
    {
     "name": "stdout",
     "output_type": "stream",
     "text": [
      "[LightGBM] [Warning] bagging_fraction is set=0.870008239125036, subsample=1.0 will be ignored. Current value: bagging_fraction=0.870008239125036\n",
      "[LightGBM] [Warning] feature_fraction is set=0.885012882760201, colsample_bytree=1.0 will be ignored. Current value: feature_fraction=0.885012882760201\n",
      "[LightGBM] [Warning] bagging_fraction is set=0.870008239125036, subsample=1.0 will be ignored. Current value: bagging_fraction=0.870008239125036\n",
      "[LightGBM] [Warning] feature_fraction is set=0.885012882760201, colsample_bytree=1.0 will be ignored. Current value: feature_fraction=0.885012882760201\n",
      "[LightGBM] [Warning] bagging_fraction is set=0.870008239125036, subsample=1.0 will be ignored. Current value: bagging_fraction=0.870008239125036\n",
      "[LightGBM] [Warning] feature_fraction is set=0.885012882760201, colsample_bytree=1.0 will be ignored. Current value: feature_fraction=0.885012882760201\n"
     ]
    },
    {
     "name": "stderr",
     "output_type": "stream",
     "text": [
      "[I 2024-05-20 17:13:35,523] Trial 57 finished with value: 2.5711380216876503 and parameters: {'num_leaves': 242, 'feature_fraction': 0.885012882760201, 'bagging_fraction': 0.870008239125036, 'min_child_samples': 68}. Best is trial 52 with value: 2.52150880697246.\n"
     ]
    },
    {
     "name": "stdout",
     "output_type": "stream",
     "text": [
      "[LightGBM] [Warning] bagging_fraction is set=0.8354959087178772, subsample=1.0 will be ignored. Current value: bagging_fraction=0.8354959087178772\n",
      "[LightGBM] [Warning] feature_fraction is set=0.9966378132229662, colsample_bytree=1.0 will be ignored. Current value: feature_fraction=0.9966378132229662\n",
      "[LightGBM] [Warning] bagging_fraction is set=0.8354959087178772, subsample=1.0 will be ignored. Current value: bagging_fraction=0.8354959087178772\n",
      "[LightGBM] [Warning] feature_fraction is set=0.9966378132229662, colsample_bytree=1.0 will be ignored. Current value: feature_fraction=0.9966378132229662\n",
      "[LightGBM] [Warning] bagging_fraction is set=0.8354959087178772, subsample=1.0 will be ignored. Current value: bagging_fraction=0.8354959087178772\n",
      "[LightGBM] [Warning] feature_fraction is set=0.9966378132229662, colsample_bytree=1.0 will be ignored. Current value: feature_fraction=0.9966378132229662\n"
     ]
    },
    {
     "name": "stderr",
     "output_type": "stream",
     "text": [
      "[I 2024-05-20 17:14:16,247] Trial 58 finished with value: 2.70683899129815 and parameters: {'num_leaves': 206, 'feature_fraction': 0.9966378132229662, 'bagging_fraction': 0.8354959087178772, 'min_child_samples': 88}. Best is trial 52 with value: 2.52150880697246.\n"
     ]
    },
    {
     "name": "stdout",
     "output_type": "stream",
     "text": [
      "[LightGBM] [Warning] bagging_fraction is set=0.9131368826205493, subsample=1.0 will be ignored. Current value: bagging_fraction=0.9131368826205493\n",
      "[LightGBM] [Warning] feature_fraction is set=0.7890433897661445, colsample_bytree=1.0 will be ignored. Current value: feature_fraction=0.7890433897661445\n",
      "[LightGBM] [Warning] bagging_fraction is set=0.9131368826205493, subsample=1.0 will be ignored. Current value: bagging_fraction=0.9131368826205493\n",
      "[LightGBM] [Warning] feature_fraction is set=0.7890433897661445, colsample_bytree=1.0 will be ignored. Current value: feature_fraction=0.7890433897661445\n",
      "[LightGBM] [Warning] bagging_fraction is set=0.9131368826205493, subsample=1.0 will be ignored. Current value: bagging_fraction=0.9131368826205493\n",
      "[LightGBM] [Warning] feature_fraction is set=0.7890433897661445, colsample_bytree=1.0 will be ignored. Current value: feature_fraction=0.7890433897661445\n"
     ]
    },
    {
     "name": "stderr",
     "output_type": "stream",
     "text": [
      "[I 2024-05-20 17:15:05,975] Trial 59 finished with value: 2.6188228763102965 and parameters: {'num_leaves': 233, 'feature_fraction': 0.7890433897661445, 'bagging_fraction': 0.9131368826205493, 'min_child_samples': 50}. Best is trial 52 with value: 2.52150880697246.\n"
     ]
    },
    {
     "name": "stdout",
     "output_type": "stream",
     "text": [
      "[LightGBM] [Warning] bagging_fraction is set=0.7645916343337573, subsample=1.0 will be ignored. Current value: bagging_fraction=0.7645916343337573\n",
      "[LightGBM] [Warning] feature_fraction is set=0.7426585640765877, colsample_bytree=1.0 will be ignored. Current value: feature_fraction=0.7426585640765877\n",
      "[LightGBM] [Warning] bagging_fraction is set=0.7645916343337573, subsample=1.0 will be ignored. Current value: bagging_fraction=0.7645916343337573\n",
      "[LightGBM] [Warning] feature_fraction is set=0.7426585640765877, colsample_bytree=1.0 will be ignored. Current value: feature_fraction=0.7426585640765877\n",
      "[LightGBM] [Warning] bagging_fraction is set=0.7645916343337573, subsample=1.0 will be ignored. Current value: bagging_fraction=0.7645916343337573\n",
      "[LightGBM] [Warning] feature_fraction is set=0.7426585640765877, colsample_bytree=1.0 will be ignored. Current value: feature_fraction=0.7426585640765877\n"
     ]
    },
    {
     "name": "stderr",
     "output_type": "stream",
     "text": [
      "[I 2024-05-20 17:15:53,671] Trial 60 finished with value: 2.6065382105094703 and parameters: {'num_leaves': 214, 'feature_fraction': 0.7426585640765877, 'bagging_fraction': 0.7645916343337573, 'min_child_samples': 80}. Best is trial 52 with value: 2.52150880697246.\n"
     ]
    },
    {
     "name": "stdout",
     "output_type": "stream",
     "text": [
      "[LightGBM] [Warning] bagging_fraction is set=0.9285691660262243, subsample=1.0 will be ignored. Current value: bagging_fraction=0.9285691660262243\n",
      "[LightGBM] [Warning] feature_fraction is set=0.9084523549469172, colsample_bytree=1.0 will be ignored. Current value: feature_fraction=0.9084523549469172\n",
      "[LightGBM] [Warning] bagging_fraction is set=0.9285691660262243, subsample=1.0 will be ignored. Current value: bagging_fraction=0.9285691660262243\n",
      "[LightGBM] [Warning] feature_fraction is set=0.9084523549469172, colsample_bytree=1.0 will be ignored. Current value: feature_fraction=0.9084523549469172\n",
      "[LightGBM] [Warning] bagging_fraction is set=0.9285691660262243, subsample=1.0 will be ignored. Current value: bagging_fraction=0.9285691660262243\n",
      "[LightGBM] [Warning] feature_fraction is set=0.9084523549469172, colsample_bytree=1.0 will be ignored. Current value: feature_fraction=0.9084523549469172\n"
     ]
    },
    {
     "name": "stderr",
     "output_type": "stream",
     "text": [
      "[I 2024-05-20 17:16:36,639] Trial 61 finished with value: 2.6261818052463473 and parameters: {'num_leaves': 248, 'feature_fraction': 0.9084523549469172, 'bagging_fraction': 0.9285691660262243, 'min_child_samples': 75}. Best is trial 52 with value: 2.52150880697246.\n"
     ]
    },
    {
     "name": "stdout",
     "output_type": "stream",
     "text": [
      "[LightGBM] [Warning] bagging_fraction is set=0.9993826064057406, subsample=1.0 will be ignored. Current value: bagging_fraction=0.9993826064057406\n",
      "[LightGBM] [Warning] feature_fraction is set=0.8324805103115639, colsample_bytree=1.0 will be ignored. Current value: feature_fraction=0.8324805103115639\n",
      "[LightGBM] [Warning] bagging_fraction is set=0.9993826064057406, subsample=1.0 will be ignored. Current value: bagging_fraction=0.9993826064057406\n",
      "[LightGBM] [Warning] feature_fraction is set=0.8324805103115639, colsample_bytree=1.0 will be ignored. Current value: feature_fraction=0.8324805103115639\n",
      "[LightGBM] [Warning] bagging_fraction is set=0.9993826064057406, subsample=1.0 will be ignored. Current value: bagging_fraction=0.9993826064057406\n",
      "[LightGBM] [Warning] feature_fraction is set=0.8324805103115639, colsample_bytree=1.0 will be ignored. Current value: feature_fraction=0.8324805103115639\n"
     ]
    },
    {
     "name": "stderr",
     "output_type": "stream",
     "text": [
      "[I 2024-05-20 17:17:21,994] Trial 62 finished with value: 2.5560796595396584 and parameters: {'num_leaves': 222, 'feature_fraction': 0.8324805103115639, 'bagging_fraction': 0.9993826064057406, 'min_child_samples': 64}. Best is trial 52 with value: 2.52150880697246.\n"
     ]
    },
    {
     "name": "stdout",
     "output_type": "stream",
     "text": [
      "[LightGBM] [Warning] bagging_fraction is set=0.9622891330739081, subsample=1.0 will be ignored. Current value: bagging_fraction=0.9622891330739081\n",
      "[LightGBM] [Warning] feature_fraction is set=0.9548717870392105, colsample_bytree=1.0 will be ignored. Current value: feature_fraction=0.9548717870392105\n",
      "[LightGBM] [Warning] bagging_fraction is set=0.9622891330739081, subsample=1.0 will be ignored. Current value: bagging_fraction=0.9622891330739081\n",
      "[LightGBM] [Warning] feature_fraction is set=0.9548717870392105, colsample_bytree=1.0 will be ignored. Current value: feature_fraction=0.9548717870392105\n",
      "[LightGBM] [Warning] bagging_fraction is set=0.9622891330739081, subsample=1.0 will be ignored. Current value: bagging_fraction=0.9622891330739081\n",
      "[LightGBM] [Warning] feature_fraction is set=0.9548717870392105, colsample_bytree=1.0 will be ignored. Current value: feature_fraction=0.9548717870392105\n"
     ]
    },
    {
     "name": "stderr",
     "output_type": "stream",
     "text": [
      "[I 2024-05-20 17:18:09,056] Trial 63 finished with value: 2.585978131737346 and parameters: {'num_leaves': 240, 'feature_fraction': 0.9548717870392105, 'bagging_fraction': 0.9622891330739081, 'min_child_samples': 69}. Best is trial 52 with value: 2.52150880697246.\n"
     ]
    },
    {
     "name": "stdout",
     "output_type": "stream",
     "text": [
      "[LightGBM] [Warning] bagging_fraction is set=0.8736736873950901, subsample=1.0 will be ignored. Current value: bagging_fraction=0.8736736873950901\n",
      "[LightGBM] [Warning] feature_fraction is set=0.8940139220754633, colsample_bytree=1.0 will be ignored. Current value: feature_fraction=0.8940139220754633\n",
      "[LightGBM] [Warning] bagging_fraction is set=0.8736736873950901, subsample=1.0 will be ignored. Current value: bagging_fraction=0.8736736873950901\n",
      "[LightGBM] [Warning] feature_fraction is set=0.8940139220754633, colsample_bytree=1.0 will be ignored. Current value: feature_fraction=0.8940139220754633\n",
      "[LightGBM] [Warning] bagging_fraction is set=0.8736736873950901, subsample=1.0 will be ignored. Current value: bagging_fraction=0.8736736873950901\n",
      "[LightGBM] [Warning] feature_fraction is set=0.8940139220754633, colsample_bytree=1.0 will be ignored. Current value: feature_fraction=0.8940139220754633\n"
     ]
    },
    {
     "name": "stderr",
     "output_type": "stream",
     "text": [
      "[I 2024-05-20 17:18:52,026] Trial 64 finished with value: 2.584722076007766 and parameters: {'num_leaves': 192, 'feature_fraction': 0.8940139220754633, 'bagging_fraction': 0.8736736873950901, 'min_child_samples': 73}. Best is trial 52 with value: 2.52150880697246.\n"
     ]
    },
    {
     "name": "stdout",
     "output_type": "stream",
     "text": [
      "[LightGBM] [Warning] bagging_fraction is set=0.7155765775082866, subsample=1.0 will be ignored. Current value: bagging_fraction=0.7155765775082866\n",
      "[LightGBM] [Warning] feature_fraction is set=0.9201259847962772, colsample_bytree=1.0 will be ignored. Current value: feature_fraction=0.9201259847962772\n",
      "[LightGBM] [Warning] bagging_fraction is set=0.7155765775082866, subsample=1.0 will be ignored. Current value: bagging_fraction=0.7155765775082866\n",
      "[LightGBM] [Warning] feature_fraction is set=0.9201259847962772, colsample_bytree=1.0 will be ignored. Current value: feature_fraction=0.9201259847962772\n",
      "[LightGBM] [Warning] bagging_fraction is set=0.7155765775082866, subsample=1.0 will be ignored. Current value: bagging_fraction=0.7155765775082866\n",
      "[LightGBM] [Warning] feature_fraction is set=0.9201259847962772, colsample_bytree=1.0 will be ignored. Current value: feature_fraction=0.9201259847962772\n"
     ]
    },
    {
     "name": "stderr",
     "output_type": "stream",
     "text": [
      "[I 2024-05-20 17:19:42,187] Trial 65 finished with value: 2.644519315296467 and parameters: {'num_leaves': 249, 'feature_fraction': 0.9201259847962772, 'bagging_fraction': 0.7155765775082866, 'min_child_samples': 61}. Best is trial 52 with value: 2.52150880697246.\n"
     ]
    },
    {
     "name": "stdout",
     "output_type": "stream",
     "text": [
      "[LightGBM] [Warning] bagging_fraction is set=0.8167613745216011, subsample=1.0 will be ignored. Current value: bagging_fraction=0.8167613745216011\n",
      "[LightGBM] [Warning] feature_fraction is set=0.7032305727284519, colsample_bytree=1.0 will be ignored. Current value: feature_fraction=0.7032305727284519\n",
      "[LightGBM] [Warning] bagging_fraction is set=0.8167613745216011, subsample=1.0 will be ignored. Current value: bagging_fraction=0.8167613745216011\n",
      "[LightGBM] [Warning] feature_fraction is set=0.7032305727284519, colsample_bytree=1.0 will be ignored. Current value: feature_fraction=0.7032305727284519\n",
      "[LightGBM] [Warning] bagging_fraction is set=0.8167613745216011, subsample=1.0 will be ignored. Current value: bagging_fraction=0.8167613745216011\n",
      "[LightGBM] [Warning] feature_fraction is set=0.7032305727284519, colsample_bytree=1.0 will be ignored. Current value: feature_fraction=0.7032305727284519\n"
     ]
    },
    {
     "name": "stderr",
     "output_type": "stream",
     "text": [
      "[I 2024-05-20 17:20:05,992] Trial 66 finished with value: 2.5381373439095154 and parameters: {'num_leaves': 94, 'feature_fraction': 0.7032305727284519, 'bagging_fraction': 0.8167613745216011, 'min_child_samples': 66}. Best is trial 52 with value: 2.52150880697246.\n"
     ]
    },
    {
     "name": "stdout",
     "output_type": "stream",
     "text": [
      "[LightGBM] [Warning] bagging_fraction is set=0.7863854318500153, subsample=1.0 will be ignored. Current value: bagging_fraction=0.7863854318500153\n",
      "[LightGBM] [Warning] feature_fraction is set=0.6818637644841243, colsample_bytree=1.0 will be ignored. Current value: feature_fraction=0.6818637644841243\n",
      "[LightGBM] [Warning] bagging_fraction is set=0.7863854318500153, subsample=1.0 will be ignored. Current value: bagging_fraction=0.7863854318500153\n",
      "[LightGBM] [Warning] feature_fraction is set=0.6818637644841243, colsample_bytree=1.0 will be ignored. Current value: feature_fraction=0.6818637644841243\n",
      "[LightGBM] [Warning] bagging_fraction is set=0.7863854318500153, subsample=1.0 will be ignored. Current value: bagging_fraction=0.7863854318500153\n",
      "[LightGBM] [Warning] feature_fraction is set=0.6818637644841243, colsample_bytree=1.0 will be ignored. Current value: feature_fraction=0.6818637644841243\n"
     ]
    },
    {
     "name": "stderr",
     "output_type": "stream",
     "text": [
      "[I 2024-05-20 17:20:30,178] Trial 67 finished with value: 2.5626394900242864 and parameters: {'num_leaves': 96, 'feature_fraction': 0.6818637644841243, 'bagging_fraction': 0.7863854318500153, 'min_child_samples': 65}. Best is trial 52 with value: 2.52150880697246.\n"
     ]
    },
    {
     "name": "stdout",
     "output_type": "stream",
     "text": [
      "[LightGBM] [Warning] bagging_fraction is set=0.8185320521510504, subsample=1.0 will be ignored. Current value: bagging_fraction=0.8185320521510504\n",
      "[LightGBM] [Warning] feature_fraction is set=0.7263017173818485, colsample_bytree=1.0 will be ignored. Current value: feature_fraction=0.7263017173818485\n",
      "[LightGBM] [Warning] bagging_fraction is set=0.8185320521510504, subsample=1.0 will be ignored. Current value: bagging_fraction=0.8185320521510504\n",
      "[LightGBM] [Warning] feature_fraction is set=0.7263017173818485, colsample_bytree=1.0 will be ignored. Current value: feature_fraction=0.7263017173818485\n",
      "[LightGBM] [Warning] bagging_fraction is set=0.8185320521510504, subsample=1.0 will be ignored. Current value: bagging_fraction=0.8185320521510504\n",
      "[LightGBM] [Warning] feature_fraction is set=0.7263017173818485, colsample_bytree=1.0 will be ignored. Current value: feature_fraction=0.7263017173818485\n"
     ]
    },
    {
     "name": "stderr",
     "output_type": "stream",
     "text": [
      "[I 2024-05-20 17:20:59,997] Trial 68 finished with value: 2.6357748679721893 and parameters: {'num_leaves': 126, 'feature_fraction': 0.7263017173818485, 'bagging_fraction': 0.8185320521510504, 'min_child_samples': 56}. Best is trial 52 with value: 2.52150880697246.\n"
     ]
    },
    {
     "name": "stdout",
     "output_type": "stream",
     "text": [
      "[LightGBM] [Warning] bagging_fraction is set=0.7778343333210007, subsample=1.0 will be ignored. Current value: bagging_fraction=0.7778343333210007\n",
      "[LightGBM] [Warning] feature_fraction is set=0.6292571892182041, colsample_bytree=1.0 will be ignored. Current value: feature_fraction=0.6292571892182041\n",
      "[LightGBM] [Warning] bagging_fraction is set=0.7778343333210007, subsample=1.0 will be ignored. Current value: bagging_fraction=0.7778343333210007\n",
      "[LightGBM] [Warning] feature_fraction is set=0.6292571892182041, colsample_bytree=1.0 will be ignored. Current value: feature_fraction=0.6292571892182041\n",
      "[LightGBM] [Warning] bagging_fraction is set=0.7778343333210007, subsample=1.0 will be ignored. Current value: bagging_fraction=0.7778343333210007\n",
      "[LightGBM] [Warning] feature_fraction is set=0.6292571892182041, colsample_bytree=1.0 will be ignored. Current value: feature_fraction=0.6292571892182041\n"
     ]
    },
    {
     "name": "stderr",
     "output_type": "stream",
     "text": [
      "[I 2024-05-20 17:21:21,205] Trial 69 finished with value: 2.643798930706547 and parameters: {'num_leaves': 86, 'feature_fraction': 0.6292571892182041, 'bagging_fraction': 0.7778343333210007, 'min_child_samples': 46}. Best is trial 52 with value: 2.52150880697246.\n"
     ]
    },
    {
     "name": "stdout",
     "output_type": "stream",
     "text": [
      "[LightGBM] [Warning] bagging_fraction is set=0.8285192852035661, subsample=1.0 will be ignored. Current value: bagging_fraction=0.8285192852035661\n",
      "[LightGBM] [Warning] feature_fraction is set=0.6892865010430681, colsample_bytree=1.0 will be ignored. Current value: feature_fraction=0.6892865010430681\n",
      "[LightGBM] [Warning] bagging_fraction is set=0.8285192852035661, subsample=1.0 will be ignored. Current value: bagging_fraction=0.8285192852035661\n",
      "[LightGBM] [Warning] feature_fraction is set=0.6892865010430681, colsample_bytree=1.0 will be ignored. Current value: feature_fraction=0.6892865010430681\n",
      "[LightGBM] [Warning] bagging_fraction is set=0.8285192852035661, subsample=1.0 will be ignored. Current value: bagging_fraction=0.8285192852035661\n",
      "[LightGBM] [Warning] feature_fraction is set=0.6892865010430681, colsample_bytree=1.0 will be ignored. Current value: feature_fraction=0.6892865010430681\n"
     ]
    },
    {
     "name": "stderr",
     "output_type": "stream",
     "text": [
      "[I 2024-05-20 17:21:58,180] Trial 70 finished with value: 2.572779390842687 and parameters: {'num_leaves': 175, 'feature_fraction': 0.6892865010430681, 'bagging_fraction': 0.8285192852035661, 'min_child_samples': 77}. Best is trial 52 with value: 2.52150880697246.\n"
     ]
    },
    {
     "name": "stdout",
     "output_type": "stream",
     "text": [
      "[LightGBM] [Warning] bagging_fraction is set=0.9031202617281088, subsample=1.0 will be ignored. Current value: bagging_fraction=0.9031202617281088\n",
      "[LightGBM] [Warning] feature_fraction is set=0.8737152745290032, colsample_bytree=1.0 will be ignored. Current value: feature_fraction=0.8737152745290032\n",
      "[LightGBM] [Warning] bagging_fraction is set=0.9031202617281088, subsample=1.0 will be ignored. Current value: bagging_fraction=0.9031202617281088\n",
      "[LightGBM] [Warning] feature_fraction is set=0.8737152745290032, colsample_bytree=1.0 will be ignored. Current value: feature_fraction=0.8737152745290032\n",
      "[LightGBM] [Warning] bagging_fraction is set=0.9031202617281088, subsample=1.0 will be ignored. Current value: bagging_fraction=0.9031202617281088\n",
      "[LightGBM] [Warning] feature_fraction is set=0.8737152745290032, colsample_bytree=1.0 will be ignored. Current value: feature_fraction=0.8737152745290032\n"
     ]
    },
    {
     "name": "stderr",
     "output_type": "stream",
     "text": [
      "[I 2024-05-20 17:22:28,946] Trial 71 finished with value: 2.540093247869025 and parameters: {'num_leaves': 115, 'feature_fraction': 0.8737152745290032, 'bagging_fraction': 0.9031202617281088, 'min_child_samples': 70}. Best is trial 52 with value: 2.52150880697246.\n"
     ]
    },
    {
     "name": "stdout",
     "output_type": "stream",
     "text": [
      "[LightGBM] [Warning] bagging_fraction is set=0.9230590457445724, subsample=1.0 will be ignored. Current value: bagging_fraction=0.9230590457445724\n",
      "[LightGBM] [Warning] feature_fraction is set=0.830848523616105, colsample_bytree=1.0 will be ignored. Current value: feature_fraction=0.830848523616105\n",
      "[LightGBM] [Warning] bagging_fraction is set=0.9230590457445724, subsample=1.0 will be ignored. Current value: bagging_fraction=0.9230590457445724\n",
      "[LightGBM] [Warning] feature_fraction is set=0.830848523616105, colsample_bytree=1.0 will be ignored. Current value: feature_fraction=0.830848523616105\n",
      "[LightGBM] [Warning] bagging_fraction is set=0.9230590457445724, subsample=1.0 will be ignored. Current value: bagging_fraction=0.9230590457445724\n",
      "[LightGBM] [Warning] feature_fraction is set=0.830848523616105, colsample_bytree=1.0 will be ignored. Current value: feature_fraction=0.830848523616105\n"
     ]
    },
    {
     "name": "stderr",
     "output_type": "stream",
     "text": [
      "[I 2024-05-20 17:22:57,116] Trial 72 finished with value: 2.607936324763895 and parameters: {'num_leaves': 101, 'feature_fraction': 0.830848523616105, 'bagging_fraction': 0.9230590457445724, 'min_child_samples': 82}. Best is trial 52 with value: 2.52150880697246.\n"
     ]
    },
    {
     "name": "stdout",
     "output_type": "stream",
     "text": [
      "[LightGBM] [Warning] bagging_fraction is set=0.8582431186682041, subsample=1.0 will be ignored. Current value: bagging_fraction=0.8582431186682041\n",
      "[LightGBM] [Warning] feature_fraction is set=0.8052815441311342, colsample_bytree=1.0 will be ignored. Current value: feature_fraction=0.8052815441311342\n",
      "[LightGBM] [Warning] bagging_fraction is set=0.8582431186682041, subsample=1.0 will be ignored. Current value: bagging_fraction=0.8582431186682041\n",
      "[LightGBM] [Warning] feature_fraction is set=0.8052815441311342, colsample_bytree=1.0 will be ignored. Current value: feature_fraction=0.8052815441311342\n",
      "[LightGBM] [Warning] bagging_fraction is set=0.8582431186682041, subsample=1.0 will be ignored. Current value: bagging_fraction=0.8582431186682041\n",
      "[LightGBM] [Warning] feature_fraction is set=0.8052815441311342, colsample_bytree=1.0 will be ignored. Current value: feature_fraction=0.8052815441311342\n"
     ]
    },
    {
     "name": "stderr",
     "output_type": "stream",
     "text": [
      "[I 2024-05-20 17:23:38,153] Trial 73 finished with value: 2.6133493535999412 and parameters: {'num_leaves': 207, 'feature_fraction': 0.8052815441311342, 'bagging_fraction': 0.8582431186682041, 'min_child_samples': 72}. Best is trial 52 with value: 2.52150880697246.\n"
     ]
    },
    {
     "name": "stdout",
     "output_type": "stream",
     "text": [
      "[LightGBM] [Warning] bagging_fraction is set=0.949431821989036, subsample=1.0 will be ignored. Current value: bagging_fraction=0.949431821989036\n",
      "[LightGBM] [Warning] feature_fraction is set=0.8507954095718482, colsample_bytree=1.0 will be ignored. Current value: feature_fraction=0.8507954095718482\n",
      "[LightGBM] [Warning] bagging_fraction is set=0.949431821989036, subsample=1.0 will be ignored. Current value: bagging_fraction=0.949431821989036\n",
      "[LightGBM] [Warning] feature_fraction is set=0.8507954095718482, colsample_bytree=1.0 will be ignored. Current value: feature_fraction=0.8507954095718482\n",
      "[LightGBM] [Warning] bagging_fraction is set=0.949431821989036, subsample=1.0 will be ignored. Current value: bagging_fraction=0.949431821989036\n",
      "[LightGBM] [Warning] feature_fraction is set=0.8507954095718482, colsample_bytree=1.0 will be ignored. Current value: feature_fraction=0.8507954095718482\n"
     ]
    },
    {
     "name": "stderr",
     "output_type": "stream",
     "text": [
      "[I 2024-05-20 17:24:14,371] Trial 74 finished with value: 2.5448558110435275 and parameters: {'num_leaves': 145, 'feature_fraction': 0.8507954095718482, 'bagging_fraction': 0.949431821989036, 'min_child_samples': 63}. Best is trial 52 with value: 2.52150880697246.\n"
     ]
    },
    {
     "name": "stdout",
     "output_type": "stream",
     "text": [
      "[LightGBM] [Warning] bagging_fraction is set=0.8864667258460267, subsample=1.0 will be ignored. Current value: bagging_fraction=0.8864667258460267\n",
      "[LightGBM] [Warning] feature_fraction is set=0.9774792845202316, colsample_bytree=1.0 will be ignored. Current value: feature_fraction=0.9774792845202316\n",
      "[LightGBM] [Warning] bagging_fraction is set=0.8864667258460267, subsample=1.0 will be ignored. Current value: bagging_fraction=0.8864667258460267\n",
      "[LightGBM] [Warning] feature_fraction is set=0.9774792845202316, colsample_bytree=1.0 will be ignored. Current value: feature_fraction=0.9774792845202316\n",
      "[LightGBM] [Warning] bagging_fraction is set=0.8864667258460267, subsample=1.0 will be ignored. Current value: bagging_fraction=0.8864667258460267\n",
      "[LightGBM] [Warning] feature_fraction is set=0.9774792845202316, colsample_bytree=1.0 will be ignored. Current value: feature_fraction=0.9774792845202316\n"
     ]
    },
    {
     "name": "stderr",
     "output_type": "stream",
     "text": [
      "[I 2024-05-20 17:24:38,802] Trial 75 finished with value: 2.6792079438640113 and parameters: {'num_leaves': 76, 'feature_fraction': 0.9774792845202316, 'bagging_fraction': 0.8864667258460267, 'min_child_samples': 86}. Best is trial 52 with value: 2.52150880697246.\n"
     ]
    },
    {
     "name": "stdout",
     "output_type": "stream",
     "text": [
      "[LightGBM] [Warning] bagging_fraction is set=0.9799965405631054, subsample=1.0 will be ignored. Current value: bagging_fraction=0.9799965405631054\n",
      "[LightGBM] [Warning] feature_fraction is set=0.6416023080381053, colsample_bytree=1.0 will be ignored. Current value: feature_fraction=0.6416023080381053\n",
      "[LightGBM] [Warning] bagging_fraction is set=0.9799965405631054, subsample=1.0 will be ignored. Current value: bagging_fraction=0.9799965405631054\n",
      "[LightGBM] [Warning] feature_fraction is set=0.6416023080381053, colsample_bytree=1.0 will be ignored. Current value: feature_fraction=0.6416023080381053\n",
      "[LightGBM] [Warning] bagging_fraction is set=0.9799965405631054, subsample=1.0 will be ignored. Current value: bagging_fraction=0.9799965405631054\n",
      "[LightGBM] [Warning] feature_fraction is set=0.6416023080381053, colsample_bytree=1.0 will be ignored. Current value: feature_fraction=0.6416023080381053\n"
     ]
    },
    {
     "name": "stderr",
     "output_type": "stream",
     "text": [
      "[I 2024-05-20 17:25:24,053] Trial 76 finished with value: 2.5665281670247997 and parameters: {'num_leaves': 225, 'feature_fraction': 0.6416023080381053, 'bagging_fraction': 0.9799965405631054, 'min_child_samples': 67}. Best is trial 52 with value: 2.52150880697246.\n"
     ]
    },
    {
     "name": "stdout",
     "output_type": "stream",
     "text": [
      "[LightGBM] [Warning] bagging_fraction is set=0.7248042213072391, subsample=1.0 will be ignored. Current value: bagging_fraction=0.7248042213072391\n",
      "[LightGBM] [Warning] feature_fraction is set=0.9402681546954541, colsample_bytree=1.0 will be ignored. Current value: feature_fraction=0.9402681546954541\n",
      "[LightGBM] [Warning] bagging_fraction is set=0.7248042213072391, subsample=1.0 will be ignored. Current value: bagging_fraction=0.7248042213072391\n",
      "[LightGBM] [Warning] feature_fraction is set=0.9402681546954541, colsample_bytree=1.0 will be ignored. Current value: feature_fraction=0.9402681546954541\n",
      "[LightGBM] [Warning] bagging_fraction is set=0.7248042213072391, subsample=1.0 will be ignored. Current value: bagging_fraction=0.7248042213072391\n",
      "[LightGBM] [Warning] feature_fraction is set=0.9402681546954541, colsample_bytree=1.0 will be ignored. Current value: feature_fraction=0.9402681546954541\n"
     ]
    },
    {
     "name": "stderr",
     "output_type": "stream",
     "text": [
      "[I 2024-05-20 17:25:54,238] Trial 77 finished with value: 2.703959911645542 and parameters: {'num_leaves': 92, 'feature_fraction': 0.9402681546954541, 'bagging_fraction': 0.7248042213072391, 'min_child_samples': 38}. Best is trial 52 with value: 2.52150880697246.\n"
     ]
    },
    {
     "name": "stdout",
     "output_type": "stream",
     "text": [
      "[LightGBM] [Warning] bagging_fraction is set=0.6574766165359381, subsample=1.0 will be ignored. Current value: bagging_fraction=0.6574766165359381\n",
      "[LightGBM] [Warning] feature_fraction is set=0.9048795093133196, colsample_bytree=1.0 will be ignored. Current value: feature_fraction=0.9048795093133196\n",
      "[LightGBM] [Warning] bagging_fraction is set=0.6574766165359381, subsample=1.0 will be ignored. Current value: bagging_fraction=0.6574766165359381\n",
      "[LightGBM] [Warning] feature_fraction is set=0.9048795093133196, colsample_bytree=1.0 will be ignored. Current value: feature_fraction=0.9048795093133196\n",
      "[LightGBM] [Warning] bagging_fraction is set=0.6574766165359381, subsample=1.0 will be ignored. Current value: bagging_fraction=0.6574766165359381\n",
      "[LightGBM] [Warning] feature_fraction is set=0.9048795093133196, colsample_bytree=1.0 will be ignored. Current value: feature_fraction=0.9048795093133196\n"
     ]
    },
    {
     "name": "stderr",
     "output_type": "stream",
     "text": [
      "[I 2024-05-20 17:26:42,588] Trial 78 finished with value: 2.637584933364778 and parameters: {'num_leaves': 213, 'feature_fraction': 0.9048795093133196, 'bagging_fraction': 0.6574766165359381, 'min_child_samples': 59}. Best is trial 52 with value: 2.52150880697246.\n"
     ]
    },
    {
     "name": "stdout",
     "output_type": "stream",
     "text": [
      "[LightGBM] [Warning] bagging_fraction is set=0.8002445251572259, subsample=1.0 will be ignored. Current value: bagging_fraction=0.8002445251572259\n",
      "[LightGBM] [Warning] feature_fraction is set=0.2907238756408411, colsample_bytree=1.0 will be ignored. Current value: feature_fraction=0.2907238756408411\n",
      "[LightGBM] [Warning] bagging_fraction is set=0.8002445251572259, subsample=1.0 will be ignored. Current value: bagging_fraction=0.8002445251572259\n",
      "[LightGBM] [Warning] feature_fraction is set=0.2907238756408411, colsample_bytree=1.0 will be ignored. Current value: feature_fraction=0.2907238756408411\n",
      "[LightGBM] [Warning] bagging_fraction is set=0.8002445251572259, subsample=1.0 will be ignored. Current value: bagging_fraction=0.8002445251572259\n",
      "[LightGBM] [Warning] feature_fraction is set=0.2907238756408411, colsample_bytree=1.0 will be ignored. Current value: feature_fraction=0.2907238756408411\n"
     ]
    },
    {
     "name": "stderr",
     "output_type": "stream",
     "text": [
      "[I 2024-05-20 17:26:59,993] Trial 79 finished with value: 2.555554546600255 and parameters: {'num_leaves': 111, 'feature_fraction': 0.2907238756408411, 'bagging_fraction': 0.8002445251572259, 'min_child_samples': 74}. Best is trial 52 with value: 2.52150880697246.\n"
     ]
    },
    {
     "name": "stdout",
     "output_type": "stream",
     "text": [
      "[LightGBM] [Warning] bagging_fraction is set=0.944775335939621, subsample=1.0 will be ignored. Current value: bagging_fraction=0.944775335939621\n",
      "[LightGBM] [Warning] feature_fraction is set=0.6011865944908801, colsample_bytree=1.0 will be ignored. Current value: feature_fraction=0.6011865944908801\n",
      "[LightGBM] [Warning] bagging_fraction is set=0.944775335939621, subsample=1.0 will be ignored. Current value: bagging_fraction=0.944775335939621\n",
      "[LightGBM] [Warning] feature_fraction is set=0.6011865944908801, colsample_bytree=1.0 will be ignored. Current value: feature_fraction=0.6011865944908801\n",
      "[LightGBM] [Warning] bagging_fraction is set=0.944775335939621, subsample=1.0 will be ignored. Current value: bagging_fraction=0.944775335939621\n",
      "[LightGBM] [Warning] feature_fraction is set=0.6011865944908801, colsample_bytree=1.0 will be ignored. Current value: feature_fraction=0.6011865944908801\n"
     ]
    },
    {
     "name": "stderr",
     "output_type": "stream",
     "text": [
      "[I 2024-05-20 17:27:30,760] Trial 80 finished with value: 2.6304525088895034 and parameters: {'num_leaves': 254, 'feature_fraction': 0.6011865944908801, 'bagging_fraction': 0.944775335939621, 'min_child_samples': 93}. Best is trial 52 with value: 2.52150880697246.\n"
     ]
    },
    {
     "name": "stdout",
     "output_type": "stream",
     "text": [
      "[LightGBM] [Warning] bagging_fraction is set=0.9161612649719735, subsample=1.0 will be ignored. Current value: bagging_fraction=0.9161612649719735\n",
      "[LightGBM] [Warning] feature_fraction is set=0.6474412257073173, colsample_bytree=1.0 will be ignored. Current value: feature_fraction=0.6474412257073173\n",
      "[LightGBM] [Warning] bagging_fraction is set=0.9161612649719735, subsample=1.0 will be ignored. Current value: bagging_fraction=0.9161612649719735\n",
      "[LightGBM] [Warning] feature_fraction is set=0.6474412257073173, colsample_bytree=1.0 will be ignored. Current value: feature_fraction=0.6474412257073173\n",
      "[LightGBM] [Warning] bagging_fraction is set=0.9161612649719735, subsample=1.0 will be ignored. Current value: bagging_fraction=0.9161612649719735\n",
      "[LightGBM] [Warning] feature_fraction is set=0.6474412257073173, colsample_bytree=1.0 will be ignored. Current value: feature_fraction=0.6474412257073173\n"
     ]
    },
    {
     "name": "stderr",
     "output_type": "stream",
     "text": [
      "[I 2024-05-20 17:28:10,255] Trial 81 finished with value: 2.5618804979003977 and parameters: {'num_leaves': 233, 'feature_fraction': 0.6474412257073173, 'bagging_fraction': 0.9161612649719735, 'min_child_samples': 68}. Best is trial 52 with value: 2.52150880697246.\n"
     ]
    },
    {
     "name": "stdout",
     "output_type": "stream",
     "text": [
      "[LightGBM] [Warning] bagging_fraction is set=0.937165001774572, subsample=1.0 will be ignored. Current value: bagging_fraction=0.937165001774572\n",
      "[LightGBM] [Warning] feature_fraction is set=0.8794516124428241, colsample_bytree=1.0 will be ignored. Current value: feature_fraction=0.8794516124428241\n",
      "[LightGBM] [Warning] bagging_fraction is set=0.937165001774572, subsample=1.0 will be ignored. Current value: bagging_fraction=0.937165001774572\n",
      "[LightGBM] [Warning] feature_fraction is set=0.8794516124428241, colsample_bytree=1.0 will be ignored. Current value: feature_fraction=0.8794516124428241\n",
      "[LightGBM] [Warning] bagging_fraction is set=0.937165001774572, subsample=1.0 will be ignored. Current value: bagging_fraction=0.937165001774572\n",
      "[LightGBM] [Warning] feature_fraction is set=0.8794516124428241, colsample_bytree=1.0 will be ignored. Current value: feature_fraction=0.8794516124428241\n"
     ]
    },
    {
     "name": "stderr",
     "output_type": "stream",
     "text": [
      "[I 2024-05-20 17:28:53,670] Trial 82 finished with value: 2.6173557306333315 and parameters: {'num_leaves': 202, 'feature_fraction': 0.8794516124428241, 'bagging_fraction': 0.937165001774572, 'min_child_samples': 71}. Best is trial 52 with value: 2.52150880697246.\n"
     ]
    },
    {
     "name": "stdout",
     "output_type": "stream",
     "text": [
      "[LightGBM] [Warning] bagging_fraction is set=0.8620528500841953, subsample=1.0 will be ignored. Current value: bagging_fraction=0.8620528500841953\n",
      "[LightGBM] [Warning] feature_fraction is set=0.8662323600114934, colsample_bytree=1.0 will be ignored. Current value: feature_fraction=0.8662323600114934\n",
      "[LightGBM] [Warning] bagging_fraction is set=0.8620528500841953, subsample=1.0 will be ignored. Current value: bagging_fraction=0.8620528500841953\n",
      "[LightGBM] [Warning] feature_fraction is set=0.8662323600114934, colsample_bytree=1.0 will be ignored. Current value: feature_fraction=0.8662323600114934\n",
      "[LightGBM] [Warning] bagging_fraction is set=0.8620528500841953, subsample=1.0 will be ignored. Current value: bagging_fraction=0.8620528500841953\n",
      "[LightGBM] [Warning] feature_fraction is set=0.8662323600114934, colsample_bytree=1.0 will be ignored. Current value: feature_fraction=0.8662323600114934\n"
     ]
    },
    {
     "name": "stderr",
     "output_type": "stream",
     "text": [
      "[I 2024-05-20 17:29:34,771] Trial 83 finished with value: 2.6122789115363574 and parameters: {'num_leaves': 192, 'feature_fraction': 0.8662323600114934, 'bagging_fraction': 0.8620528500841953, 'min_child_samples': 76}. Best is trial 52 with value: 2.52150880697246.\n"
     ]
    },
    {
     "name": "stdout",
     "output_type": "stream",
     "text": [
      "[LightGBM] [Warning] bagging_fraction is set=0.8916854234024089, subsample=1.0 will be ignored. Current value: bagging_fraction=0.8916854234024089\n",
      "[LightGBM] [Warning] feature_fraction is set=0.7962911344729801, colsample_bytree=1.0 will be ignored. Current value: feature_fraction=0.7962911344729801\n",
      "[LightGBM] [Warning] bagging_fraction is set=0.8916854234024089, subsample=1.0 will be ignored. Current value: bagging_fraction=0.8916854234024089\n",
      "[LightGBM] [Warning] feature_fraction is set=0.7962911344729801, colsample_bytree=1.0 will be ignored. Current value: feature_fraction=0.7962911344729801\n",
      "[LightGBM] [Warning] bagging_fraction is set=0.8916854234024089, subsample=1.0 will be ignored. Current value: bagging_fraction=0.8916854234024089\n",
      "[LightGBM] [Warning] feature_fraction is set=0.7962911344729801, colsample_bytree=1.0 will be ignored. Current value: feature_fraction=0.7962911344729801\n"
     ]
    },
    {
     "name": "stderr",
     "output_type": "stream",
     "text": [
      "[I 2024-05-20 17:30:14,964] Trial 84 finished with value: 2.599902214996176 and parameters: {'num_leaves': 246, 'feature_fraction': 0.7962911344729801, 'bagging_fraction': 0.8916854234024089, 'min_child_samples': 80}. Best is trial 52 with value: 2.52150880697246.\n"
     ]
    },
    {
     "name": "stdout",
     "output_type": "stream",
     "text": [
      "[LightGBM] [Warning] bagging_fraction is set=0.4021379305584091, subsample=1.0 will be ignored. Current value: bagging_fraction=0.4021379305584091\n",
      "[LightGBM] [Warning] feature_fraction is set=0.5715205503025453, colsample_bytree=1.0 will be ignored. Current value: feature_fraction=0.5715205503025453\n",
      "[LightGBM] [Warning] bagging_fraction is set=0.4021379305584091, subsample=1.0 will be ignored. Current value: bagging_fraction=0.4021379305584091\n",
      "[LightGBM] [Warning] feature_fraction is set=0.5715205503025453, colsample_bytree=1.0 will be ignored. Current value: feature_fraction=0.5715205503025453\n",
      "[LightGBM] [Warning] bagging_fraction is set=0.4021379305584091, subsample=1.0 will be ignored. Current value: bagging_fraction=0.4021379305584091\n",
      "[LightGBM] [Warning] feature_fraction is set=0.5715205503025453, colsample_bytree=1.0 will be ignored. Current value: feature_fraction=0.5715205503025453\n"
     ]
    },
    {
     "name": "stderr",
     "output_type": "stream",
     "text": [
      "[I 2024-05-20 17:30:47,714] Trial 85 finished with value: 2.5515772019458525 and parameters: {'num_leaves': 161, 'feature_fraction': 0.5715205503025453, 'bagging_fraction': 0.4021379305584091, 'min_child_samples': 65}. Best is trial 52 with value: 2.52150880697246.\n"
     ]
    },
    {
     "name": "stdout",
     "output_type": "stream",
     "text": [
      "[LightGBM] [Warning] bagging_fraction is set=0.4788531890480794, subsample=1.0 will be ignored. Current value: bagging_fraction=0.4788531890480794\n",
      "[LightGBM] [Warning] feature_fraction is set=0.7548780782400727, colsample_bytree=1.0 will be ignored. Current value: feature_fraction=0.7548780782400727\n",
      "[LightGBM] [Warning] bagging_fraction is set=0.4788531890480794, subsample=1.0 will be ignored. Current value: bagging_fraction=0.4788531890480794\n",
      "[LightGBM] [Warning] feature_fraction is set=0.7548780782400727, colsample_bytree=1.0 will be ignored. Current value: feature_fraction=0.7548780782400727\n",
      "[LightGBM] [Warning] bagging_fraction is set=0.4788531890480794, subsample=1.0 will be ignored. Current value: bagging_fraction=0.4788531890480794\n",
      "[LightGBM] [Warning] feature_fraction is set=0.7548780782400727, colsample_bytree=1.0 will be ignored. Current value: feature_fraction=0.7548780782400727\n"
     ]
    },
    {
     "name": "stderr",
     "output_type": "stream",
     "text": [
      "[I 2024-05-20 17:31:31,705] Trial 86 finished with value: 2.6497694199576287 and parameters: {'num_leaves': 208, 'feature_fraction': 0.7548780782400727, 'bagging_fraction': 0.4788531890480794, 'min_child_samples': 53}. Best is trial 52 with value: 2.52150880697246.\n"
     ]
    },
    {
     "name": "stdout",
     "output_type": "stream",
     "text": [
      "[LightGBM] [Warning] bagging_fraction is set=0.9737497558420323, subsample=1.0 will be ignored. Current value: bagging_fraction=0.9737497558420323\n",
      "[LightGBM] [Warning] feature_fraction is set=0.9282970226621258, colsample_bytree=1.0 will be ignored. Current value: feature_fraction=0.9282970226621258\n",
      "[LightGBM] [Warning] bagging_fraction is set=0.9737497558420323, subsample=1.0 will be ignored. Current value: bagging_fraction=0.9737497558420323\n",
      "[LightGBM] [Warning] feature_fraction is set=0.9282970226621258, colsample_bytree=1.0 will be ignored. Current value: feature_fraction=0.9282970226621258\n",
      "[LightGBM] [Warning] bagging_fraction is set=0.9737497558420323, subsample=1.0 will be ignored. Current value: bagging_fraction=0.9737497558420323\n",
      "[LightGBM] [Warning] feature_fraction is set=0.9282970226621258, colsample_bytree=1.0 will be ignored. Current value: feature_fraction=0.9282970226621258\n"
     ]
    },
    {
     "name": "stderr",
     "output_type": "stream",
     "text": [
      "[I 2024-05-20 17:32:21,001] Trial 87 finished with value: 2.6363283966501254 and parameters: {'num_leaves': 236, 'feature_fraction': 0.9282970226621258, 'bagging_fraction': 0.9737497558420323, 'min_child_samples': 62}. Best is trial 52 with value: 2.52150880697246.\n"
     ]
    },
    {
     "name": "stdout",
     "output_type": "stream",
     "text": [
      "[LightGBM] [Warning] bagging_fraction is set=0.912517139252416, subsample=1.0 will be ignored. Current value: bagging_fraction=0.912517139252416\n",
      "[LightGBM] [Warning] feature_fraction is set=0.8323355389246324, colsample_bytree=1.0 will be ignored. Current value: feature_fraction=0.8323355389246324\n",
      "[LightGBM] [Warning] bagging_fraction is set=0.912517139252416, subsample=1.0 will be ignored. Current value: bagging_fraction=0.912517139252416\n",
      "[LightGBM] [Warning] feature_fraction is set=0.8323355389246324, colsample_bytree=1.0 will be ignored. Current value: feature_fraction=0.8323355389246324\n",
      "[LightGBM] [Warning] bagging_fraction is set=0.912517139252416, subsample=1.0 will be ignored. Current value: bagging_fraction=0.912517139252416\n",
      "[LightGBM] [Warning] feature_fraction is set=0.8323355389246324, colsample_bytree=1.0 will be ignored. Current value: feature_fraction=0.8323355389246324\n"
     ]
    },
    {
     "name": "stderr",
     "output_type": "stream",
     "text": [
      "[I 2024-05-20 17:33:05,587] Trial 88 finished with value: 2.5521712857455783 and parameters: {'num_leaves': 227, 'feature_fraction': 0.8323355389246324, 'bagging_fraction': 0.912517139252416, 'min_child_samples': 67}. Best is trial 52 with value: 2.52150880697246.\n"
     ]
    },
    {
     "name": "stdout",
     "output_type": "stream",
     "text": [
      "[LightGBM] [Warning] bagging_fraction is set=0.8414658718068432, subsample=1.0 will be ignored. Current value: bagging_fraction=0.8414658718068432\n",
      "[LightGBM] [Warning] feature_fraction is set=0.9757306708370591, colsample_bytree=1.0 will be ignored. Current value: feature_fraction=0.9757306708370591\n",
      "[LightGBM] [Warning] bagging_fraction is set=0.8414658718068432, subsample=1.0 will be ignored. Current value: bagging_fraction=0.8414658718068432\n",
      "[LightGBM] [Warning] feature_fraction is set=0.9757306708370591, colsample_bytree=1.0 will be ignored. Current value: feature_fraction=0.9757306708370591\n",
      "[LightGBM] [Warning] bagging_fraction is set=0.8414658718068432, subsample=1.0 will be ignored. Current value: bagging_fraction=0.8414658718068432\n",
      "[LightGBM] [Warning] feature_fraction is set=0.9757306708370591, colsample_bytree=1.0 will be ignored. Current value: feature_fraction=0.9757306708370591\n"
     ]
    },
    {
     "name": "stderr",
     "output_type": "stream",
     "text": [
      "[I 2024-05-20 17:33:52,077] Trial 89 finished with value: 2.546514226864622 and parameters: {'num_leaves': 218, 'feature_fraction': 0.9757306708370591, 'bagging_fraction': 0.8414658718068432, 'min_child_samples': 70}. Best is trial 52 with value: 2.52150880697246.\n"
     ]
    },
    {
     "name": "stdout",
     "output_type": "stream",
     "text": [
      "[LightGBM] [Warning] bagging_fraction is set=0.8774508623924642, subsample=1.0 will be ignored. Current value: bagging_fraction=0.8774508623924642\n",
      "[LightGBM] [Warning] feature_fraction is set=0.707822923224189, colsample_bytree=1.0 will be ignored. Current value: feature_fraction=0.707822923224189\n",
      "[LightGBM] [Warning] bagging_fraction is set=0.8774508623924642, subsample=1.0 will be ignored. Current value: bagging_fraction=0.8774508623924642\n",
      "[LightGBM] [Warning] feature_fraction is set=0.707822923224189, colsample_bytree=1.0 will be ignored. Current value: feature_fraction=0.707822923224189\n",
      "[LightGBM] [Warning] bagging_fraction is set=0.8774508623924642, subsample=1.0 will be ignored. Current value: bagging_fraction=0.8774508623924642\n",
      "[LightGBM] [Warning] feature_fraction is set=0.707822923224189, colsample_bytree=1.0 will be ignored. Current value: feature_fraction=0.707822923224189\n"
     ]
    },
    {
     "name": "stderr",
     "output_type": "stream",
     "text": [
      "[I 2024-05-20 17:34:19,735] Trial 90 finished with value: 2.5584066827424734 and parameters: {'num_leaves': 122, 'feature_fraction': 0.707822923224189, 'bagging_fraction': 0.8774508623924642, 'min_child_samples': 26}. Best is trial 52 with value: 2.52150880697246.\n"
     ]
    },
    {
     "name": "stdout",
     "output_type": "stream",
     "text": [
      "[LightGBM] [Warning] bagging_fraction is set=0.9008334949961447, subsample=1.0 will be ignored. Current value: bagging_fraction=0.9008334949961447\n",
      "[LightGBM] [Warning] feature_fraction is set=0.8770356876300196, colsample_bytree=1.0 will be ignored. Current value: feature_fraction=0.8770356876300196\n",
      "[LightGBM] [Warning] bagging_fraction is set=0.9008334949961447, subsample=1.0 will be ignored. Current value: bagging_fraction=0.9008334949961447\n",
      "[LightGBM] [Warning] feature_fraction is set=0.8770356876300196, colsample_bytree=1.0 will be ignored. Current value: feature_fraction=0.8770356876300196\n",
      "[LightGBM] [Warning] bagging_fraction is set=0.9008334949961447, subsample=1.0 will be ignored. Current value: bagging_fraction=0.9008334949961447\n",
      "[LightGBM] [Warning] feature_fraction is set=0.8770356876300196, colsample_bytree=1.0 will be ignored. Current value: feature_fraction=0.8770356876300196\n"
     ]
    },
    {
     "name": "stderr",
     "output_type": "stream",
     "text": [
      "[I 2024-05-20 17:34:51,337] Trial 91 finished with value: 2.5438701773690617 and parameters: {'num_leaves': 116, 'feature_fraction': 0.8770356876300196, 'bagging_fraction': 0.9008334949961447, 'min_child_samples': 70}. Best is trial 52 with value: 2.52150880697246.\n"
     ]
    },
    {
     "name": "stdout",
     "output_type": "stream",
     "text": [
      "[LightGBM] [Warning] bagging_fraction is set=0.5298432145876639, subsample=1.0 will be ignored. Current value: bagging_fraction=0.5298432145876639\n",
      "[LightGBM] [Warning] feature_fraction is set=0.8622191475535527, colsample_bytree=1.0 will be ignored. Current value: feature_fraction=0.8622191475535527\n",
      "[LightGBM] [Warning] bagging_fraction is set=0.5298432145876639, subsample=1.0 will be ignored. Current value: bagging_fraction=0.5298432145876639\n",
      "[LightGBM] [Warning] feature_fraction is set=0.8622191475535527, colsample_bytree=1.0 will be ignored. Current value: feature_fraction=0.8622191475535527\n",
      "[LightGBM] [Warning] bagging_fraction is set=0.5298432145876639, subsample=1.0 will be ignored. Current value: bagging_fraction=0.5298432145876639\n",
      "[LightGBM] [Warning] feature_fraction is set=0.8622191475535527, colsample_bytree=1.0 will be ignored. Current value: feature_fraction=0.8622191475535527\n"
     ]
    },
    {
     "name": "stderr",
     "output_type": "stream",
     "text": [
      "[I 2024-05-20 17:35:23,516] Trial 92 finished with value: 2.598774738410088 and parameters: {'num_leaves': 99, 'feature_fraction': 0.8622191475535527, 'bagging_fraction': 0.5298432145876639, 'min_child_samples': 74}. Best is trial 52 with value: 2.52150880697246.\n"
     ]
    },
    {
     "name": "stdout",
     "output_type": "stream",
     "text": [
      "[LightGBM] [Warning] bagging_fraction is set=0.9303382337077277, subsample=1.0 will be ignored. Current value: bagging_fraction=0.9303382337077277\n",
      "[LightGBM] [Warning] feature_fraction is set=0.8979668693890365, colsample_bytree=1.0 will be ignored. Current value: feature_fraction=0.8979668693890365\n",
      "[LightGBM] [Warning] bagging_fraction is set=0.9303382337077277, subsample=1.0 will be ignored. Current value: bagging_fraction=0.9303382337077277\n",
      "[LightGBM] [Warning] feature_fraction is set=0.8979668693890365, colsample_bytree=1.0 will be ignored. Current value: feature_fraction=0.8979668693890365\n",
      "[LightGBM] [Warning] bagging_fraction is set=0.9303382337077277, subsample=1.0 will be ignored. Current value: bagging_fraction=0.9303382337077277\n",
      "[LightGBM] [Warning] feature_fraction is set=0.8979668693890365, colsample_bytree=1.0 will be ignored. Current value: feature_fraction=0.8979668693890365\n"
     ]
    },
    {
     "name": "stderr",
     "output_type": "stream",
     "text": [
      "[I 2024-05-20 17:36:02,581] Trial 93 finished with value: 2.618839232514319 and parameters: {'num_leaves': 133, 'feature_fraction': 0.8979668693890365, 'bagging_fraction': 0.9303382337077277, 'min_child_samples': 78}. Best is trial 52 with value: 2.52150880697246.\n"
     ]
    },
    {
     "name": "stdout",
     "output_type": "stream",
     "text": [
      "[LightGBM] [Warning] bagging_fraction is set=0.90119038213228, subsample=1.0 will be ignored. Current value: bagging_fraction=0.90119038213228\n",
      "[LightGBM] [Warning] feature_fraction is set=0.8206453804588881, colsample_bytree=1.0 will be ignored. Current value: feature_fraction=0.8206453804588881\n",
      "[LightGBM] [Warning] bagging_fraction is set=0.90119038213228, subsample=1.0 will be ignored. Current value: bagging_fraction=0.90119038213228\n",
      "[LightGBM] [Warning] feature_fraction is set=0.8206453804588881, colsample_bytree=1.0 will be ignored. Current value: feature_fraction=0.8206453804588881\n",
      "[LightGBM] [Warning] bagging_fraction is set=0.90119038213228, subsample=1.0 will be ignored. Current value: bagging_fraction=0.90119038213228\n",
      "[LightGBM] [Warning] feature_fraction is set=0.8206453804588881, colsample_bytree=1.0 will be ignored. Current value: feature_fraction=0.8206453804588881\n"
     ]
    },
    {
     "name": "stderr",
     "output_type": "stream",
     "text": [
      "[I 2024-05-20 17:36:34,553] Trial 94 finished with value: 2.622059385357152 and parameters: {'num_leaves': 125, 'feature_fraction': 0.8206453804588881, 'bagging_fraction': 0.90119038213228, 'min_child_samples': 72}. Best is trial 52 with value: 2.52150880697246.\n"
     ]
    },
    {
     "name": "stdout",
     "output_type": "stream",
     "text": [
      "[LightGBM] [Warning] bagging_fraction is set=0.8541592383292518, subsample=1.0 will be ignored. Current value: bagging_fraction=0.8541592383292518\n",
      "[LightGBM] [Warning] feature_fraction is set=0.7740675111732038, colsample_bytree=1.0 will be ignored. Current value: feature_fraction=0.7740675111732038\n",
      "[LightGBM] [Warning] bagging_fraction is set=0.8541592383292518, subsample=1.0 will be ignored. Current value: bagging_fraction=0.8541592383292518\n",
      "[LightGBM] [Warning] feature_fraction is set=0.7740675111732038, colsample_bytree=1.0 will be ignored. Current value: feature_fraction=0.7740675111732038\n",
      "[LightGBM] [Warning] bagging_fraction is set=0.8541592383292518, subsample=1.0 will be ignored. Current value: bagging_fraction=0.8541592383292518\n",
      "[LightGBM] [Warning] feature_fraction is set=0.7740675111732038, colsample_bytree=1.0 will be ignored. Current value: feature_fraction=0.7740675111732038\n"
     ]
    },
    {
     "name": "stderr",
     "output_type": "stream",
     "text": [
      "[I 2024-05-20 17:37:02,574] Trial 95 finished with value: 2.5990153383804784 and parameters: {'num_leaves': 112, 'feature_fraction': 0.7740675111732038, 'bagging_fraction': 0.8541592383292518, 'min_child_samples': 60}. Best is trial 52 with value: 2.52150880697246.\n"
     ]
    },
    {
     "name": "stdout",
     "output_type": "stream",
     "text": [
      "[LightGBM] [Warning] bagging_fraction is set=0.9498350752508037, subsample=1.0 will be ignored. Current value: bagging_fraction=0.9498350752508037\n",
      "[LightGBM] [Warning] feature_fraction is set=0.9158661428068593, colsample_bytree=1.0 will be ignored. Current value: feature_fraction=0.9158661428068593\n",
      "[LightGBM] [Warning] bagging_fraction is set=0.9498350752508037, subsample=1.0 will be ignored. Current value: bagging_fraction=0.9498350752508037\n",
      "[LightGBM] [Warning] feature_fraction is set=0.9158661428068593, colsample_bytree=1.0 will be ignored. Current value: feature_fraction=0.9158661428068593\n",
      "[LightGBM] [Warning] bagging_fraction is set=0.9498350752508037, subsample=1.0 will be ignored. Current value: bagging_fraction=0.9498350752508037\n",
      "[LightGBM] [Warning] feature_fraction is set=0.9158661428068593, colsample_bytree=1.0 will be ignored. Current value: feature_fraction=0.9158661428068593\n"
     ]
    },
    {
     "name": "stderr",
     "output_type": "stream",
     "text": [
      "[I 2024-05-20 17:37:31,510] Trial 96 finished with value: 2.553627325719774 and parameters: {'num_leaves': 104, 'feature_fraction': 0.9158661428068593, 'bagging_fraction': 0.9498350752508037, 'min_child_samples': 69}. Best is trial 52 with value: 2.52150880697246.\n"
     ]
    },
    {
     "name": "stdout",
     "output_type": "stream",
     "text": [
      "[LightGBM] [Warning] bagging_fraction is set=0.817021977659565, subsample=1.0 will be ignored. Current value: bagging_fraction=0.817021977659565\n",
      "[LightGBM] [Warning] feature_fraction is set=0.5216668775884059, colsample_bytree=1.0 will be ignored. Current value: feature_fraction=0.5216668775884059\n",
      "[LightGBM] [Warning] bagging_fraction is set=0.817021977659565, subsample=1.0 will be ignored. Current value: bagging_fraction=0.817021977659565\n",
      "[LightGBM] [Warning] feature_fraction is set=0.5216668775884059, colsample_bytree=1.0 will be ignored. Current value: feature_fraction=0.5216668775884059\n",
      "[LightGBM] [Warning] bagging_fraction is set=0.817021977659565, subsample=1.0 will be ignored. Current value: bagging_fraction=0.817021977659565\n",
      "[LightGBM] [Warning] feature_fraction is set=0.5216668775884059, colsample_bytree=1.0 will be ignored. Current value: feature_fraction=0.5216668775884059\n"
     ]
    },
    {
     "name": "stderr",
     "output_type": "stream",
     "text": [
      "[I 2024-05-20 17:38:07,794] Trial 97 finished with value: 2.5905058310599047 and parameters: {'num_leaves': 243, 'feature_fraction': 0.5216668775884059, 'bagging_fraction': 0.817021977659565, 'min_child_samples': 65}. Best is trial 52 with value: 2.52150880697246.\n"
     ]
    },
    {
     "name": "stdout",
     "output_type": "stream",
     "text": [
      "[LightGBM] [Warning] bagging_fraction is set=0.24522179769008418, subsample=1.0 will be ignored. Current value: bagging_fraction=0.24522179769008418\n",
      "[LightGBM] [Warning] feature_fraction is set=0.9500912543125988, colsample_bytree=1.0 will be ignored. Current value: feature_fraction=0.9500912543125988\n",
      "[LightGBM] [Warning] bagging_fraction is set=0.24522179769008418, subsample=1.0 will be ignored. Current value: bagging_fraction=0.24522179769008418\n",
      "[LightGBM] [Warning] feature_fraction is set=0.9500912543125988, colsample_bytree=1.0 will be ignored. Current value: feature_fraction=0.9500912543125988\n",
      "[LightGBM] [Warning] bagging_fraction is set=0.24522179769008418, subsample=1.0 will be ignored. Current value: bagging_fraction=0.24522179769008418\n",
      "[LightGBM] [Warning] feature_fraction is set=0.9500912543125988, colsample_bytree=1.0 will be ignored. Current value: feature_fraction=0.9500912543125988\n"
     ]
    },
    {
     "name": "stderr",
     "output_type": "stream",
     "text": [
      "[I 2024-05-20 17:38:33,257] Trial 98 finished with value: 2.635399997978187 and parameters: {'num_leaves': 84, 'feature_fraction': 0.9500912543125988, 'bagging_fraction': 0.24522179769008418, 'min_child_samples': 75}. Best is trial 52 with value: 2.52150880697246.\n"
     ]
    },
    {
     "name": "stdout",
     "output_type": "stream",
     "text": [
      "[LightGBM] [Warning] bagging_fraction is set=0.995617931276432, subsample=1.0 will be ignored. Current value: bagging_fraction=0.995617931276432\n",
      "[LightGBM] [Warning] feature_fraction is set=0.8849754932767284, colsample_bytree=1.0 will be ignored. Current value: feature_fraction=0.8849754932767284\n",
      "[LightGBM] [Warning] bagging_fraction is set=0.995617931276432, subsample=1.0 will be ignored. Current value: bagging_fraction=0.995617931276432\n",
      "[LightGBM] [Warning] feature_fraction is set=0.8849754932767284, colsample_bytree=1.0 will be ignored. Current value: feature_fraction=0.8849754932767284\n",
      "[LightGBM] [Warning] bagging_fraction is set=0.995617931276432, subsample=1.0 will be ignored. Current value: bagging_fraction=0.995617931276432\n",
      "[LightGBM] [Warning] feature_fraction is set=0.8849754932767284, colsample_bytree=1.0 will be ignored. Current value: feature_fraction=0.8849754932767284\n"
     ]
    },
    {
     "name": "stderr",
     "output_type": "stream",
     "text": [
      "[I 2024-05-20 17:38:59,640] Trial 99 finished with value: 2.647350747104285 and parameters: {'num_leaves': 88, 'feature_fraction': 0.8849754932767284, 'bagging_fraction': 0.995617931276432, 'min_child_samples': 97}. Best is trial 52 with value: 2.52150880697246.\n"
     ]
    }
   ],
   "source": [
    "study = optuna.create_study(direction='minimize')\n",
    "study.optimize(objective, n_trials=100)"
   ]
  },
  {
   "cell_type": "code",
   "execution_count": 11,
   "metadata": {},
   "outputs": [
    {
     "name": "stdout",
     "output_type": "stream",
     "text": [
      "best_params={'num_leaves': 241, 'feature_fraction': 0.9173905717971508, 'bagging_fraction': 0.8850277325059562, 'min_child_samples': 70}\n"
     ]
    }
   ],
   "source": [
    "best_params = study.best_trial.params\n",
    "print(f'{best_params=}')"
   ]
  },
  {
   "cell_type": "code",
   "execution_count": 12,
   "metadata": {},
   "outputs": [
    {
     "name": "stdout",
     "output_type": "stream",
     "text": [
      "[LightGBM] [Warning] bagging_fraction is set=0.8850277325059562, subsample=1.0 will be ignored. Current value: bagging_fraction=0.8850277325059562\n",
      "[LightGBM] [Warning] feature_fraction is set=0.9173905717971508, colsample_bytree=1.0 will be ignored. Current value: feature_fraction=0.9173905717971508\n"
     ]
    },
    {
     "data": {
      "text/html": [
       "<style>#sk-container-id-1 {\n",
       "  /* Definition of color scheme common for light and dark mode */\n",
       "  --sklearn-color-text: black;\n",
       "  --sklearn-color-line: gray;\n",
       "  /* Definition of color scheme for unfitted estimators */\n",
       "  --sklearn-color-unfitted-level-0: #fff5e6;\n",
       "  --sklearn-color-unfitted-level-1: #f6e4d2;\n",
       "  --sklearn-color-unfitted-level-2: #ffe0b3;\n",
       "  --sklearn-color-unfitted-level-3: chocolate;\n",
       "  /* Definition of color scheme for fitted estimators */\n",
       "  --sklearn-color-fitted-level-0: #f0f8ff;\n",
       "  --sklearn-color-fitted-level-1: #d4ebff;\n",
       "  --sklearn-color-fitted-level-2: #b3dbfd;\n",
       "  --sklearn-color-fitted-level-3: cornflowerblue;\n",
       "\n",
       "  /* Specific color for light theme */\n",
       "  --sklearn-color-text-on-default-background: var(--sg-text-color, var(--theme-code-foreground, var(--jp-content-font-color1, black)));\n",
       "  --sklearn-color-background: var(--sg-background-color, var(--theme-background, var(--jp-layout-color0, white)));\n",
       "  --sklearn-color-border-box: var(--sg-text-color, var(--theme-code-foreground, var(--jp-content-font-color1, black)));\n",
       "  --sklearn-color-icon: #696969;\n",
       "\n",
       "  @media (prefers-color-scheme: dark) {\n",
       "    /* Redefinition of color scheme for dark theme */\n",
       "    --sklearn-color-text-on-default-background: var(--sg-text-color, var(--theme-code-foreground, var(--jp-content-font-color1, white)));\n",
       "    --sklearn-color-background: var(--sg-background-color, var(--theme-background, var(--jp-layout-color0, #111)));\n",
       "    --sklearn-color-border-box: var(--sg-text-color, var(--theme-code-foreground, var(--jp-content-font-color1, white)));\n",
       "    --sklearn-color-icon: #878787;\n",
       "  }\n",
       "}\n",
       "\n",
       "#sk-container-id-1 {\n",
       "  color: var(--sklearn-color-text);\n",
       "}\n",
       "\n",
       "#sk-container-id-1 pre {\n",
       "  padding: 0;\n",
       "}\n",
       "\n",
       "#sk-container-id-1 input.sk-hidden--visually {\n",
       "  border: 0;\n",
       "  clip: rect(1px 1px 1px 1px);\n",
       "  clip: rect(1px, 1px, 1px, 1px);\n",
       "  height: 1px;\n",
       "  margin: -1px;\n",
       "  overflow: hidden;\n",
       "  padding: 0;\n",
       "  position: absolute;\n",
       "  width: 1px;\n",
       "}\n",
       "\n",
       "#sk-container-id-1 div.sk-dashed-wrapped {\n",
       "  border: 1px dashed var(--sklearn-color-line);\n",
       "  margin: 0 0.4em 0.5em 0.4em;\n",
       "  box-sizing: border-box;\n",
       "  padding-bottom: 0.4em;\n",
       "  background-color: var(--sklearn-color-background);\n",
       "}\n",
       "\n",
       "#sk-container-id-1 div.sk-container {\n",
       "  /* jupyter's `normalize.less` sets `[hidden] { display: none; }`\n",
       "     but bootstrap.min.css set `[hidden] { display: none !important; }`\n",
       "     so we also need the `!important` here to be able to override the\n",
       "     default hidden behavior on the sphinx rendered scikit-learn.org.\n",
       "     See: https://github.com/scikit-learn/scikit-learn/issues/21755 */\n",
       "  display: inline-block !important;\n",
       "  position: relative;\n",
       "}\n",
       "\n",
       "#sk-container-id-1 div.sk-text-repr-fallback {\n",
       "  display: none;\n",
       "}\n",
       "\n",
       "div.sk-parallel-item,\n",
       "div.sk-serial,\n",
       "div.sk-item {\n",
       "  /* draw centered vertical line to link estimators */\n",
       "  background-image: linear-gradient(var(--sklearn-color-text-on-default-background), var(--sklearn-color-text-on-default-background));\n",
       "  background-size: 2px 100%;\n",
       "  background-repeat: no-repeat;\n",
       "  background-position: center center;\n",
       "}\n",
       "\n",
       "/* Parallel-specific style estimator block */\n",
       "\n",
       "#sk-container-id-1 div.sk-parallel-item::after {\n",
       "  content: \"\";\n",
       "  width: 100%;\n",
       "  border-bottom: 2px solid var(--sklearn-color-text-on-default-background);\n",
       "  flex-grow: 1;\n",
       "}\n",
       "\n",
       "#sk-container-id-1 div.sk-parallel {\n",
       "  display: flex;\n",
       "  align-items: stretch;\n",
       "  justify-content: center;\n",
       "  background-color: var(--sklearn-color-background);\n",
       "  position: relative;\n",
       "}\n",
       "\n",
       "#sk-container-id-1 div.sk-parallel-item {\n",
       "  display: flex;\n",
       "  flex-direction: column;\n",
       "}\n",
       "\n",
       "#sk-container-id-1 div.sk-parallel-item:first-child::after {\n",
       "  align-self: flex-end;\n",
       "  width: 50%;\n",
       "}\n",
       "\n",
       "#sk-container-id-1 div.sk-parallel-item:last-child::after {\n",
       "  align-self: flex-start;\n",
       "  width: 50%;\n",
       "}\n",
       "\n",
       "#sk-container-id-1 div.sk-parallel-item:only-child::after {\n",
       "  width: 0;\n",
       "}\n",
       "\n",
       "/* Serial-specific style estimator block */\n",
       "\n",
       "#sk-container-id-1 div.sk-serial {\n",
       "  display: flex;\n",
       "  flex-direction: column;\n",
       "  align-items: center;\n",
       "  background-color: var(--sklearn-color-background);\n",
       "  padding-right: 1em;\n",
       "  padding-left: 1em;\n",
       "}\n",
       "\n",
       "\n",
       "/* Toggleable style: style used for estimator/Pipeline/ColumnTransformer box that is\n",
       "clickable and can be expanded/collapsed.\n",
       "- Pipeline and ColumnTransformer use this feature and define the default style\n",
       "- Estimators will overwrite some part of the style using the `sk-estimator` class\n",
       "*/\n",
       "\n",
       "/* Pipeline and ColumnTransformer style (default) */\n",
       "\n",
       "#sk-container-id-1 div.sk-toggleable {\n",
       "  /* Default theme specific background. It is overwritten whether we have a\n",
       "  specific estimator or a Pipeline/ColumnTransformer */\n",
       "  background-color: var(--sklearn-color-background);\n",
       "}\n",
       "\n",
       "/* Toggleable label */\n",
       "#sk-container-id-1 label.sk-toggleable__label {\n",
       "  cursor: pointer;\n",
       "  display: block;\n",
       "  width: 100%;\n",
       "  margin-bottom: 0;\n",
       "  padding: 0.5em;\n",
       "  box-sizing: border-box;\n",
       "  text-align: center;\n",
       "}\n",
       "\n",
       "#sk-container-id-1 label.sk-toggleable__label-arrow:before {\n",
       "  /* Arrow on the left of the label */\n",
       "  content: \"▸\";\n",
       "  float: left;\n",
       "  margin-right: 0.25em;\n",
       "  color: var(--sklearn-color-icon);\n",
       "}\n",
       "\n",
       "#sk-container-id-1 label.sk-toggleable__label-arrow:hover:before {\n",
       "  color: var(--sklearn-color-text);\n",
       "}\n",
       "\n",
       "/* Toggleable content - dropdown */\n",
       "\n",
       "#sk-container-id-1 div.sk-toggleable__content {\n",
       "  max-height: 0;\n",
       "  max-width: 0;\n",
       "  overflow: hidden;\n",
       "  text-align: left;\n",
       "  /* unfitted */\n",
       "  background-color: var(--sklearn-color-unfitted-level-0);\n",
       "}\n",
       "\n",
       "#sk-container-id-1 div.sk-toggleable__content.fitted {\n",
       "  /* fitted */\n",
       "  background-color: var(--sklearn-color-fitted-level-0);\n",
       "}\n",
       "\n",
       "#sk-container-id-1 div.sk-toggleable__content pre {\n",
       "  margin: 0.2em;\n",
       "  border-radius: 0.25em;\n",
       "  color: var(--sklearn-color-text);\n",
       "  /* unfitted */\n",
       "  background-color: var(--sklearn-color-unfitted-level-0);\n",
       "}\n",
       "\n",
       "#sk-container-id-1 div.sk-toggleable__content.fitted pre {\n",
       "  /* unfitted */\n",
       "  background-color: var(--sklearn-color-fitted-level-0);\n",
       "}\n",
       "\n",
       "#sk-container-id-1 input.sk-toggleable__control:checked~div.sk-toggleable__content {\n",
       "  /* Expand drop-down */\n",
       "  max-height: 200px;\n",
       "  max-width: 100%;\n",
       "  overflow: auto;\n",
       "}\n",
       "\n",
       "#sk-container-id-1 input.sk-toggleable__control:checked~label.sk-toggleable__label-arrow:before {\n",
       "  content: \"▾\";\n",
       "}\n",
       "\n",
       "/* Pipeline/ColumnTransformer-specific style */\n",
       "\n",
       "#sk-container-id-1 div.sk-label input.sk-toggleable__control:checked~label.sk-toggleable__label {\n",
       "  color: var(--sklearn-color-text);\n",
       "  background-color: var(--sklearn-color-unfitted-level-2);\n",
       "}\n",
       "\n",
       "#sk-container-id-1 div.sk-label.fitted input.sk-toggleable__control:checked~label.sk-toggleable__label {\n",
       "  background-color: var(--sklearn-color-fitted-level-2);\n",
       "}\n",
       "\n",
       "/* Estimator-specific style */\n",
       "\n",
       "/* Colorize estimator box */\n",
       "#sk-container-id-1 div.sk-estimator input.sk-toggleable__control:checked~label.sk-toggleable__label {\n",
       "  /* unfitted */\n",
       "  background-color: var(--sklearn-color-unfitted-level-2);\n",
       "}\n",
       "\n",
       "#sk-container-id-1 div.sk-estimator.fitted input.sk-toggleable__control:checked~label.sk-toggleable__label {\n",
       "  /* fitted */\n",
       "  background-color: var(--sklearn-color-fitted-level-2);\n",
       "}\n",
       "\n",
       "#sk-container-id-1 div.sk-label label.sk-toggleable__label,\n",
       "#sk-container-id-1 div.sk-label label {\n",
       "  /* The background is the default theme color */\n",
       "  color: var(--sklearn-color-text-on-default-background);\n",
       "}\n",
       "\n",
       "/* On hover, darken the color of the background */\n",
       "#sk-container-id-1 div.sk-label:hover label.sk-toggleable__label {\n",
       "  color: var(--sklearn-color-text);\n",
       "  background-color: var(--sklearn-color-unfitted-level-2);\n",
       "}\n",
       "\n",
       "/* Label box, darken color on hover, fitted */\n",
       "#sk-container-id-1 div.sk-label.fitted:hover label.sk-toggleable__label.fitted {\n",
       "  color: var(--sklearn-color-text);\n",
       "  background-color: var(--sklearn-color-fitted-level-2);\n",
       "}\n",
       "\n",
       "/* Estimator label */\n",
       "\n",
       "#sk-container-id-1 div.sk-label label {\n",
       "  font-family: monospace;\n",
       "  font-weight: bold;\n",
       "  display: inline-block;\n",
       "  line-height: 1.2em;\n",
       "}\n",
       "\n",
       "#sk-container-id-1 div.sk-label-container {\n",
       "  text-align: center;\n",
       "}\n",
       "\n",
       "/* Estimator-specific */\n",
       "#sk-container-id-1 div.sk-estimator {\n",
       "  font-family: monospace;\n",
       "  border: 1px dotted var(--sklearn-color-border-box);\n",
       "  border-radius: 0.25em;\n",
       "  box-sizing: border-box;\n",
       "  margin-bottom: 0.5em;\n",
       "  /* unfitted */\n",
       "  background-color: var(--sklearn-color-unfitted-level-0);\n",
       "}\n",
       "\n",
       "#sk-container-id-1 div.sk-estimator.fitted {\n",
       "  /* fitted */\n",
       "  background-color: var(--sklearn-color-fitted-level-0);\n",
       "}\n",
       "\n",
       "/* on hover */\n",
       "#sk-container-id-1 div.sk-estimator:hover {\n",
       "  /* unfitted */\n",
       "  background-color: var(--sklearn-color-unfitted-level-2);\n",
       "}\n",
       "\n",
       "#sk-container-id-1 div.sk-estimator.fitted:hover {\n",
       "  /* fitted */\n",
       "  background-color: var(--sklearn-color-fitted-level-2);\n",
       "}\n",
       "\n",
       "/* Specification for estimator info (e.g. \"i\" and \"?\") */\n",
       "\n",
       "/* Common style for \"i\" and \"?\" */\n",
       "\n",
       ".sk-estimator-doc-link,\n",
       "a:link.sk-estimator-doc-link,\n",
       "a:visited.sk-estimator-doc-link {\n",
       "  float: right;\n",
       "  font-size: smaller;\n",
       "  line-height: 1em;\n",
       "  font-family: monospace;\n",
       "  background-color: var(--sklearn-color-background);\n",
       "  border-radius: 1em;\n",
       "  height: 1em;\n",
       "  width: 1em;\n",
       "  text-decoration: none !important;\n",
       "  margin-left: 1ex;\n",
       "  /* unfitted */\n",
       "  border: var(--sklearn-color-unfitted-level-1) 1pt solid;\n",
       "  color: var(--sklearn-color-unfitted-level-1);\n",
       "}\n",
       "\n",
       ".sk-estimator-doc-link.fitted,\n",
       "a:link.sk-estimator-doc-link.fitted,\n",
       "a:visited.sk-estimator-doc-link.fitted {\n",
       "  /* fitted */\n",
       "  border: var(--sklearn-color-fitted-level-1) 1pt solid;\n",
       "  color: var(--sklearn-color-fitted-level-1);\n",
       "}\n",
       "\n",
       "/* On hover */\n",
       "div.sk-estimator:hover .sk-estimator-doc-link:hover,\n",
       ".sk-estimator-doc-link:hover,\n",
       "div.sk-label-container:hover .sk-estimator-doc-link:hover,\n",
       ".sk-estimator-doc-link:hover {\n",
       "  /* unfitted */\n",
       "  background-color: var(--sklearn-color-unfitted-level-3);\n",
       "  color: var(--sklearn-color-background);\n",
       "  text-decoration: none;\n",
       "}\n",
       "\n",
       "div.sk-estimator.fitted:hover .sk-estimator-doc-link.fitted:hover,\n",
       ".sk-estimator-doc-link.fitted:hover,\n",
       "div.sk-label-container:hover .sk-estimator-doc-link.fitted:hover,\n",
       ".sk-estimator-doc-link.fitted:hover {\n",
       "  /* fitted */\n",
       "  background-color: var(--sklearn-color-fitted-level-3);\n",
       "  color: var(--sklearn-color-background);\n",
       "  text-decoration: none;\n",
       "}\n",
       "\n",
       "/* Span, style for the box shown on hovering the info icon */\n",
       ".sk-estimator-doc-link span {\n",
       "  display: none;\n",
       "  z-index: 9999;\n",
       "  position: relative;\n",
       "  font-weight: normal;\n",
       "  right: .2ex;\n",
       "  padding: .5ex;\n",
       "  margin: .5ex;\n",
       "  width: min-content;\n",
       "  min-width: 20ex;\n",
       "  max-width: 50ex;\n",
       "  color: var(--sklearn-color-text);\n",
       "  box-shadow: 2pt 2pt 4pt #999;\n",
       "  /* unfitted */\n",
       "  background: var(--sklearn-color-unfitted-level-0);\n",
       "  border: .5pt solid var(--sklearn-color-unfitted-level-3);\n",
       "}\n",
       "\n",
       ".sk-estimator-doc-link.fitted span {\n",
       "  /* fitted */\n",
       "  background: var(--sklearn-color-fitted-level-0);\n",
       "  border: var(--sklearn-color-fitted-level-3);\n",
       "}\n",
       "\n",
       ".sk-estimator-doc-link:hover span {\n",
       "  display: block;\n",
       "}\n",
       "\n",
       "/* \"?\"-specific style due to the `<a>` HTML tag */\n",
       "\n",
       "#sk-container-id-1 a.estimator_doc_link {\n",
       "  float: right;\n",
       "  font-size: 1rem;\n",
       "  line-height: 1em;\n",
       "  font-family: monospace;\n",
       "  background-color: var(--sklearn-color-background);\n",
       "  border-radius: 1rem;\n",
       "  height: 1rem;\n",
       "  width: 1rem;\n",
       "  text-decoration: none;\n",
       "  /* unfitted */\n",
       "  color: var(--sklearn-color-unfitted-level-1);\n",
       "  border: var(--sklearn-color-unfitted-level-1) 1pt solid;\n",
       "}\n",
       "\n",
       "#sk-container-id-1 a.estimator_doc_link.fitted {\n",
       "  /* fitted */\n",
       "  border: var(--sklearn-color-fitted-level-1) 1pt solid;\n",
       "  color: var(--sklearn-color-fitted-level-1);\n",
       "}\n",
       "\n",
       "/* On hover */\n",
       "#sk-container-id-1 a.estimator_doc_link:hover {\n",
       "  /* unfitted */\n",
       "  background-color: var(--sklearn-color-unfitted-level-3);\n",
       "  color: var(--sklearn-color-background);\n",
       "  text-decoration: none;\n",
       "}\n",
       "\n",
       "#sk-container-id-1 a.estimator_doc_link.fitted:hover {\n",
       "  /* fitted */\n",
       "  background-color: var(--sklearn-color-fitted-level-3);\n",
       "}\n",
       "</style><div id=\"sk-container-id-1\" class=\"sk-top-container\"><div class=\"sk-text-repr-fallback\"><pre>Pipeline(steps=[(&#x27;functiontransformer&#x27;,\n",
       "                 FunctionTransformer(func=&lt;function average_rides_last_4_weeks at 0x13584f820&gt;)),\n",
       "                (&#x27;temporalfeaturesengineer&#x27;, TemporalFeaturesEngineer()),\n",
       "                (&#x27;lgbmregressor&#x27;,\n",
       "                 LGBMRegressor(bagging_fraction=0.8850277325059562,\n",
       "                               feature_fraction=0.9173905717971508,\n",
       "                               min_child_samples=70, num_leaves=241))])</pre><b>In a Jupyter environment, please rerun this cell to show the HTML representation or trust the notebook. <br />On GitHub, the HTML representation is unable to render, please try loading this page with nbviewer.org.</b></div><div class=\"sk-container\" hidden><div class=\"sk-item sk-dashed-wrapped\"><div class=\"sk-label-container\"><div class=\"sk-label fitted sk-toggleable\"><input class=\"sk-toggleable__control sk-hidden--visually\" id=\"sk-estimator-id-1\" type=\"checkbox\" ><label for=\"sk-estimator-id-1\" class=\"sk-toggleable__label fitted sk-toggleable__label-arrow fitted\">&nbsp;&nbsp;Pipeline<a class=\"sk-estimator-doc-link fitted\" rel=\"noreferrer\" target=\"_blank\" href=\"https://scikit-learn.org/1.4/modules/generated/sklearn.pipeline.Pipeline.html\">?<span>Documentation for Pipeline</span></a><span class=\"sk-estimator-doc-link fitted\">i<span>Fitted</span></span></label><div class=\"sk-toggleable__content fitted\"><pre>Pipeline(steps=[(&#x27;functiontransformer&#x27;,\n",
       "                 FunctionTransformer(func=&lt;function average_rides_last_4_weeks at 0x13584f820&gt;)),\n",
       "                (&#x27;temporalfeaturesengineer&#x27;, TemporalFeaturesEngineer()),\n",
       "                (&#x27;lgbmregressor&#x27;,\n",
       "                 LGBMRegressor(bagging_fraction=0.8850277325059562,\n",
       "                               feature_fraction=0.9173905717971508,\n",
       "                               min_child_samples=70, num_leaves=241))])</pre></div> </div></div><div class=\"sk-serial\"><div class=\"sk-item\"><div class=\"sk-estimator fitted sk-toggleable\"><input class=\"sk-toggleable__control sk-hidden--visually\" id=\"sk-estimator-id-2\" type=\"checkbox\" ><label for=\"sk-estimator-id-2\" class=\"sk-toggleable__label fitted sk-toggleable__label-arrow fitted\">&nbsp;FunctionTransformer<a class=\"sk-estimator-doc-link fitted\" rel=\"noreferrer\" target=\"_blank\" href=\"https://scikit-learn.org/1.4/modules/generated/sklearn.preprocessing.FunctionTransformer.html\">?<span>Documentation for FunctionTransformer</span></a></label><div class=\"sk-toggleable__content fitted\"><pre>FunctionTransformer(func=&lt;function average_rides_last_4_weeks at 0x13584f820&gt;)</pre></div> </div></div><div class=\"sk-item\"><div class=\"sk-estimator fitted sk-toggleable\"><input class=\"sk-toggleable__control sk-hidden--visually\" id=\"sk-estimator-id-3\" type=\"checkbox\" ><label for=\"sk-estimator-id-3\" class=\"sk-toggleable__label fitted sk-toggleable__label-arrow fitted\">TemporalFeaturesEngineer</label><div class=\"sk-toggleable__content fitted\"><pre>TemporalFeaturesEngineer()</pre></div> </div></div><div class=\"sk-item\"><div class=\"sk-estimator fitted sk-toggleable\"><input class=\"sk-toggleable__control sk-hidden--visually\" id=\"sk-estimator-id-4\" type=\"checkbox\" ><label for=\"sk-estimator-id-4\" class=\"sk-toggleable__label fitted sk-toggleable__label-arrow fitted\">LGBMRegressor</label><div class=\"sk-toggleable__content fitted\"><pre>LGBMRegressor(bagging_fraction=0.8850277325059562,\n",
       "              feature_fraction=0.9173905717971508, min_child_samples=70,\n",
       "              num_leaves=241)</pre></div> </div></div></div></div></div></div>"
      ],
      "text/plain": [
       "Pipeline(steps=[('functiontransformer',\n",
       "                 FunctionTransformer(func=<function average_rides_last_4_weeks at 0x13584f820>)),\n",
       "                ('temporalfeaturesengineer', TemporalFeaturesEngineer()),\n",
       "                ('lgbmregressor',\n",
       "                 LGBMRegressor(bagging_fraction=0.8850277325059562,\n",
       "                               feature_fraction=0.9173905717971508,\n",
       "                               min_child_samples=70, num_leaves=241))])"
      ]
     },
     "execution_count": 12,
     "metadata": {},
     "output_type": "execute_result"
    }
   ],
   "source": [
    "pipeline = get_pipeline(**best_params)\n",
    "pipeline.fit(X_train, y_train)"
   ]
  },
  {
   "cell_type": "code",
   "execution_count": 13,
   "metadata": {},
   "outputs": [],
   "source": [
    "predictions = pipeline.predict(X_test)"
   ]
  },
  {
   "cell_type": "code",
   "execution_count": 14,
   "metadata": {},
   "outputs": [],
   "source": [
    "residuals = y_test - predictions\n",
    "\n",
    "residuals.to_csv(RESIDUALS_DATA_DIR / 'residuals_lightgmb_3.csv', index=False)"
   ]
  },
  {
   "cell_type": "code",
   "execution_count": 15,
   "metadata": {},
   "outputs": [
    {
     "name": "stdout",
     "output_type": "stream",
     "text": [
      "MAE: 2.91\n",
      "MSE: 127.62\n",
      "RMSE: 11.30\n",
      "SMAPE: 149.86\n",
      "R: 0.96\n",
      "R-squared: 0.92\n"
     ]
    }
   ],
   "source": [
    "metrics = evaluate_metrics(y_test, predictions)\n",
    "\n",
    "for metric, value in metrics.items():\n",
    "    print(f'{metric}: {value:.2f}')"
   ]
  },
  {
   "cell_type": "code",
   "execution_count": 16,
   "metadata": {},
   "outputs": [],
   "source": [
    "model_name = 'LightGBM with Hyperparameter Tuning'\n",
    "metrics['Model'] = model_name\n",
    "save_metrics(metrics)"
   ]
  },
  {
   "cell_type": "code",
   "execution_count": 17,
   "metadata": {},
   "outputs": [],
   "source": [
    "%reload_ext autoreload\n",
    "%autoreload 2"
   ]
  },
  {
   "cell_type": "code",
   "execution_count": 18,
   "metadata": {},
   "outputs": [],
   "source": [
    "from src.plot import plot_one_sample"
   ]
  },
  {
   "cell_type": "code",
   "execution_count": 19,
   "metadata": {},
   "outputs": [
    {
     "data": {
      "application/vnd.plotly.v1+json": {
       "config": {
        "plotlyServerURL": "https://plot.ly"
       },
       "data": [
        {
         "hovertemplate": "x=%{x}<br>y=%{y}<extra></extra>",
         "legendgroup": "",
         "line": {
          "color": "#636efa",
          "dash": "solid"
         },
         "marker": {
          "symbol": "circle"
         },
         "mode": "lines+markers",
         "name": "",
         "orientation": "v",
         "showlegend": false,
         "type": "scatter",
         "x": [
          "2023-10-08T00:00:00",
          "2023-10-08T01:00:00",
          "2023-10-08T02:00:00",
          "2023-10-08T03:00:00",
          "2023-10-08T04:00:00",
          "2023-10-08T05:00:00",
          "2023-10-08T06:00:00",
          "2023-10-08T07:00:00",
          "2023-10-08T08:00:00",
          "2023-10-08T09:00:00",
          "2023-10-08T10:00:00",
          "2023-10-08T11:00:00",
          "2023-10-08T12:00:00",
          "2023-10-08T13:00:00",
          "2023-10-08T14:00:00",
          "2023-10-08T15:00:00",
          "2023-10-08T16:00:00",
          "2023-10-08T17:00:00",
          "2023-10-08T18:00:00",
          "2023-10-08T19:00:00",
          "2023-10-08T20:00:00",
          "2023-10-08T21:00:00",
          "2023-10-08T22:00:00",
          "2023-10-08T23:00:00",
          "2023-10-09T00:00:00",
          "2023-10-09T01:00:00",
          "2023-10-09T02:00:00",
          "2023-10-09T03:00:00",
          "2023-10-09T04:00:00",
          "2023-10-09T05:00:00",
          "2023-10-09T06:00:00",
          "2023-10-09T07:00:00",
          "2023-10-09T08:00:00",
          "2023-10-09T09:00:00",
          "2023-10-09T10:00:00",
          "2023-10-09T11:00:00",
          "2023-10-09T12:00:00",
          "2023-10-09T13:00:00",
          "2023-10-09T14:00:00",
          "2023-10-09T15:00:00",
          "2023-10-09T16:00:00",
          "2023-10-09T17:00:00",
          "2023-10-09T18:00:00",
          "2023-10-09T19:00:00",
          "2023-10-09T20:00:00",
          "2023-10-09T21:00:00",
          "2023-10-09T22:00:00",
          "2023-10-09T23:00:00",
          "2023-10-10T00:00:00",
          "2023-10-10T01:00:00",
          "2023-10-10T02:00:00",
          "2023-10-10T03:00:00",
          "2023-10-10T04:00:00",
          "2023-10-10T05:00:00",
          "2023-10-10T06:00:00",
          "2023-10-10T07:00:00",
          "2023-10-10T08:00:00",
          "2023-10-10T09:00:00",
          "2023-10-10T10:00:00",
          "2023-10-10T11:00:00",
          "2023-10-10T12:00:00",
          "2023-10-10T13:00:00",
          "2023-10-10T14:00:00",
          "2023-10-10T15:00:00",
          "2023-10-10T16:00:00",
          "2023-10-10T17:00:00",
          "2023-10-10T18:00:00",
          "2023-10-10T19:00:00",
          "2023-10-10T20:00:00",
          "2023-10-10T21:00:00",
          "2023-10-10T22:00:00",
          "2023-10-10T23:00:00",
          "2023-10-11T00:00:00",
          "2023-10-11T01:00:00",
          "2023-10-11T02:00:00",
          "2023-10-11T03:00:00",
          "2023-10-11T04:00:00",
          "2023-10-11T05:00:00",
          "2023-10-11T06:00:00",
          "2023-10-11T07:00:00",
          "2023-10-11T08:00:00",
          "2023-10-11T09:00:00",
          "2023-10-11T10:00:00",
          "2023-10-11T11:00:00",
          "2023-10-11T12:00:00",
          "2023-10-11T13:00:00",
          "2023-10-11T14:00:00",
          "2023-10-11T15:00:00",
          "2023-10-11T16:00:00",
          "2023-10-11T17:00:00",
          "2023-10-11T18:00:00",
          "2023-10-11T19:00:00",
          "2023-10-11T20:00:00",
          "2023-10-11T21:00:00",
          "2023-10-11T22:00:00",
          "2023-10-11T23:00:00",
          "2023-10-12T00:00:00",
          "2023-10-12T01:00:00",
          "2023-10-12T02:00:00",
          "2023-10-12T03:00:00",
          "2023-10-12T04:00:00",
          "2023-10-12T05:00:00",
          "2023-10-12T06:00:00",
          "2023-10-12T07:00:00",
          "2023-10-12T08:00:00",
          "2023-10-12T09:00:00",
          "2023-10-12T10:00:00",
          "2023-10-12T11:00:00",
          "2023-10-12T12:00:00",
          "2023-10-12T13:00:00",
          "2023-10-12T14:00:00",
          "2023-10-12T15:00:00",
          "2023-10-12T16:00:00",
          "2023-10-12T17:00:00",
          "2023-10-12T18:00:00",
          "2023-10-12T19:00:00",
          "2023-10-12T20:00:00",
          "2023-10-12T21:00:00",
          "2023-10-12T22:00:00",
          "2023-10-12T23:00:00",
          "2023-10-13T00:00:00",
          "2023-10-13T01:00:00",
          "2023-10-13T02:00:00",
          "2023-10-13T03:00:00",
          "2023-10-13T04:00:00",
          "2023-10-13T05:00:00",
          "2023-10-13T06:00:00",
          "2023-10-13T07:00:00",
          "2023-10-13T08:00:00",
          "2023-10-13T09:00:00",
          "2023-10-13T10:00:00",
          "2023-10-13T11:00:00",
          "2023-10-13T12:00:00",
          "2023-10-13T13:00:00",
          "2023-10-13T14:00:00",
          "2023-10-13T15:00:00",
          "2023-10-13T16:00:00",
          "2023-10-13T17:00:00",
          "2023-10-13T18:00:00",
          "2023-10-13T19:00:00",
          "2023-10-13T20:00:00",
          "2023-10-13T21:00:00",
          "2023-10-13T22:00:00",
          "2023-10-13T23:00:00",
          "2023-10-14T00:00:00",
          "2023-10-14T01:00:00",
          "2023-10-14T02:00:00",
          "2023-10-14T03:00:00",
          "2023-10-14T04:00:00",
          "2023-10-14T05:00:00",
          "2023-10-14T06:00:00",
          "2023-10-14T07:00:00",
          "2023-10-14T08:00:00",
          "2023-10-14T09:00:00",
          "2023-10-14T10:00:00",
          "2023-10-14T11:00:00",
          "2023-10-14T12:00:00",
          "2023-10-14T13:00:00",
          "2023-10-14T14:00:00",
          "2023-10-14T15:00:00",
          "2023-10-14T16:00:00",
          "2023-10-14T17:00:00",
          "2023-10-14T18:00:00",
          "2023-10-14T19:00:00",
          "2023-10-14T20:00:00",
          "2023-10-14T21:00:00",
          "2023-10-14T22:00:00",
          "2023-10-14T23:00:00",
          "2023-10-15T00:00:00",
          "2023-10-15T01:00:00",
          "2023-10-15T02:00:00",
          "2023-10-15T03:00:00",
          "2023-10-15T04:00:00",
          "2023-10-15T05:00:00",
          "2023-10-15T06:00:00",
          "2023-10-15T07:00:00",
          "2023-10-15T08:00:00",
          "2023-10-15T09:00:00",
          "2023-10-15T10:00:00",
          "2023-10-15T11:00:00",
          "2023-10-15T12:00:00",
          "2023-10-15T13:00:00",
          "2023-10-15T14:00:00",
          "2023-10-15T15:00:00",
          "2023-10-15T16:00:00",
          "2023-10-15T17:00:00",
          "2023-10-15T18:00:00",
          "2023-10-15T19:00:00",
          "2023-10-15T20:00:00",
          "2023-10-15T21:00:00",
          "2023-10-15T22:00:00",
          "2023-10-15T23:00:00",
          "2023-10-16T00:00:00",
          "2023-10-16T01:00:00",
          "2023-10-16T02:00:00",
          "2023-10-16T03:00:00",
          "2023-10-16T04:00:00",
          "2023-10-16T05:00:00",
          "2023-10-16T06:00:00",
          "2023-10-16T07:00:00",
          "2023-10-16T08:00:00",
          "2023-10-16T09:00:00",
          "2023-10-16T10:00:00",
          "2023-10-16T11:00:00",
          "2023-10-16T12:00:00",
          "2023-10-16T13:00:00",
          "2023-10-16T14:00:00",
          "2023-10-16T15:00:00",
          "2023-10-16T16:00:00",
          "2023-10-16T17:00:00",
          "2023-10-16T18:00:00",
          "2023-10-16T19:00:00",
          "2023-10-16T20:00:00",
          "2023-10-16T21:00:00",
          "2023-10-16T22:00:00",
          "2023-10-16T23:00:00",
          "2023-10-17T00:00:00",
          "2023-10-17T01:00:00",
          "2023-10-17T02:00:00",
          "2023-10-17T03:00:00",
          "2023-10-17T04:00:00",
          "2023-10-17T05:00:00",
          "2023-10-17T06:00:00",
          "2023-10-17T07:00:00",
          "2023-10-17T08:00:00",
          "2023-10-17T09:00:00",
          "2023-10-17T10:00:00",
          "2023-10-17T11:00:00",
          "2023-10-17T12:00:00",
          "2023-10-17T13:00:00",
          "2023-10-17T14:00:00",
          "2023-10-17T15:00:00",
          "2023-10-17T16:00:00",
          "2023-10-17T17:00:00",
          "2023-10-17T18:00:00",
          "2023-10-17T19:00:00",
          "2023-10-17T20:00:00",
          "2023-10-17T21:00:00",
          "2023-10-17T22:00:00",
          "2023-10-17T23:00:00",
          "2023-10-18T00:00:00",
          "2023-10-18T01:00:00",
          "2023-10-18T02:00:00",
          "2023-10-18T03:00:00",
          "2023-10-18T04:00:00",
          "2023-10-18T05:00:00",
          "2023-10-18T06:00:00",
          "2023-10-18T07:00:00",
          "2023-10-18T08:00:00",
          "2023-10-18T09:00:00",
          "2023-10-18T10:00:00",
          "2023-10-18T11:00:00",
          "2023-10-18T12:00:00",
          "2023-10-18T13:00:00",
          "2023-10-18T14:00:00",
          "2023-10-18T15:00:00",
          "2023-10-18T16:00:00",
          "2023-10-18T17:00:00",
          "2023-10-18T18:00:00",
          "2023-10-18T19:00:00",
          "2023-10-18T20:00:00",
          "2023-10-18T21:00:00",
          "2023-10-18T22:00:00",
          "2023-10-18T23:00:00",
          "2023-10-19T00:00:00",
          "2023-10-19T01:00:00",
          "2023-10-19T02:00:00",
          "2023-10-19T03:00:00",
          "2023-10-19T04:00:00",
          "2023-10-19T05:00:00",
          "2023-10-19T06:00:00",
          "2023-10-19T07:00:00",
          "2023-10-19T08:00:00",
          "2023-10-19T09:00:00",
          "2023-10-19T10:00:00",
          "2023-10-19T11:00:00",
          "2023-10-19T12:00:00",
          "2023-10-19T13:00:00",
          "2023-10-19T14:00:00",
          "2023-10-19T15:00:00",
          "2023-10-19T16:00:00",
          "2023-10-19T17:00:00",
          "2023-10-19T18:00:00",
          "2023-10-19T19:00:00",
          "2023-10-19T20:00:00",
          "2023-10-19T21:00:00",
          "2023-10-19T22:00:00",
          "2023-10-19T23:00:00",
          "2023-10-20T00:00:00",
          "2023-10-20T01:00:00",
          "2023-10-20T02:00:00",
          "2023-10-20T03:00:00",
          "2023-10-20T04:00:00",
          "2023-10-20T05:00:00",
          "2023-10-20T06:00:00",
          "2023-10-20T07:00:00",
          "2023-10-20T08:00:00",
          "2023-10-20T09:00:00",
          "2023-10-20T10:00:00",
          "2023-10-20T11:00:00",
          "2023-10-20T12:00:00",
          "2023-10-20T13:00:00",
          "2023-10-20T14:00:00",
          "2023-10-20T15:00:00",
          "2023-10-20T16:00:00",
          "2023-10-20T17:00:00",
          "2023-10-20T18:00:00",
          "2023-10-20T19:00:00",
          "2023-10-20T20:00:00",
          "2023-10-20T21:00:00",
          "2023-10-20T22:00:00",
          "2023-10-20T23:00:00",
          "2023-10-21T00:00:00",
          "2023-10-21T01:00:00",
          "2023-10-21T02:00:00",
          "2023-10-21T03:00:00",
          "2023-10-21T04:00:00",
          "2023-10-21T05:00:00",
          "2023-10-21T06:00:00",
          "2023-10-21T07:00:00",
          "2023-10-21T08:00:00",
          "2023-10-21T09:00:00",
          "2023-10-21T10:00:00",
          "2023-10-21T11:00:00",
          "2023-10-21T12:00:00",
          "2023-10-21T13:00:00",
          "2023-10-21T14:00:00",
          "2023-10-21T15:00:00",
          "2023-10-21T16:00:00",
          "2023-10-21T17:00:00",
          "2023-10-21T18:00:00",
          "2023-10-21T19:00:00",
          "2023-10-21T20:00:00",
          "2023-10-21T21:00:00",
          "2023-10-21T22:00:00",
          "2023-10-21T23:00:00",
          "2023-10-22T00:00:00",
          "2023-10-22T01:00:00",
          "2023-10-22T02:00:00",
          "2023-10-22T03:00:00",
          "2023-10-22T04:00:00",
          "2023-10-22T05:00:00",
          "2023-10-22T06:00:00",
          "2023-10-22T07:00:00",
          "2023-10-22T08:00:00",
          "2023-10-22T09:00:00",
          "2023-10-22T10:00:00",
          "2023-10-22T11:00:00",
          "2023-10-22T12:00:00",
          "2023-10-22T13:00:00",
          "2023-10-22T14:00:00",
          "2023-10-22T15:00:00",
          "2023-10-22T16:00:00",
          "2023-10-22T17:00:00",
          "2023-10-22T18:00:00",
          "2023-10-22T19:00:00",
          "2023-10-22T20:00:00",
          "2023-10-22T21:00:00",
          "2023-10-22T22:00:00",
          "2023-10-22T23:00:00",
          "2023-10-23T00:00:00",
          "2023-10-23T01:00:00",
          "2023-10-23T02:00:00",
          "2023-10-23T03:00:00",
          "2023-10-23T04:00:00",
          "2023-10-23T05:00:00",
          "2023-10-23T06:00:00",
          "2023-10-23T07:00:00",
          "2023-10-23T08:00:00",
          "2023-10-23T09:00:00",
          "2023-10-23T10:00:00",
          "2023-10-23T11:00:00",
          "2023-10-23T12:00:00",
          "2023-10-23T13:00:00",
          "2023-10-23T14:00:00",
          "2023-10-23T15:00:00",
          "2023-10-23T16:00:00",
          "2023-10-23T17:00:00",
          "2023-10-23T18:00:00",
          "2023-10-23T19:00:00",
          "2023-10-23T20:00:00",
          "2023-10-23T21:00:00",
          "2023-10-23T22:00:00",
          "2023-10-23T23:00:00",
          "2023-10-24T00:00:00",
          "2023-10-24T01:00:00",
          "2023-10-24T02:00:00",
          "2023-10-24T03:00:00",
          "2023-10-24T04:00:00",
          "2023-10-24T05:00:00",
          "2023-10-24T06:00:00",
          "2023-10-24T07:00:00",
          "2023-10-24T08:00:00",
          "2023-10-24T09:00:00",
          "2023-10-24T10:00:00",
          "2023-10-24T11:00:00",
          "2023-10-24T12:00:00",
          "2023-10-24T13:00:00",
          "2023-10-24T14:00:00",
          "2023-10-24T15:00:00",
          "2023-10-24T16:00:00",
          "2023-10-24T17:00:00",
          "2023-10-24T18:00:00",
          "2023-10-24T19:00:00",
          "2023-10-24T20:00:00",
          "2023-10-24T21:00:00",
          "2023-10-24T22:00:00",
          "2023-10-24T23:00:00",
          "2023-10-25T00:00:00",
          "2023-10-25T01:00:00",
          "2023-10-25T02:00:00",
          "2023-10-25T03:00:00",
          "2023-10-25T04:00:00",
          "2023-10-25T05:00:00",
          "2023-10-25T06:00:00",
          "2023-10-25T07:00:00",
          "2023-10-25T08:00:00",
          "2023-10-25T09:00:00",
          "2023-10-25T10:00:00",
          "2023-10-25T11:00:00",
          "2023-10-25T12:00:00",
          "2023-10-25T13:00:00",
          "2023-10-25T14:00:00",
          "2023-10-25T15:00:00",
          "2023-10-25T16:00:00",
          "2023-10-25T17:00:00",
          "2023-10-25T18:00:00",
          "2023-10-25T19:00:00",
          "2023-10-25T20:00:00",
          "2023-10-25T21:00:00",
          "2023-10-25T22:00:00",
          "2023-10-25T23:00:00",
          "2023-10-26T00:00:00",
          "2023-10-26T01:00:00",
          "2023-10-26T02:00:00",
          "2023-10-26T03:00:00",
          "2023-10-26T04:00:00",
          "2023-10-26T05:00:00",
          "2023-10-26T06:00:00",
          "2023-10-26T07:00:00",
          "2023-10-26T08:00:00",
          "2023-10-26T09:00:00",
          "2023-10-26T10:00:00",
          "2023-10-26T11:00:00",
          "2023-10-26T12:00:00",
          "2023-10-26T13:00:00",
          "2023-10-26T14:00:00",
          "2023-10-26T15:00:00",
          "2023-10-26T16:00:00",
          "2023-10-26T17:00:00",
          "2023-10-26T18:00:00",
          "2023-10-26T19:00:00",
          "2023-10-26T20:00:00",
          "2023-10-26T21:00:00",
          "2023-10-26T22:00:00",
          "2023-10-26T23:00:00",
          "2023-10-27T00:00:00",
          "2023-10-27T01:00:00",
          "2023-10-27T02:00:00",
          "2023-10-27T03:00:00",
          "2023-10-27T04:00:00",
          "2023-10-27T05:00:00",
          "2023-10-27T06:00:00",
          "2023-10-27T07:00:00",
          "2023-10-27T08:00:00",
          "2023-10-27T09:00:00",
          "2023-10-27T10:00:00",
          "2023-10-27T11:00:00",
          "2023-10-27T12:00:00",
          "2023-10-27T13:00:00",
          "2023-10-27T14:00:00",
          "2023-10-27T15:00:00",
          "2023-10-27T16:00:00",
          "2023-10-27T17:00:00",
          "2023-10-27T18:00:00",
          "2023-10-27T19:00:00",
          "2023-10-27T20:00:00",
          "2023-10-27T21:00:00",
          "2023-10-27T22:00:00",
          "2023-10-27T23:00:00",
          "2023-10-28T00:00:00",
          "2023-10-28T01:00:00",
          "2023-10-28T02:00:00",
          "2023-10-28T03:00:00",
          "2023-10-28T04:00:00",
          "2023-10-28T05:00:00",
          "2023-10-28T06:00:00",
          "2023-10-28T07:00:00",
          "2023-10-28T08:00:00",
          "2023-10-28T09:00:00",
          "2023-10-28T10:00:00",
          "2023-10-28T11:00:00",
          "2023-10-28T12:00:00",
          "2023-10-28T13:00:00",
          "2023-10-28T14:00:00",
          "2023-10-28T15:00:00",
          "2023-10-28T16:00:00",
          "2023-10-28T17:00:00",
          "2023-10-28T18:00:00",
          "2023-10-28T19:00:00",
          "2023-10-28T20:00:00",
          "2023-10-28T21:00:00",
          "2023-10-28T22:00:00",
          "2023-10-28T23:00:00",
          "2023-10-29T00:00:00",
          "2023-10-29T01:00:00",
          "2023-10-29T02:00:00",
          "2023-10-29T03:00:00",
          "2023-10-29T04:00:00",
          "2023-10-29T05:00:00",
          "2023-10-29T06:00:00",
          "2023-10-29T07:00:00",
          "2023-10-29T08:00:00",
          "2023-10-29T09:00:00",
          "2023-10-29T10:00:00",
          "2023-10-29T11:00:00",
          "2023-10-29T12:00:00",
          "2023-10-29T13:00:00",
          "2023-10-29T14:00:00",
          "2023-10-29T15:00:00",
          "2023-10-29T16:00:00",
          "2023-10-29T17:00:00",
          "2023-10-29T18:00:00",
          "2023-10-29T19:00:00",
          "2023-10-29T20:00:00",
          "2023-10-29T21:00:00",
          "2023-10-29T22:00:00",
          "2023-10-29T23:00:00",
          "2023-10-30T00:00:00",
          "2023-10-30T01:00:00",
          "2023-10-30T02:00:00",
          "2023-10-30T03:00:00",
          "2023-10-30T04:00:00",
          "2023-10-30T05:00:00",
          "2023-10-30T06:00:00",
          "2023-10-30T07:00:00",
          "2023-10-30T08:00:00",
          "2023-10-30T09:00:00",
          "2023-10-30T10:00:00",
          "2023-10-30T11:00:00",
          "2023-10-30T12:00:00",
          "2023-10-30T13:00:00",
          "2023-10-30T14:00:00",
          "2023-10-30T15:00:00",
          "2023-10-30T16:00:00",
          "2023-10-30T17:00:00",
          "2023-10-30T18:00:00",
          "2023-10-30T19:00:00",
          "2023-10-30T20:00:00",
          "2023-10-30T21:00:00",
          "2023-10-30T22:00:00",
          "2023-10-30T23:00:00",
          "2023-10-31T00:00:00",
          "2023-10-31T01:00:00",
          "2023-10-31T02:00:00",
          "2023-10-31T03:00:00",
          "2023-10-31T04:00:00",
          "2023-10-31T05:00:00",
          "2023-10-31T06:00:00",
          "2023-10-31T07:00:00",
          "2023-10-31T08:00:00",
          "2023-10-31T09:00:00",
          "2023-10-31T10:00:00",
          "2023-10-31T11:00:00",
          "2023-10-31T12:00:00",
          "2023-10-31T13:00:00",
          "2023-10-31T14:00:00",
          "2023-10-31T15:00:00",
          "2023-10-31T16:00:00",
          "2023-10-31T17:00:00",
          "2023-10-31T18:00:00",
          "2023-10-31T19:00:00",
          "2023-10-31T20:00:00",
          "2023-10-31T21:00:00",
          "2023-10-31T22:00:00",
          "2023-10-31T23:00:00",
          "2023-11-01T00:00:00",
          "2023-11-01T01:00:00",
          "2023-11-01T02:00:00",
          "2023-11-01T03:00:00",
          "2023-11-01T04:00:00",
          "2023-11-01T05:00:00",
          "2023-11-01T06:00:00",
          "2023-11-01T07:00:00",
          "2023-11-01T08:00:00",
          "2023-11-01T09:00:00",
          "2023-11-01T10:00:00",
          "2023-11-01T11:00:00",
          "2023-11-01T12:00:00",
          "2023-11-01T13:00:00",
          "2023-11-01T14:00:00",
          "2023-11-01T15:00:00",
          "2023-11-01T16:00:00",
          "2023-11-01T17:00:00",
          "2023-11-01T18:00:00",
          "2023-11-01T19:00:00",
          "2023-11-01T20:00:00",
          "2023-11-01T21:00:00",
          "2023-11-01T22:00:00",
          "2023-11-01T23:00:00",
          "2023-11-02T00:00:00",
          "2023-11-02T01:00:00",
          "2023-11-02T02:00:00",
          "2023-11-02T03:00:00",
          "2023-11-02T04:00:00",
          "2023-11-02T05:00:00",
          "2023-11-02T06:00:00",
          "2023-11-02T07:00:00",
          "2023-11-02T08:00:00",
          "2023-11-02T09:00:00",
          "2023-11-02T10:00:00",
          "2023-11-02T11:00:00",
          "2023-11-02T12:00:00",
          "2023-11-02T13:00:00",
          "2023-11-02T14:00:00",
          "2023-11-02T15:00:00",
          "2023-11-02T16:00:00",
          "2023-11-02T17:00:00",
          "2023-11-02T18:00:00",
          "2023-11-02T19:00:00",
          "2023-11-02T20:00:00",
          "2023-11-02T21:00:00",
          "2023-11-02T22:00:00",
          "2023-11-02T23:00:00",
          "2023-11-03T00:00:00",
          "2023-11-03T01:00:00",
          "2023-11-03T02:00:00",
          "2023-11-03T03:00:00",
          "2023-11-03T04:00:00",
          "2023-11-03T05:00:00",
          "2023-11-03T06:00:00",
          "2023-11-03T07:00:00",
          "2023-11-03T08:00:00",
          "2023-11-03T09:00:00",
          "2023-11-03T10:00:00",
          "2023-11-03T11:00:00",
          "2023-11-03T12:00:00",
          "2023-11-03T13:00:00",
          "2023-11-03T14:00:00",
          "2023-11-03T15:00:00",
          "2023-11-03T16:00:00",
          "2023-11-03T17:00:00",
          "2023-11-03T18:00:00",
          "2023-11-03T19:00:00",
          "2023-11-03T20:00:00",
          "2023-11-03T21:00:00",
          "2023-11-03T22:00:00",
          "2023-11-03T23:00:00",
          "2023-11-04T00:00:00",
          "2023-11-04T01:00:00",
          "2023-11-04T02:00:00",
          "2023-11-04T03:00:00",
          "2023-11-04T04:00:00",
          "2023-11-04T05:00:00",
          "2023-11-04T06:00:00",
          "2023-11-04T07:00:00",
          "2023-11-04T08:00:00",
          "2023-11-04T09:00:00",
          "2023-11-04T10:00:00",
          "2023-11-04T11:00:00",
          "2023-11-04T12:00:00",
          "2023-11-04T13:00:00",
          "2023-11-04T14:00:00",
          "2023-11-04T15:00:00",
          "2023-11-04T16:00:00",
          "2023-11-04T17:00:00",
          "2023-11-04T18:00:00",
          "2023-11-04T19:00:00",
          "2023-11-04T20:00:00",
          "2023-11-04T21:00:00",
          "2023-11-04T22:00:00",
          "2023-11-04T23:00:00",
          "2023-11-05T00:00:00"
         ],
         "xaxis": "x",
         "y": [
          600,
          604,
          474,
          294,
          90,
          18,
          18,
          16,
          37,
          48,
          62,
          76,
          112,
          89,
          104,
          111,
          99,
          101,
          129,
          149,
          130,
          133,
          116,
          102,
          72,
          40,
          33,
          17,
          20,
          10,
          18,
          30,
          47,
          43,
          49,
          53,
          56,
          78,
          55,
          45,
          49,
          66,
          74,
          72,
          85,
          108,
          80,
          54,
          43,
          14,
          14,
          6,
          9,
          7,
          18,
          42,
          112,
          93,
          49,
          55,
          59,
          49,
          68,
          53,
          57,
          71,
          84,
          88,
          115,
          137,
          189,
          116,
          68,
          50,
          35,
          23,
          10,
          8,
          23,
          47,
          73,
          79,
          43,
          56,
          68,
          58,
          59,
          67,
          65,
          70,
          106,
          111,
          143,
          173,
          207,
          157,
          100,
          34,
          28,
          13,
          11,
          11,
          32,
          62,
          97,
          66,
          63,
          64,
          63,
          67,
          69,
          84,
          79,
          80,
          129,
          141,
          163,
          217,
          292,
          238,
          160,
          120,
          67,
          60,
          30,
          10,
          22,
          53,
          79,
          72,
          48,
          85,
          77,
          89,
          88,
          107,
          103,
          113,
          144,
          181,
          205,
          226,
          315,
          423,
          526,
          484,
          403,
          279,
          128,
          26,
          22,
          19,
          35,
          61,
          84,
          106,
          149,
          167,
          143,
          153,
          126,
          174,
          184,
          236,
          216,
          252,
          335,
          432,
          528,
          543,
          400,
          247,
          103,
          20,
          23,
          23,
          24,
          56,
          70,
          83,
          106,
          115,
          99,
          115,
          105,
          113,
          129,
          122,
          132,
          126,
          124,
          87,
          42,
          36,
          19,
          7,
          13,
          8,
          20,
          39,
          74,
          59,
          64,
          54,
          38,
          81,
          48,
          47,
          44,
          69,
          80,
          80,
          95,
          119,
          103,
          67,
          36,
          25,
          14,
          13,
          14,
          8,
          26,
          55,
          71,
          77,
          63,
          58,
          49,
          56,
          65,
          49,
          54,
          75,
          92,
          94,
          116,
          192,
          231,
          142,
          83,
          49,
          45,
          25,
          18,
          6,
          21,
          56,
          71,
          78,
          71,
          66,
          65,
          51,
          64,
          71,
          70,
          80,
          121,
          125,
          159,
          219,
          216,
          151,
          117,
          43,
          35,
          21,
          14,
          11,
          28,
          58,
          89,
          82,
          53,
          54,
          57,
          40,
          67,
          64,
          77,
          88,
          121,
          148,
          199,
          204,
          253,
          244,
          197,
          140,
          94,
          52,
          26,
          11,
          41,
          54,
          79,
          71,
          52,
          71,
          80,
          67,
          93,
          118,
          94,
          128,
          162,
          214,
          156,
          229,
          290,
          345,
          518,
          570,
          414,
          243,
          104,
          27,
          13,
          29,
          41,
          51,
          83,
          89,
          120,
          119,
          155,
          156,
          162,
          159,
          202,
          242,
          232,
          242,
          342,
          454,
          592,
          636,
          579,
          357,
          155,
          21,
          23,
          25,
          24,
          49,
          100,
          90,
          82,
          87,
          105,
          95,
          108,
          89,
          129,
          118,
          129,
          107,
          96,
          76,
          51,
          24,
          21,
          20,
          10,
          4,
          24,
          42,
          61,
          64,
          48,
          46,
          56,
          53,
          50,
          71,
          55,
          63,
          75,
          94,
          107,
          121,
          127,
          93,
          56,
          20,
          16,
          10,
          7,
          7,
          22,
          42,
          68,
          68,
          55,
          53,
          54,
          67,
          64,
          61,
          50,
          72,
          76,
          94,
          138,
          163,
          227,
          126,
          73,
          39,
          31,
          17,
          9,
          11,
          27,
          60,
          77,
          80,
          62,
          50,
          59,
          65,
          43,
          52,
          56,
          71,
          95,
          131,
          148,
          198,
          253,
          198,
          105,
          73,
          27,
          26,
          9,
          12,
          27,
          58,
          76,
          92,
          71,
          59,
          59,
          58,
          78,
          66,
          66,
          88,
          117,
          153,
          184,
          223,
          285,
          341,
          239,
          203,
          138,
          78,
          33,
          20,
          24,
          58,
          75,
          62,
          56,
          54,
          75,
          70,
          88,
          77,
          76,
          110,
          122,
          207,
          202,
          239,
          328,
          454,
          504,
          711,
          710,
          473,
          182,
          26,
          18,
          21,
          41,
          58,
          68,
          94,
          101,
          123,
          140,
          151,
          140,
          173,
          228,
          263,
          261,
          328,
          343,
          380,
          337,
          580,
          680,
          571,
          254,
          52,
          17,
          19,
          27,
          47,
          71,
          127,
          138,
          163,
          145,
          134,
          132,
          113,
          145,
          101,
          97,
          88,
          114,
          79,
          44,
          25,
          14,
          14,
          13,
          8,
          28,
          58,
          81,
          63,
          44,
          37,
          56,
          36,
          50,
          47,
          49,
          76,
          96,
          121,
          112,
          129,
          139,
          83,
          51,
          27,
          21,
          11,
          10,
          5,
          19,
          45,
          79,
          74,
          54,
          53,
          64,
          58,
          72,
          61,
          54,
          73,
          88,
          104,
          126,
          158,
          201,
          181,
          204,
          143,
          140,
          103,
          64,
          18,
          30,
          65,
          102,
          76,
          56,
          65,
          66,
          63,
          72,
          51,
          57,
          73,
          109,
          116,
          158,
          191,
          225,
          144,
          93,
          34,
          18,
          18,
          13,
          9,
          22,
          57,
          95,
          80,
          58,
          49,
          73,
          67,
          69,
          54,
          65,
          86,
          142,
          138,
          164,
          277,
          347,
          264,
          154,
          131,
          61,
          45,
          21,
          13,
          37,
          38,
          65,
          60,
          58,
          61,
          77,
          76,
          85,
          77,
          80,
          110,
          147,
          180,
          216,
          258,
          324,
          415,
          559,
          604,
          454,
          264,
          110,
          11,
          17,
          38,
          36,
          61,
          75,
          87,
          131,
          117,
          130,
          118,
          136,
          150,
          208,
          242,
          238,
          285,
          338,
          456,
          570
         ],
         "yaxis": "y"
        },
        {
         "line": {
          "color": "lime"
         },
         "marker": {
          "size": 10
         },
         "mode": "markers",
         "name": "actual value",
         "type": "scatter",
         "x": [
          "2023-11-05T00:00:00"
         ],
         "y": [
          570
         ]
        },
        {
         "line": {
          "color": "crimson"
         },
         "marker": {
          "size": 15,
          "symbol": "x"
         },
         "mode": "markers",
         "name": "prediction",
         "type": "scatter",
         "x": [
          "2023-11-05T00:00:00"
         ],
         "y": [
          504.5089061913869
         ]
        }
       ],
       "layout": {
        "legend": {
         "tracegroupgap": 0
        },
        "template": {
         "data": {
          "bar": [
           {
            "error_x": {
             "color": "#f2f5fa"
            },
            "error_y": {
             "color": "#f2f5fa"
            },
            "marker": {
             "line": {
              "color": "rgb(17,17,17)",
              "width": 0.5
             },
             "pattern": {
              "fillmode": "overlay",
              "size": 10,
              "solidity": 0.2
             }
            },
            "type": "bar"
           }
          ],
          "barpolar": [
           {
            "marker": {
             "line": {
              "color": "rgb(17,17,17)",
              "width": 0.5
             },
             "pattern": {
              "fillmode": "overlay",
              "size": 10,
              "solidity": 0.2
             }
            },
            "type": "barpolar"
           }
          ],
          "carpet": [
           {
            "aaxis": {
             "endlinecolor": "#A2B1C6",
             "gridcolor": "#506784",
             "linecolor": "#506784",
             "minorgridcolor": "#506784",
             "startlinecolor": "#A2B1C6"
            },
            "baxis": {
             "endlinecolor": "#A2B1C6",
             "gridcolor": "#506784",
             "linecolor": "#506784",
             "minorgridcolor": "#506784",
             "startlinecolor": "#A2B1C6"
            },
            "type": "carpet"
           }
          ],
          "choropleth": [
           {
            "colorbar": {
             "outlinewidth": 0,
             "ticks": ""
            },
            "type": "choropleth"
           }
          ],
          "contour": [
           {
            "colorbar": {
             "outlinewidth": 0,
             "ticks": ""
            },
            "colorscale": [
             [
              0,
              "#0d0887"
             ],
             [
              0.1111111111111111,
              "#46039f"
             ],
             [
              0.2222222222222222,
              "#7201a8"
             ],
             [
              0.3333333333333333,
              "#9c179e"
             ],
             [
              0.4444444444444444,
              "#bd3786"
             ],
             [
              0.5555555555555556,
              "#d8576b"
             ],
             [
              0.6666666666666666,
              "#ed7953"
             ],
             [
              0.7777777777777778,
              "#fb9f3a"
             ],
             [
              0.8888888888888888,
              "#fdca26"
             ],
             [
              1,
              "#f0f921"
             ]
            ],
            "type": "contour"
           }
          ],
          "contourcarpet": [
           {
            "colorbar": {
             "outlinewidth": 0,
             "ticks": ""
            },
            "type": "contourcarpet"
           }
          ],
          "heatmap": [
           {
            "colorbar": {
             "outlinewidth": 0,
             "ticks": ""
            },
            "colorscale": [
             [
              0,
              "#0d0887"
             ],
             [
              0.1111111111111111,
              "#46039f"
             ],
             [
              0.2222222222222222,
              "#7201a8"
             ],
             [
              0.3333333333333333,
              "#9c179e"
             ],
             [
              0.4444444444444444,
              "#bd3786"
             ],
             [
              0.5555555555555556,
              "#d8576b"
             ],
             [
              0.6666666666666666,
              "#ed7953"
             ],
             [
              0.7777777777777778,
              "#fb9f3a"
             ],
             [
              0.8888888888888888,
              "#fdca26"
             ],
             [
              1,
              "#f0f921"
             ]
            ],
            "type": "heatmap"
           }
          ],
          "heatmapgl": [
           {
            "colorbar": {
             "outlinewidth": 0,
             "ticks": ""
            },
            "colorscale": [
             [
              0,
              "#0d0887"
             ],
             [
              0.1111111111111111,
              "#46039f"
             ],
             [
              0.2222222222222222,
              "#7201a8"
             ],
             [
              0.3333333333333333,
              "#9c179e"
             ],
             [
              0.4444444444444444,
              "#bd3786"
             ],
             [
              0.5555555555555556,
              "#d8576b"
             ],
             [
              0.6666666666666666,
              "#ed7953"
             ],
             [
              0.7777777777777778,
              "#fb9f3a"
             ],
             [
              0.8888888888888888,
              "#fdca26"
             ],
             [
              1,
              "#f0f921"
             ]
            ],
            "type": "heatmapgl"
           }
          ],
          "histogram": [
           {
            "marker": {
             "pattern": {
              "fillmode": "overlay",
              "size": 10,
              "solidity": 0.2
             }
            },
            "type": "histogram"
           }
          ],
          "histogram2d": [
           {
            "colorbar": {
             "outlinewidth": 0,
             "ticks": ""
            },
            "colorscale": [
             [
              0,
              "#0d0887"
             ],
             [
              0.1111111111111111,
              "#46039f"
             ],
             [
              0.2222222222222222,
              "#7201a8"
             ],
             [
              0.3333333333333333,
              "#9c179e"
             ],
             [
              0.4444444444444444,
              "#bd3786"
             ],
             [
              0.5555555555555556,
              "#d8576b"
             ],
             [
              0.6666666666666666,
              "#ed7953"
             ],
             [
              0.7777777777777778,
              "#fb9f3a"
             ],
             [
              0.8888888888888888,
              "#fdca26"
             ],
             [
              1,
              "#f0f921"
             ]
            ],
            "type": "histogram2d"
           }
          ],
          "histogram2dcontour": [
           {
            "colorbar": {
             "outlinewidth": 0,
             "ticks": ""
            },
            "colorscale": [
             [
              0,
              "#0d0887"
             ],
             [
              0.1111111111111111,
              "#46039f"
             ],
             [
              0.2222222222222222,
              "#7201a8"
             ],
             [
              0.3333333333333333,
              "#9c179e"
             ],
             [
              0.4444444444444444,
              "#bd3786"
             ],
             [
              0.5555555555555556,
              "#d8576b"
             ],
             [
              0.6666666666666666,
              "#ed7953"
             ],
             [
              0.7777777777777778,
              "#fb9f3a"
             ],
             [
              0.8888888888888888,
              "#fdca26"
             ],
             [
              1,
              "#f0f921"
             ]
            ],
            "type": "histogram2dcontour"
           }
          ],
          "mesh3d": [
           {
            "colorbar": {
             "outlinewidth": 0,
             "ticks": ""
            },
            "type": "mesh3d"
           }
          ],
          "parcoords": [
           {
            "line": {
             "colorbar": {
              "outlinewidth": 0,
              "ticks": ""
             }
            },
            "type": "parcoords"
           }
          ],
          "pie": [
           {
            "automargin": true,
            "type": "pie"
           }
          ],
          "scatter": [
           {
            "marker": {
             "line": {
              "color": "#283442"
             }
            },
            "type": "scatter"
           }
          ],
          "scatter3d": [
           {
            "line": {
             "colorbar": {
              "outlinewidth": 0,
              "ticks": ""
             }
            },
            "marker": {
             "colorbar": {
              "outlinewidth": 0,
              "ticks": ""
             }
            },
            "type": "scatter3d"
           }
          ],
          "scattercarpet": [
           {
            "marker": {
             "colorbar": {
              "outlinewidth": 0,
              "ticks": ""
             }
            },
            "type": "scattercarpet"
           }
          ],
          "scattergeo": [
           {
            "marker": {
             "colorbar": {
              "outlinewidth": 0,
              "ticks": ""
             }
            },
            "type": "scattergeo"
           }
          ],
          "scattergl": [
           {
            "marker": {
             "line": {
              "color": "#283442"
             }
            },
            "type": "scattergl"
           }
          ],
          "scattermapbox": [
           {
            "marker": {
             "colorbar": {
              "outlinewidth": 0,
              "ticks": ""
             }
            },
            "type": "scattermapbox"
           }
          ],
          "scatterpolar": [
           {
            "marker": {
             "colorbar": {
              "outlinewidth": 0,
              "ticks": ""
             }
            },
            "type": "scatterpolar"
           }
          ],
          "scatterpolargl": [
           {
            "marker": {
             "colorbar": {
              "outlinewidth": 0,
              "ticks": ""
             }
            },
            "type": "scatterpolargl"
           }
          ],
          "scatterternary": [
           {
            "marker": {
             "colorbar": {
              "outlinewidth": 0,
              "ticks": ""
             }
            },
            "type": "scatterternary"
           }
          ],
          "surface": [
           {
            "colorbar": {
             "outlinewidth": 0,
             "ticks": ""
            },
            "colorscale": [
             [
              0,
              "#0d0887"
             ],
             [
              0.1111111111111111,
              "#46039f"
             ],
             [
              0.2222222222222222,
              "#7201a8"
             ],
             [
              0.3333333333333333,
              "#9c179e"
             ],
             [
              0.4444444444444444,
              "#bd3786"
             ],
             [
              0.5555555555555556,
              "#d8576b"
             ],
             [
              0.6666666666666666,
              "#ed7953"
             ],
             [
              0.7777777777777778,
              "#fb9f3a"
             ],
             [
              0.8888888888888888,
              "#fdca26"
             ],
             [
              1,
              "#f0f921"
             ]
            ],
            "type": "surface"
           }
          ],
          "table": [
           {
            "cells": {
             "fill": {
              "color": "#506784"
             },
             "line": {
              "color": "rgb(17,17,17)"
             }
            },
            "header": {
             "fill": {
              "color": "#2a3f5f"
             },
             "line": {
              "color": "rgb(17,17,17)"
             }
            },
            "type": "table"
           }
          ]
         },
         "layout": {
          "annotationdefaults": {
           "arrowcolor": "#f2f5fa",
           "arrowhead": 0,
           "arrowwidth": 1
          },
          "autotypenumbers": "strict",
          "coloraxis": {
           "colorbar": {
            "outlinewidth": 0,
            "ticks": ""
           }
          },
          "colorscale": {
           "diverging": [
            [
             0,
             "#8e0152"
            ],
            [
             0.1,
             "#c51b7d"
            ],
            [
             0.2,
             "#de77ae"
            ],
            [
             0.3,
             "#f1b6da"
            ],
            [
             0.4,
             "#fde0ef"
            ],
            [
             0.5,
             "#f7f7f7"
            ],
            [
             0.6,
             "#e6f5d0"
            ],
            [
             0.7,
             "#b8e186"
            ],
            [
             0.8,
             "#7fbc41"
            ],
            [
             0.9,
             "#4d9221"
            ],
            [
             1,
             "#276419"
            ]
           ],
           "sequential": [
            [
             0,
             "#0d0887"
            ],
            [
             0.1111111111111111,
             "#46039f"
            ],
            [
             0.2222222222222222,
             "#7201a8"
            ],
            [
             0.3333333333333333,
             "#9c179e"
            ],
            [
             0.4444444444444444,
             "#bd3786"
            ],
            [
             0.5555555555555556,
             "#d8576b"
            ],
            [
             0.6666666666666666,
             "#ed7953"
            ],
            [
             0.7777777777777778,
             "#fb9f3a"
            ],
            [
             0.8888888888888888,
             "#fdca26"
            ],
            [
             1,
             "#f0f921"
            ]
           ],
           "sequentialminus": [
            [
             0,
             "#0d0887"
            ],
            [
             0.1111111111111111,
             "#46039f"
            ],
            [
             0.2222222222222222,
             "#7201a8"
            ],
            [
             0.3333333333333333,
             "#9c179e"
            ],
            [
             0.4444444444444444,
             "#bd3786"
            ],
            [
             0.5555555555555556,
             "#d8576b"
            ],
            [
             0.6666666666666666,
             "#ed7953"
            ],
            [
             0.7777777777777778,
             "#fb9f3a"
            ],
            [
             0.8888888888888888,
             "#fdca26"
            ],
            [
             1,
             "#f0f921"
            ]
           ]
          },
          "colorway": [
           "#636efa",
           "#EF553B",
           "#00cc96",
           "#ab63fa",
           "#FFA15A",
           "#19d3f3",
           "#FF6692",
           "#B6E880",
           "#FF97FF",
           "#FECB52"
          ],
          "font": {
           "color": "#f2f5fa"
          },
          "geo": {
           "bgcolor": "rgb(17,17,17)",
           "lakecolor": "rgb(17,17,17)",
           "landcolor": "rgb(17,17,17)",
           "showlakes": true,
           "showland": true,
           "subunitcolor": "#506784"
          },
          "hoverlabel": {
           "align": "left"
          },
          "hovermode": "closest",
          "mapbox": {
           "style": "dark"
          },
          "paper_bgcolor": "rgb(17,17,17)",
          "plot_bgcolor": "rgb(17,17,17)",
          "polar": {
           "angularaxis": {
            "gridcolor": "#506784",
            "linecolor": "#506784",
            "ticks": ""
           },
           "bgcolor": "rgb(17,17,17)",
           "radialaxis": {
            "gridcolor": "#506784",
            "linecolor": "#506784",
            "ticks": ""
           }
          },
          "scene": {
           "xaxis": {
            "backgroundcolor": "rgb(17,17,17)",
            "gridcolor": "#506784",
            "gridwidth": 2,
            "linecolor": "#506784",
            "showbackground": true,
            "ticks": "",
            "zerolinecolor": "#C8D4E3"
           },
           "yaxis": {
            "backgroundcolor": "rgb(17,17,17)",
            "gridcolor": "#506784",
            "gridwidth": 2,
            "linecolor": "#506784",
            "showbackground": true,
            "ticks": "",
            "zerolinecolor": "#C8D4E3"
           },
           "zaxis": {
            "backgroundcolor": "rgb(17,17,17)",
            "gridcolor": "#506784",
            "gridwidth": 2,
            "linecolor": "#506784",
            "showbackground": true,
            "ticks": "",
            "zerolinecolor": "#C8D4E3"
           }
          },
          "shapedefaults": {
           "line": {
            "color": "#f2f5fa"
           }
          },
          "sliderdefaults": {
           "bgcolor": "#C8D4E3",
           "bordercolor": "rgb(17,17,17)",
           "borderwidth": 1,
           "tickwidth": 0
          },
          "ternary": {
           "aaxis": {
            "gridcolor": "#506784",
            "linecolor": "#506784",
            "ticks": ""
           },
           "baxis": {
            "gridcolor": "#506784",
            "linecolor": "#506784",
            "ticks": ""
           },
           "bgcolor": "rgb(17,17,17)",
           "caxis": {
            "gridcolor": "#506784",
            "linecolor": "#506784",
            "ticks": ""
           }
          },
          "title": {
           "x": 0.05
          },
          "updatemenudefaults": {
           "bgcolor": "#506784",
           "borderwidth": 0
          },
          "xaxis": {
           "automargin": true,
           "gridcolor": "#283442",
           "linecolor": "#506784",
           "ticks": "",
           "title": {
            "standoff": 15
           },
           "zerolinecolor": "#283442",
           "zerolinewidth": 2
          },
          "yaxis": {
           "automargin": true,
           "gridcolor": "#283442",
           "linecolor": "#506784",
           "ticks": "",
           "title": {
            "standoff": 15
           },
           "zerolinecolor": "#283442",
           "zerolinewidth": 2
          }
         }
        },
        "title": {
         "text": "Pickup Hour=2023-11-05 00:00:00, location_id=79"
        },
        "xaxis": {
         "anchor": "y",
         "domain": [
          0,
          1
         ],
         "title": {
          "text": "x"
         }
        },
        "yaxis": {
         "anchor": "x",
         "domain": [
          0,
          1
         ],
         "title": {
          "text": "y"
         }
        }
       }
      }
     },
     "metadata": {},
     "output_type": "display_data"
    }
   ],
   "source": [
    "plot_one_sample(\n",
    "    example_id=16849,\n",
    "    features=X_test,\n",
    "    targets=y_test,\n",
    "    predictions=pd.Series(predictions)\n",
    ")"
   ]
  },
  {
   "cell_type": "code",
   "execution_count": 20,
   "metadata": {},
   "outputs": [
    {
     "data": {
      "application/vnd.plotly.v1+json": {
       "config": {
        "plotlyServerURL": "https://plot.ly"
       },
       "data": [
        {
         "hovertemplate": "x=%{x}<br>y=%{y}<extra></extra>",
         "legendgroup": "",
         "line": {
          "color": "#636efa",
          "dash": "solid"
         },
         "marker": {
          "symbol": "circle"
         },
         "mode": "lines+markers",
         "name": "",
         "orientation": "v",
         "showlegend": false,
         "type": "scatter",
         "x": [
          "2023-11-24T00:00:00",
          "2023-11-24T01:00:00",
          "2023-11-24T02:00:00",
          "2023-11-24T03:00:00",
          "2023-11-24T04:00:00",
          "2023-11-24T05:00:00",
          "2023-11-24T06:00:00",
          "2023-11-24T07:00:00",
          "2023-11-24T08:00:00",
          "2023-11-24T09:00:00",
          "2023-11-24T10:00:00",
          "2023-11-24T11:00:00",
          "2023-11-24T12:00:00",
          "2023-11-24T13:00:00",
          "2023-11-24T14:00:00",
          "2023-11-24T15:00:00",
          "2023-11-24T16:00:00",
          "2023-11-24T17:00:00",
          "2023-11-24T18:00:00",
          "2023-11-24T19:00:00",
          "2023-11-24T20:00:00",
          "2023-11-24T21:00:00",
          "2023-11-24T22:00:00",
          "2023-11-24T23:00:00",
          "2023-11-25T00:00:00",
          "2023-11-25T01:00:00",
          "2023-11-25T02:00:00",
          "2023-11-25T03:00:00",
          "2023-11-25T04:00:00",
          "2023-11-25T05:00:00",
          "2023-11-25T06:00:00",
          "2023-11-25T07:00:00",
          "2023-11-25T08:00:00",
          "2023-11-25T09:00:00",
          "2023-11-25T10:00:00",
          "2023-11-25T11:00:00",
          "2023-11-25T12:00:00",
          "2023-11-25T13:00:00",
          "2023-11-25T14:00:00",
          "2023-11-25T15:00:00",
          "2023-11-25T16:00:00",
          "2023-11-25T17:00:00",
          "2023-11-25T18:00:00",
          "2023-11-25T19:00:00",
          "2023-11-25T20:00:00",
          "2023-11-25T21:00:00",
          "2023-11-25T22:00:00",
          "2023-11-25T23:00:00",
          "2023-11-26T00:00:00",
          "2023-11-26T01:00:00",
          "2023-11-26T02:00:00",
          "2023-11-26T03:00:00",
          "2023-11-26T04:00:00",
          "2023-11-26T05:00:00",
          "2023-11-26T06:00:00",
          "2023-11-26T07:00:00",
          "2023-11-26T08:00:00",
          "2023-11-26T09:00:00",
          "2023-11-26T10:00:00",
          "2023-11-26T11:00:00",
          "2023-11-26T12:00:00",
          "2023-11-26T13:00:00",
          "2023-11-26T14:00:00",
          "2023-11-26T15:00:00",
          "2023-11-26T16:00:00",
          "2023-11-26T17:00:00",
          "2023-11-26T18:00:00",
          "2023-11-26T19:00:00",
          "2023-11-26T20:00:00",
          "2023-11-26T21:00:00",
          "2023-11-26T22:00:00",
          "2023-11-26T23:00:00",
          "2023-11-27T00:00:00",
          "2023-11-27T01:00:00",
          "2023-11-27T02:00:00",
          "2023-11-27T03:00:00",
          "2023-11-27T04:00:00",
          "2023-11-27T05:00:00",
          "2023-11-27T06:00:00",
          "2023-11-27T07:00:00",
          "2023-11-27T08:00:00",
          "2023-11-27T09:00:00",
          "2023-11-27T10:00:00",
          "2023-11-27T11:00:00",
          "2023-11-27T12:00:00",
          "2023-11-27T13:00:00",
          "2023-11-27T14:00:00",
          "2023-11-27T15:00:00",
          "2023-11-27T16:00:00",
          "2023-11-27T17:00:00",
          "2023-11-27T18:00:00",
          "2023-11-27T19:00:00",
          "2023-11-27T20:00:00",
          "2023-11-27T21:00:00",
          "2023-11-27T22:00:00",
          "2023-11-27T23:00:00",
          "2023-11-28T00:00:00",
          "2023-11-28T01:00:00",
          "2023-11-28T02:00:00",
          "2023-11-28T03:00:00",
          "2023-11-28T04:00:00",
          "2023-11-28T05:00:00",
          "2023-11-28T06:00:00",
          "2023-11-28T07:00:00",
          "2023-11-28T08:00:00",
          "2023-11-28T09:00:00",
          "2023-11-28T10:00:00",
          "2023-11-28T11:00:00",
          "2023-11-28T12:00:00",
          "2023-11-28T13:00:00",
          "2023-11-28T14:00:00",
          "2023-11-28T15:00:00",
          "2023-11-28T16:00:00",
          "2023-11-28T17:00:00",
          "2023-11-28T18:00:00",
          "2023-11-28T19:00:00",
          "2023-11-28T20:00:00",
          "2023-11-28T21:00:00",
          "2023-11-28T22:00:00",
          "2023-11-28T23:00:00",
          "2023-11-29T00:00:00",
          "2023-11-29T01:00:00",
          "2023-11-29T02:00:00",
          "2023-11-29T03:00:00",
          "2023-11-29T04:00:00",
          "2023-11-29T05:00:00",
          "2023-11-29T06:00:00",
          "2023-11-29T07:00:00",
          "2023-11-29T08:00:00",
          "2023-11-29T09:00:00",
          "2023-11-29T10:00:00",
          "2023-11-29T11:00:00",
          "2023-11-29T12:00:00",
          "2023-11-29T13:00:00",
          "2023-11-29T14:00:00",
          "2023-11-29T15:00:00",
          "2023-11-29T16:00:00",
          "2023-11-29T17:00:00",
          "2023-11-29T18:00:00",
          "2023-11-29T19:00:00",
          "2023-11-29T20:00:00",
          "2023-11-29T21:00:00",
          "2023-11-29T22:00:00",
          "2023-11-29T23:00:00",
          "2023-11-30T00:00:00",
          "2023-11-30T01:00:00",
          "2023-11-30T02:00:00",
          "2023-11-30T03:00:00",
          "2023-11-30T04:00:00",
          "2023-11-30T05:00:00",
          "2023-11-30T06:00:00",
          "2023-11-30T07:00:00",
          "2023-11-30T08:00:00",
          "2023-11-30T09:00:00",
          "2023-11-30T10:00:00",
          "2023-11-30T11:00:00",
          "2023-11-30T12:00:00",
          "2023-11-30T13:00:00",
          "2023-11-30T14:00:00",
          "2023-11-30T15:00:00",
          "2023-11-30T16:00:00",
          "2023-11-30T17:00:00",
          "2023-11-30T18:00:00",
          "2023-11-30T19:00:00",
          "2023-11-30T20:00:00",
          "2023-11-30T21:00:00",
          "2023-11-30T22:00:00",
          "2023-11-30T23:00:00",
          "2023-12-01T00:00:00",
          "2023-12-01T01:00:00",
          "2023-12-01T02:00:00",
          "2023-12-01T03:00:00",
          "2023-12-01T04:00:00",
          "2023-12-01T05:00:00",
          "2023-12-01T06:00:00",
          "2023-12-01T07:00:00",
          "2023-12-01T08:00:00",
          "2023-12-01T09:00:00",
          "2023-12-01T10:00:00",
          "2023-12-01T11:00:00",
          "2023-12-01T12:00:00",
          "2023-12-01T13:00:00",
          "2023-12-01T14:00:00",
          "2023-12-01T15:00:00",
          "2023-12-01T16:00:00",
          "2023-12-01T17:00:00",
          "2023-12-01T18:00:00",
          "2023-12-01T19:00:00",
          "2023-12-01T20:00:00",
          "2023-12-01T21:00:00",
          "2023-12-01T22:00:00",
          "2023-12-01T23:00:00",
          "2023-12-02T00:00:00",
          "2023-12-02T01:00:00",
          "2023-12-02T02:00:00",
          "2023-12-02T03:00:00",
          "2023-12-02T04:00:00",
          "2023-12-02T05:00:00",
          "2023-12-02T06:00:00",
          "2023-12-02T07:00:00",
          "2023-12-02T08:00:00",
          "2023-12-02T09:00:00",
          "2023-12-02T10:00:00",
          "2023-12-02T11:00:00",
          "2023-12-02T12:00:00",
          "2023-12-02T13:00:00",
          "2023-12-02T14:00:00",
          "2023-12-02T15:00:00",
          "2023-12-02T16:00:00",
          "2023-12-02T17:00:00",
          "2023-12-02T18:00:00",
          "2023-12-02T19:00:00",
          "2023-12-02T20:00:00",
          "2023-12-02T21:00:00",
          "2023-12-02T22:00:00",
          "2023-12-02T23:00:00",
          "2023-12-03T00:00:00",
          "2023-12-03T01:00:00",
          "2023-12-03T02:00:00",
          "2023-12-03T03:00:00",
          "2023-12-03T04:00:00",
          "2023-12-03T05:00:00",
          "2023-12-03T06:00:00",
          "2023-12-03T07:00:00",
          "2023-12-03T08:00:00",
          "2023-12-03T09:00:00",
          "2023-12-03T10:00:00",
          "2023-12-03T11:00:00",
          "2023-12-03T12:00:00",
          "2023-12-03T13:00:00",
          "2023-12-03T14:00:00",
          "2023-12-03T15:00:00",
          "2023-12-03T16:00:00",
          "2023-12-03T17:00:00",
          "2023-12-03T18:00:00",
          "2023-12-03T19:00:00",
          "2023-12-03T20:00:00",
          "2023-12-03T21:00:00",
          "2023-12-03T22:00:00",
          "2023-12-03T23:00:00",
          "2023-12-04T00:00:00",
          "2023-12-04T01:00:00",
          "2023-12-04T02:00:00",
          "2023-12-04T03:00:00",
          "2023-12-04T04:00:00",
          "2023-12-04T05:00:00",
          "2023-12-04T06:00:00",
          "2023-12-04T07:00:00",
          "2023-12-04T08:00:00",
          "2023-12-04T09:00:00",
          "2023-12-04T10:00:00",
          "2023-12-04T11:00:00",
          "2023-12-04T12:00:00",
          "2023-12-04T13:00:00",
          "2023-12-04T14:00:00",
          "2023-12-04T15:00:00",
          "2023-12-04T16:00:00",
          "2023-12-04T17:00:00",
          "2023-12-04T18:00:00",
          "2023-12-04T19:00:00",
          "2023-12-04T20:00:00",
          "2023-12-04T21:00:00",
          "2023-12-04T22:00:00",
          "2023-12-04T23:00:00",
          "2023-12-05T00:00:00",
          "2023-12-05T01:00:00",
          "2023-12-05T02:00:00",
          "2023-12-05T03:00:00",
          "2023-12-05T04:00:00",
          "2023-12-05T05:00:00",
          "2023-12-05T06:00:00",
          "2023-12-05T07:00:00",
          "2023-12-05T08:00:00",
          "2023-12-05T09:00:00",
          "2023-12-05T10:00:00",
          "2023-12-05T11:00:00",
          "2023-12-05T12:00:00",
          "2023-12-05T13:00:00",
          "2023-12-05T14:00:00",
          "2023-12-05T15:00:00",
          "2023-12-05T16:00:00",
          "2023-12-05T17:00:00",
          "2023-12-05T18:00:00",
          "2023-12-05T19:00:00",
          "2023-12-05T20:00:00",
          "2023-12-05T21:00:00",
          "2023-12-05T22:00:00",
          "2023-12-05T23:00:00",
          "2023-12-06T00:00:00",
          "2023-12-06T01:00:00",
          "2023-12-06T02:00:00",
          "2023-12-06T03:00:00",
          "2023-12-06T04:00:00",
          "2023-12-06T05:00:00",
          "2023-12-06T06:00:00",
          "2023-12-06T07:00:00",
          "2023-12-06T08:00:00",
          "2023-12-06T09:00:00",
          "2023-12-06T10:00:00",
          "2023-12-06T11:00:00",
          "2023-12-06T12:00:00",
          "2023-12-06T13:00:00",
          "2023-12-06T14:00:00",
          "2023-12-06T15:00:00",
          "2023-12-06T16:00:00",
          "2023-12-06T17:00:00",
          "2023-12-06T18:00:00",
          "2023-12-06T19:00:00",
          "2023-12-06T20:00:00",
          "2023-12-06T21:00:00",
          "2023-12-06T22:00:00",
          "2023-12-06T23:00:00",
          "2023-12-07T00:00:00",
          "2023-12-07T01:00:00",
          "2023-12-07T02:00:00",
          "2023-12-07T03:00:00",
          "2023-12-07T04:00:00",
          "2023-12-07T05:00:00",
          "2023-12-07T06:00:00",
          "2023-12-07T07:00:00",
          "2023-12-07T08:00:00",
          "2023-12-07T09:00:00",
          "2023-12-07T10:00:00",
          "2023-12-07T11:00:00",
          "2023-12-07T12:00:00",
          "2023-12-07T13:00:00",
          "2023-12-07T14:00:00",
          "2023-12-07T15:00:00",
          "2023-12-07T16:00:00",
          "2023-12-07T17:00:00",
          "2023-12-07T18:00:00",
          "2023-12-07T19:00:00",
          "2023-12-07T20:00:00",
          "2023-12-07T21:00:00",
          "2023-12-07T22:00:00",
          "2023-12-07T23:00:00",
          "2023-12-08T00:00:00",
          "2023-12-08T01:00:00",
          "2023-12-08T02:00:00",
          "2023-12-08T03:00:00",
          "2023-12-08T04:00:00",
          "2023-12-08T05:00:00",
          "2023-12-08T06:00:00",
          "2023-12-08T07:00:00",
          "2023-12-08T08:00:00",
          "2023-12-08T09:00:00",
          "2023-12-08T10:00:00",
          "2023-12-08T11:00:00",
          "2023-12-08T12:00:00",
          "2023-12-08T13:00:00",
          "2023-12-08T14:00:00",
          "2023-12-08T15:00:00",
          "2023-12-08T16:00:00",
          "2023-12-08T17:00:00",
          "2023-12-08T18:00:00",
          "2023-12-08T19:00:00",
          "2023-12-08T20:00:00",
          "2023-12-08T21:00:00",
          "2023-12-08T22:00:00",
          "2023-12-08T23:00:00",
          "2023-12-09T00:00:00",
          "2023-12-09T01:00:00",
          "2023-12-09T02:00:00",
          "2023-12-09T03:00:00",
          "2023-12-09T04:00:00",
          "2023-12-09T05:00:00",
          "2023-12-09T06:00:00",
          "2023-12-09T07:00:00",
          "2023-12-09T08:00:00",
          "2023-12-09T09:00:00",
          "2023-12-09T10:00:00",
          "2023-12-09T11:00:00",
          "2023-12-09T12:00:00",
          "2023-12-09T13:00:00",
          "2023-12-09T14:00:00",
          "2023-12-09T15:00:00",
          "2023-12-09T16:00:00",
          "2023-12-09T17:00:00",
          "2023-12-09T18:00:00",
          "2023-12-09T19:00:00",
          "2023-12-09T20:00:00",
          "2023-12-09T21:00:00",
          "2023-12-09T22:00:00",
          "2023-12-09T23:00:00",
          "2023-12-10T00:00:00",
          "2023-12-10T01:00:00",
          "2023-12-10T02:00:00",
          "2023-12-10T03:00:00",
          "2023-12-10T04:00:00",
          "2023-12-10T05:00:00",
          "2023-12-10T06:00:00",
          "2023-12-10T07:00:00",
          "2023-12-10T08:00:00",
          "2023-12-10T09:00:00",
          "2023-12-10T10:00:00",
          "2023-12-10T11:00:00",
          "2023-12-10T12:00:00",
          "2023-12-10T13:00:00",
          "2023-12-10T14:00:00",
          "2023-12-10T15:00:00",
          "2023-12-10T16:00:00",
          "2023-12-10T17:00:00",
          "2023-12-10T18:00:00",
          "2023-12-10T19:00:00",
          "2023-12-10T20:00:00",
          "2023-12-10T21:00:00",
          "2023-12-10T22:00:00",
          "2023-12-10T23:00:00",
          "2023-12-11T00:00:00",
          "2023-12-11T01:00:00",
          "2023-12-11T02:00:00",
          "2023-12-11T03:00:00",
          "2023-12-11T04:00:00",
          "2023-12-11T05:00:00",
          "2023-12-11T06:00:00",
          "2023-12-11T07:00:00",
          "2023-12-11T08:00:00",
          "2023-12-11T09:00:00",
          "2023-12-11T10:00:00",
          "2023-12-11T11:00:00",
          "2023-12-11T12:00:00",
          "2023-12-11T13:00:00",
          "2023-12-11T14:00:00",
          "2023-12-11T15:00:00",
          "2023-12-11T16:00:00",
          "2023-12-11T17:00:00",
          "2023-12-11T18:00:00",
          "2023-12-11T19:00:00",
          "2023-12-11T20:00:00",
          "2023-12-11T21:00:00",
          "2023-12-11T22:00:00",
          "2023-12-11T23:00:00",
          "2023-12-12T00:00:00",
          "2023-12-12T01:00:00",
          "2023-12-12T02:00:00",
          "2023-12-12T03:00:00",
          "2023-12-12T04:00:00",
          "2023-12-12T05:00:00",
          "2023-12-12T06:00:00",
          "2023-12-12T07:00:00",
          "2023-12-12T08:00:00",
          "2023-12-12T09:00:00",
          "2023-12-12T10:00:00",
          "2023-12-12T11:00:00",
          "2023-12-12T12:00:00",
          "2023-12-12T13:00:00",
          "2023-12-12T14:00:00",
          "2023-12-12T15:00:00",
          "2023-12-12T16:00:00",
          "2023-12-12T17:00:00",
          "2023-12-12T18:00:00",
          "2023-12-12T19:00:00",
          "2023-12-12T20:00:00",
          "2023-12-12T21:00:00",
          "2023-12-12T22:00:00",
          "2023-12-12T23:00:00",
          "2023-12-13T00:00:00",
          "2023-12-13T01:00:00",
          "2023-12-13T02:00:00",
          "2023-12-13T03:00:00",
          "2023-12-13T04:00:00",
          "2023-12-13T05:00:00",
          "2023-12-13T06:00:00",
          "2023-12-13T07:00:00",
          "2023-12-13T08:00:00",
          "2023-12-13T09:00:00",
          "2023-12-13T10:00:00",
          "2023-12-13T11:00:00",
          "2023-12-13T12:00:00",
          "2023-12-13T13:00:00",
          "2023-12-13T14:00:00",
          "2023-12-13T15:00:00",
          "2023-12-13T16:00:00",
          "2023-12-13T17:00:00",
          "2023-12-13T18:00:00",
          "2023-12-13T19:00:00",
          "2023-12-13T20:00:00",
          "2023-12-13T21:00:00",
          "2023-12-13T22:00:00",
          "2023-12-13T23:00:00",
          "2023-12-14T00:00:00",
          "2023-12-14T01:00:00",
          "2023-12-14T02:00:00",
          "2023-12-14T03:00:00",
          "2023-12-14T04:00:00",
          "2023-12-14T05:00:00",
          "2023-12-14T06:00:00",
          "2023-12-14T07:00:00",
          "2023-12-14T08:00:00",
          "2023-12-14T09:00:00",
          "2023-12-14T10:00:00",
          "2023-12-14T11:00:00",
          "2023-12-14T12:00:00",
          "2023-12-14T13:00:00",
          "2023-12-14T14:00:00",
          "2023-12-14T15:00:00",
          "2023-12-14T16:00:00",
          "2023-12-14T17:00:00",
          "2023-12-14T18:00:00",
          "2023-12-14T19:00:00",
          "2023-12-14T20:00:00",
          "2023-12-14T21:00:00",
          "2023-12-14T22:00:00",
          "2023-12-14T23:00:00",
          "2023-12-15T00:00:00",
          "2023-12-15T01:00:00",
          "2023-12-15T02:00:00",
          "2023-12-15T03:00:00",
          "2023-12-15T04:00:00",
          "2023-12-15T05:00:00",
          "2023-12-15T06:00:00",
          "2023-12-15T07:00:00",
          "2023-12-15T08:00:00",
          "2023-12-15T09:00:00",
          "2023-12-15T10:00:00",
          "2023-12-15T11:00:00",
          "2023-12-15T12:00:00",
          "2023-12-15T13:00:00",
          "2023-12-15T14:00:00",
          "2023-12-15T15:00:00",
          "2023-12-15T16:00:00",
          "2023-12-15T17:00:00",
          "2023-12-15T18:00:00",
          "2023-12-15T19:00:00",
          "2023-12-15T20:00:00",
          "2023-12-15T21:00:00",
          "2023-12-15T22:00:00",
          "2023-12-15T23:00:00",
          "2023-12-16T00:00:00",
          "2023-12-16T01:00:00",
          "2023-12-16T02:00:00",
          "2023-12-16T03:00:00",
          "2023-12-16T04:00:00",
          "2023-12-16T05:00:00",
          "2023-12-16T06:00:00",
          "2023-12-16T07:00:00",
          "2023-12-16T08:00:00",
          "2023-12-16T09:00:00",
          "2023-12-16T10:00:00",
          "2023-12-16T11:00:00",
          "2023-12-16T12:00:00",
          "2023-12-16T13:00:00",
          "2023-12-16T14:00:00",
          "2023-12-16T15:00:00",
          "2023-12-16T16:00:00",
          "2023-12-16T17:00:00",
          "2023-12-16T18:00:00",
          "2023-12-16T19:00:00",
          "2023-12-16T20:00:00",
          "2023-12-16T21:00:00",
          "2023-12-16T22:00:00",
          "2023-12-16T23:00:00",
          "2023-12-17T00:00:00",
          "2023-12-17T01:00:00",
          "2023-12-17T02:00:00",
          "2023-12-17T03:00:00",
          "2023-12-17T04:00:00",
          "2023-12-17T05:00:00",
          "2023-12-17T06:00:00",
          "2023-12-17T07:00:00",
          "2023-12-17T08:00:00",
          "2023-12-17T09:00:00",
          "2023-12-17T10:00:00",
          "2023-12-17T11:00:00",
          "2023-12-17T12:00:00",
          "2023-12-17T13:00:00",
          "2023-12-17T14:00:00",
          "2023-12-17T15:00:00",
          "2023-12-17T16:00:00",
          "2023-12-17T17:00:00",
          "2023-12-17T18:00:00",
          "2023-12-17T19:00:00",
          "2023-12-17T20:00:00",
          "2023-12-17T21:00:00",
          "2023-12-17T22:00:00",
          "2023-12-17T23:00:00",
          "2023-12-18T00:00:00",
          "2023-12-18T01:00:00",
          "2023-12-18T02:00:00",
          "2023-12-18T03:00:00",
          "2023-12-18T04:00:00",
          "2023-12-18T05:00:00",
          "2023-12-18T06:00:00",
          "2023-12-18T07:00:00",
          "2023-12-18T08:00:00",
          "2023-12-18T09:00:00",
          "2023-12-18T10:00:00",
          "2023-12-18T11:00:00",
          "2023-12-18T12:00:00",
          "2023-12-18T13:00:00",
          "2023-12-18T14:00:00",
          "2023-12-18T15:00:00",
          "2023-12-18T16:00:00",
          "2023-12-18T17:00:00",
          "2023-12-18T18:00:00",
          "2023-12-18T19:00:00",
          "2023-12-18T20:00:00",
          "2023-12-18T21:00:00",
          "2023-12-18T22:00:00",
          "2023-12-18T23:00:00",
          "2023-12-19T00:00:00",
          "2023-12-19T01:00:00",
          "2023-12-19T02:00:00",
          "2023-12-19T03:00:00",
          "2023-12-19T04:00:00",
          "2023-12-19T05:00:00",
          "2023-12-19T06:00:00",
          "2023-12-19T07:00:00",
          "2023-12-19T08:00:00",
          "2023-12-19T09:00:00",
          "2023-12-19T10:00:00",
          "2023-12-19T11:00:00",
          "2023-12-19T12:00:00",
          "2023-12-19T13:00:00",
          "2023-12-19T14:00:00",
          "2023-12-19T15:00:00",
          "2023-12-19T16:00:00",
          "2023-12-19T17:00:00",
          "2023-12-19T18:00:00",
          "2023-12-19T19:00:00",
          "2023-12-19T20:00:00",
          "2023-12-19T21:00:00",
          "2023-12-19T22:00:00",
          "2023-12-19T23:00:00",
          "2023-12-20T00:00:00",
          "2023-12-20T01:00:00",
          "2023-12-20T02:00:00",
          "2023-12-20T03:00:00",
          "2023-12-20T04:00:00",
          "2023-12-20T05:00:00",
          "2023-12-20T06:00:00",
          "2023-12-20T07:00:00",
          "2023-12-20T08:00:00",
          "2023-12-20T09:00:00",
          "2023-12-20T10:00:00",
          "2023-12-20T11:00:00",
          "2023-12-20T12:00:00",
          "2023-12-20T13:00:00",
          "2023-12-20T14:00:00",
          "2023-12-20T15:00:00",
          "2023-12-20T16:00:00",
          "2023-12-20T17:00:00",
          "2023-12-20T18:00:00",
          "2023-12-20T19:00:00",
          "2023-12-20T20:00:00",
          "2023-12-20T21:00:00",
          "2023-12-20T22:00:00",
          "2023-12-20T23:00:00",
          "2023-12-21T00:00:00",
          "2023-12-21T01:00:00",
          "2023-12-21T02:00:00",
          "2023-12-21T03:00:00",
          "2023-12-21T04:00:00",
          "2023-12-21T05:00:00",
          "2023-12-21T06:00:00",
          "2023-12-21T07:00:00",
          "2023-12-21T08:00:00",
          "2023-12-21T09:00:00",
          "2023-12-21T10:00:00",
          "2023-12-21T11:00:00",
          "2023-12-21T12:00:00",
          "2023-12-21T13:00:00",
          "2023-12-21T14:00:00",
          "2023-12-21T15:00:00",
          "2023-12-21T16:00:00",
          "2023-12-21T17:00:00",
          "2023-12-21T18:00:00",
          "2023-12-21T19:00:00",
          "2023-12-21T20:00:00",
          "2023-12-21T21:00:00",
          "2023-12-21T22:00:00",
          "2023-12-21T23:00:00",
          "2023-12-22T00:00:00"
         ],
         "xaxis": "x",
         "y": [
          4,
          4,
          2,
          1,
          1,
          2,
          1,
          0,
          3,
          2,
          1,
          2,
          3,
          4,
          10,
          1,
          0,
          2,
          6,
          7,
          2,
          5,
          4,
          6,
          6,
          6,
          2,
          4,
          4,
          4,
          2,
          1,
          2,
          0,
          4,
          2,
          3,
          1,
          1,
          3,
          0,
          2,
          2,
          2,
          2,
          6,
          0,
          1,
          4,
          1,
          3,
          7,
          4,
          2,
          0,
          1,
          1,
          3,
          4,
          6,
          6,
          3,
          2,
          3,
          8,
          13,
          5,
          2,
          3,
          5,
          4,
          1,
          4,
          1,
          1,
          1,
          1,
          4,
          4,
          2,
          2,
          1,
          2,
          5,
          2,
          3,
          1,
          5,
          17,
          6,
          4,
          2,
          6,
          2,
          8,
          2,
          4,
          0,
          0,
          0,
          0,
          0,
          7,
          2,
          0,
          1,
          2,
          4,
          6,
          5,
          2,
          6,
          4,
          14,
          3,
          4,
          8,
          5,
          2,
          4,
          1,
          0,
          2,
          0,
          0,
          3,
          3,
          0,
          3,
          2,
          2,
          6,
          5,
          4,
          4,
          2,
          4,
          8,
          3,
          1,
          2,
          2,
          6,
          7,
          5,
          7,
          2,
          1,
          0,
          1,
          2,
          2,
          3,
          3,
          2,
          0,
          2,
          7,
          0,
          4,
          2,
          7,
          5,
          3,
          3,
          6,
          3,
          9,
          5,
          3,
          2,
          3,
          1,
          3,
          1,
          5,
          3,
          1,
          3,
          4,
          2,
          3,
          3,
          5,
          2,
          3,
          5,
          7,
          1,
          3,
          4,
          3,
          3,
          4,
          9,
          4,
          1,
          2,
          0,
          0,
          0,
          2,
          6,
          2,
          2,
          0,
          1,
          1,
          2,
          3,
          0,
          3,
          2,
          6,
          3,
          8,
          13,
          6,
          6,
          5,
          8,
          3,
          2,
          4,
          0,
          4,
          0,
          3,
          3,
          3,
          2,
          6,
          11,
          9,
          3,
          2,
          6,
          2,
          8,
          2,
          9,
          5,
          2,
          1,
          1,
          2,
          4,
          4,
          1,
          1,
          8,
          6,
          6,
          2,
          1,
          9,
          4,
          6,
          2,
          3,
          2,
          1,
          7,
          1,
          1,
          3,
          0,
          1,
          0,
          0,
          7,
          2,
          3,
          0,
          5,
          0,
          3,
          0,
          3,
          4,
          2,
          7,
          3,
          3,
          4,
          10,
          10,
          6,
          4,
          3,
          3,
          1,
          3,
          1,
          4,
          1,
          1,
          1,
          4,
          5,
          5,
          4,
          4,
          5,
          3,
          7,
          4,
          4,
          5,
          12,
          12,
          13,
          8,
          7,
          3,
          3,
          0,
          1,
          6,
          6,
          1,
          1,
          0,
          7,
          0,
          2,
          2,
          2,
          5,
          6,
          4,
          4,
          4,
          2,
          12,
          11,
          5,
          14,
          3,
          2,
          2,
          1,
          2,
          4,
          1,
          1,
          5,
          2,
          3,
          4,
          1,
          4,
          4,
          2,
          3,
          2,
          2,
          2,
          7,
          6,
          7,
          9,
          4,
          5,
          4,
          0,
          1,
          3,
          1,
          3,
          0,
          2,
          2,
          5,
          3,
          1,
          1,
          5,
          0,
          3,
          3,
          4,
          2,
          8,
          5,
          7,
          0,
          3,
          5,
          1,
          5,
          1,
          5,
          2,
          3,
          4,
          4,
          5,
          3,
          5,
          7,
          4,
          2,
          4,
          1,
          3,
          3,
          3,
          2,
          0,
          2,
          0,
          0,
          0,
          5,
          1,
          4,
          1,
          2,
          5,
          1,
          0,
          4,
          5,
          3,
          3,
          10,
          3,
          0,
          3,
          10,
          5,
          7,
          3,
          0,
          0,
          0,
          1,
          2,
          3,
          6,
          3,
          1,
          5,
          4,
          4,
          6,
          8,
          7,
          5,
          3,
          1,
          2,
          6,
          4,
          5,
          6,
          2,
          3,
          4,
          4,
          0,
          11,
          0,
          2,
          0,
          2,
          3,
          2,
          6,
          3,
          2,
          5,
          9,
          2,
          3,
          3,
          1,
          4,
          8,
          8,
          11,
          11,
          2,
          1,
          2,
          4,
          0,
          1,
          2,
          2,
          0,
          2,
          5,
          2,
          7,
          5,
          4,
          4,
          4,
          3,
          6,
          7,
          7,
          9,
          7,
          9,
          4,
          1,
          2,
          3,
          0,
          1,
          3,
          1,
          0,
          2,
          3,
          7,
          2,
          0,
          9,
          3,
          2,
          2,
          4,
          3,
          3,
          8,
          4,
          9,
          6,
          8,
          0,
          0,
          1,
          7,
          3,
          2,
          0,
          1,
          3,
          4,
          4,
          2,
          2,
          2,
          0,
          0,
          1,
          6,
          2,
          3,
          5,
          4,
          3,
          5,
          3,
          1,
          1,
          2,
          5,
          0,
          5,
          1,
          2,
          6,
          1,
          7,
          3,
          6,
          2,
          4,
          4,
          4,
          3,
          1,
          0,
          1,
          0,
          4,
          0,
          3,
          2,
          1,
          4,
          5,
          3,
          2,
          1,
          3,
          8,
          5,
          3,
          5,
          4,
          0,
          2,
          1,
          1,
          7,
          2,
          0,
          1,
          0,
          1,
          4,
          1,
          2,
          1,
          3,
          2,
          3,
          4,
          5,
          2,
          4,
          3,
          2,
          2,
          2,
          3,
          1,
          3,
          2,
          4,
          5,
          3,
          0,
          0,
          2,
          1,
          3,
          2,
          0,
          4,
          3,
          2,
          2,
          3,
          2,
          7,
          5,
          4,
          3,
          2,
          7,
          5,
          1,
          3,
          6,
          3,
          4,
          4,
          3,
          1,
          0,
          1,
          5,
          0,
          2,
          2,
          7,
          4,
          0,
          3,
          3,
          3,
          3,
          4,
          2,
          3,
          3
         ],
         "yaxis": "y"
        },
        {
         "line": {
          "color": "lime"
         },
         "marker": {
          "size": 10
         },
         "mode": "markers",
         "name": "actual value",
         "type": "scatter",
         "x": [
          "2023-12-22T00:00:00"
         ],
         "y": [
          3
         ]
        },
        {
         "line": {
          "color": "crimson"
         },
         "marker": {
          "size": 15,
          "symbol": "x"
         },
         "mode": "markers",
         "name": "prediction",
         "type": "scatter",
         "x": [
          "2023-12-22T00:00:00"
         ],
         "y": [
          6.628860977450196
         ]
        }
       ],
       "layout": {
        "legend": {
         "tracegroupgap": 0
        },
        "template": {
         "data": {
          "bar": [
           {
            "error_x": {
             "color": "#f2f5fa"
            },
            "error_y": {
             "color": "#f2f5fa"
            },
            "marker": {
             "line": {
              "color": "rgb(17,17,17)",
              "width": 0.5
             },
             "pattern": {
              "fillmode": "overlay",
              "size": 10,
              "solidity": 0.2
             }
            },
            "type": "bar"
           }
          ],
          "barpolar": [
           {
            "marker": {
             "line": {
              "color": "rgb(17,17,17)",
              "width": 0.5
             },
             "pattern": {
              "fillmode": "overlay",
              "size": 10,
              "solidity": 0.2
             }
            },
            "type": "barpolar"
           }
          ],
          "carpet": [
           {
            "aaxis": {
             "endlinecolor": "#A2B1C6",
             "gridcolor": "#506784",
             "linecolor": "#506784",
             "minorgridcolor": "#506784",
             "startlinecolor": "#A2B1C6"
            },
            "baxis": {
             "endlinecolor": "#A2B1C6",
             "gridcolor": "#506784",
             "linecolor": "#506784",
             "minorgridcolor": "#506784",
             "startlinecolor": "#A2B1C6"
            },
            "type": "carpet"
           }
          ],
          "choropleth": [
           {
            "colorbar": {
             "outlinewidth": 0,
             "ticks": ""
            },
            "type": "choropleth"
           }
          ],
          "contour": [
           {
            "colorbar": {
             "outlinewidth": 0,
             "ticks": ""
            },
            "colorscale": [
             [
              0,
              "#0d0887"
             ],
             [
              0.1111111111111111,
              "#46039f"
             ],
             [
              0.2222222222222222,
              "#7201a8"
             ],
             [
              0.3333333333333333,
              "#9c179e"
             ],
             [
              0.4444444444444444,
              "#bd3786"
             ],
             [
              0.5555555555555556,
              "#d8576b"
             ],
             [
              0.6666666666666666,
              "#ed7953"
             ],
             [
              0.7777777777777778,
              "#fb9f3a"
             ],
             [
              0.8888888888888888,
              "#fdca26"
             ],
             [
              1,
              "#f0f921"
             ]
            ],
            "type": "contour"
           }
          ],
          "contourcarpet": [
           {
            "colorbar": {
             "outlinewidth": 0,
             "ticks": ""
            },
            "type": "contourcarpet"
           }
          ],
          "heatmap": [
           {
            "colorbar": {
             "outlinewidth": 0,
             "ticks": ""
            },
            "colorscale": [
             [
              0,
              "#0d0887"
             ],
             [
              0.1111111111111111,
              "#46039f"
             ],
             [
              0.2222222222222222,
              "#7201a8"
             ],
             [
              0.3333333333333333,
              "#9c179e"
             ],
             [
              0.4444444444444444,
              "#bd3786"
             ],
             [
              0.5555555555555556,
              "#d8576b"
             ],
             [
              0.6666666666666666,
              "#ed7953"
             ],
             [
              0.7777777777777778,
              "#fb9f3a"
             ],
             [
              0.8888888888888888,
              "#fdca26"
             ],
             [
              1,
              "#f0f921"
             ]
            ],
            "type": "heatmap"
           }
          ],
          "heatmapgl": [
           {
            "colorbar": {
             "outlinewidth": 0,
             "ticks": ""
            },
            "colorscale": [
             [
              0,
              "#0d0887"
             ],
             [
              0.1111111111111111,
              "#46039f"
             ],
             [
              0.2222222222222222,
              "#7201a8"
             ],
             [
              0.3333333333333333,
              "#9c179e"
             ],
             [
              0.4444444444444444,
              "#bd3786"
             ],
             [
              0.5555555555555556,
              "#d8576b"
             ],
             [
              0.6666666666666666,
              "#ed7953"
             ],
             [
              0.7777777777777778,
              "#fb9f3a"
             ],
             [
              0.8888888888888888,
              "#fdca26"
             ],
             [
              1,
              "#f0f921"
             ]
            ],
            "type": "heatmapgl"
           }
          ],
          "histogram": [
           {
            "marker": {
             "pattern": {
              "fillmode": "overlay",
              "size": 10,
              "solidity": 0.2
             }
            },
            "type": "histogram"
           }
          ],
          "histogram2d": [
           {
            "colorbar": {
             "outlinewidth": 0,
             "ticks": ""
            },
            "colorscale": [
             [
              0,
              "#0d0887"
             ],
             [
              0.1111111111111111,
              "#46039f"
             ],
             [
              0.2222222222222222,
              "#7201a8"
             ],
             [
              0.3333333333333333,
              "#9c179e"
             ],
             [
              0.4444444444444444,
              "#bd3786"
             ],
             [
              0.5555555555555556,
              "#d8576b"
             ],
             [
              0.6666666666666666,
              "#ed7953"
             ],
             [
              0.7777777777777778,
              "#fb9f3a"
             ],
             [
              0.8888888888888888,
              "#fdca26"
             ],
             [
              1,
              "#f0f921"
             ]
            ],
            "type": "histogram2d"
           }
          ],
          "histogram2dcontour": [
           {
            "colorbar": {
             "outlinewidth": 0,
             "ticks": ""
            },
            "colorscale": [
             [
              0,
              "#0d0887"
             ],
             [
              0.1111111111111111,
              "#46039f"
             ],
             [
              0.2222222222222222,
              "#7201a8"
             ],
             [
              0.3333333333333333,
              "#9c179e"
             ],
             [
              0.4444444444444444,
              "#bd3786"
             ],
             [
              0.5555555555555556,
              "#d8576b"
             ],
             [
              0.6666666666666666,
              "#ed7953"
             ],
             [
              0.7777777777777778,
              "#fb9f3a"
             ],
             [
              0.8888888888888888,
              "#fdca26"
             ],
             [
              1,
              "#f0f921"
             ]
            ],
            "type": "histogram2dcontour"
           }
          ],
          "mesh3d": [
           {
            "colorbar": {
             "outlinewidth": 0,
             "ticks": ""
            },
            "type": "mesh3d"
           }
          ],
          "parcoords": [
           {
            "line": {
             "colorbar": {
              "outlinewidth": 0,
              "ticks": ""
             }
            },
            "type": "parcoords"
           }
          ],
          "pie": [
           {
            "automargin": true,
            "type": "pie"
           }
          ],
          "scatter": [
           {
            "marker": {
             "line": {
              "color": "#283442"
             }
            },
            "type": "scatter"
           }
          ],
          "scatter3d": [
           {
            "line": {
             "colorbar": {
              "outlinewidth": 0,
              "ticks": ""
             }
            },
            "marker": {
             "colorbar": {
              "outlinewidth": 0,
              "ticks": ""
             }
            },
            "type": "scatter3d"
           }
          ],
          "scattercarpet": [
           {
            "marker": {
             "colorbar": {
              "outlinewidth": 0,
              "ticks": ""
             }
            },
            "type": "scattercarpet"
           }
          ],
          "scattergeo": [
           {
            "marker": {
             "colorbar": {
              "outlinewidth": 0,
              "ticks": ""
             }
            },
            "type": "scattergeo"
           }
          ],
          "scattergl": [
           {
            "marker": {
             "line": {
              "color": "#283442"
             }
            },
            "type": "scattergl"
           }
          ],
          "scattermapbox": [
           {
            "marker": {
             "colorbar": {
              "outlinewidth": 0,
              "ticks": ""
             }
            },
            "type": "scattermapbox"
           }
          ],
          "scatterpolar": [
           {
            "marker": {
             "colorbar": {
              "outlinewidth": 0,
              "ticks": ""
             }
            },
            "type": "scatterpolar"
           }
          ],
          "scatterpolargl": [
           {
            "marker": {
             "colorbar": {
              "outlinewidth": 0,
              "ticks": ""
             }
            },
            "type": "scatterpolargl"
           }
          ],
          "scatterternary": [
           {
            "marker": {
             "colorbar": {
              "outlinewidth": 0,
              "ticks": ""
             }
            },
            "type": "scatterternary"
           }
          ],
          "surface": [
           {
            "colorbar": {
             "outlinewidth": 0,
             "ticks": ""
            },
            "colorscale": [
             [
              0,
              "#0d0887"
             ],
             [
              0.1111111111111111,
              "#46039f"
             ],
             [
              0.2222222222222222,
              "#7201a8"
             ],
             [
              0.3333333333333333,
              "#9c179e"
             ],
             [
              0.4444444444444444,
              "#bd3786"
             ],
             [
              0.5555555555555556,
              "#d8576b"
             ],
             [
              0.6666666666666666,
              "#ed7953"
             ],
             [
              0.7777777777777778,
              "#fb9f3a"
             ],
             [
              0.8888888888888888,
              "#fdca26"
             ],
             [
              1,
              "#f0f921"
             ]
            ],
            "type": "surface"
           }
          ],
          "table": [
           {
            "cells": {
             "fill": {
              "color": "#506784"
             },
             "line": {
              "color": "rgb(17,17,17)"
             }
            },
            "header": {
             "fill": {
              "color": "#2a3f5f"
             },
             "line": {
              "color": "rgb(17,17,17)"
             }
            },
            "type": "table"
           }
          ]
         },
         "layout": {
          "annotationdefaults": {
           "arrowcolor": "#f2f5fa",
           "arrowhead": 0,
           "arrowwidth": 1
          },
          "autotypenumbers": "strict",
          "coloraxis": {
           "colorbar": {
            "outlinewidth": 0,
            "ticks": ""
           }
          },
          "colorscale": {
           "diverging": [
            [
             0,
             "#8e0152"
            ],
            [
             0.1,
             "#c51b7d"
            ],
            [
             0.2,
             "#de77ae"
            ],
            [
             0.3,
             "#f1b6da"
            ],
            [
             0.4,
             "#fde0ef"
            ],
            [
             0.5,
             "#f7f7f7"
            ],
            [
             0.6,
             "#e6f5d0"
            ],
            [
             0.7,
             "#b8e186"
            ],
            [
             0.8,
             "#7fbc41"
            ],
            [
             0.9,
             "#4d9221"
            ],
            [
             1,
             "#276419"
            ]
           ],
           "sequential": [
            [
             0,
             "#0d0887"
            ],
            [
             0.1111111111111111,
             "#46039f"
            ],
            [
             0.2222222222222222,
             "#7201a8"
            ],
            [
             0.3333333333333333,
             "#9c179e"
            ],
            [
             0.4444444444444444,
             "#bd3786"
            ],
            [
             0.5555555555555556,
             "#d8576b"
            ],
            [
             0.6666666666666666,
             "#ed7953"
            ],
            [
             0.7777777777777778,
             "#fb9f3a"
            ],
            [
             0.8888888888888888,
             "#fdca26"
            ],
            [
             1,
             "#f0f921"
            ]
           ],
           "sequentialminus": [
            [
             0,
             "#0d0887"
            ],
            [
             0.1111111111111111,
             "#46039f"
            ],
            [
             0.2222222222222222,
             "#7201a8"
            ],
            [
             0.3333333333333333,
             "#9c179e"
            ],
            [
             0.4444444444444444,
             "#bd3786"
            ],
            [
             0.5555555555555556,
             "#d8576b"
            ],
            [
             0.6666666666666666,
             "#ed7953"
            ],
            [
             0.7777777777777778,
             "#fb9f3a"
            ],
            [
             0.8888888888888888,
             "#fdca26"
            ],
            [
             1,
             "#f0f921"
            ]
           ]
          },
          "colorway": [
           "#636efa",
           "#EF553B",
           "#00cc96",
           "#ab63fa",
           "#FFA15A",
           "#19d3f3",
           "#FF6692",
           "#B6E880",
           "#FF97FF",
           "#FECB52"
          ],
          "font": {
           "color": "#f2f5fa"
          },
          "geo": {
           "bgcolor": "rgb(17,17,17)",
           "lakecolor": "rgb(17,17,17)",
           "landcolor": "rgb(17,17,17)",
           "showlakes": true,
           "showland": true,
           "subunitcolor": "#506784"
          },
          "hoverlabel": {
           "align": "left"
          },
          "hovermode": "closest",
          "mapbox": {
           "style": "dark"
          },
          "paper_bgcolor": "rgb(17,17,17)",
          "plot_bgcolor": "rgb(17,17,17)",
          "polar": {
           "angularaxis": {
            "gridcolor": "#506784",
            "linecolor": "#506784",
            "ticks": ""
           },
           "bgcolor": "rgb(17,17,17)",
           "radialaxis": {
            "gridcolor": "#506784",
            "linecolor": "#506784",
            "ticks": ""
           }
          },
          "scene": {
           "xaxis": {
            "backgroundcolor": "rgb(17,17,17)",
            "gridcolor": "#506784",
            "gridwidth": 2,
            "linecolor": "#506784",
            "showbackground": true,
            "ticks": "",
            "zerolinecolor": "#C8D4E3"
           },
           "yaxis": {
            "backgroundcolor": "rgb(17,17,17)",
            "gridcolor": "#506784",
            "gridwidth": 2,
            "linecolor": "#506784",
            "showbackground": true,
            "ticks": "",
            "zerolinecolor": "#C8D4E3"
           },
           "zaxis": {
            "backgroundcolor": "rgb(17,17,17)",
            "gridcolor": "#506784",
            "gridwidth": 2,
            "linecolor": "#506784",
            "showbackground": true,
            "ticks": "",
            "zerolinecolor": "#C8D4E3"
           }
          },
          "shapedefaults": {
           "line": {
            "color": "#f2f5fa"
           }
          },
          "sliderdefaults": {
           "bgcolor": "#C8D4E3",
           "bordercolor": "rgb(17,17,17)",
           "borderwidth": 1,
           "tickwidth": 0
          },
          "ternary": {
           "aaxis": {
            "gridcolor": "#506784",
            "linecolor": "#506784",
            "ticks": ""
           },
           "baxis": {
            "gridcolor": "#506784",
            "linecolor": "#506784",
            "ticks": ""
           },
           "bgcolor": "rgb(17,17,17)",
           "caxis": {
            "gridcolor": "#506784",
            "linecolor": "#506784",
            "ticks": ""
           }
          },
          "title": {
           "x": 0.05
          },
          "updatemenudefaults": {
           "bgcolor": "#506784",
           "borderwidth": 0
          },
          "xaxis": {
           "automargin": true,
           "gridcolor": "#283442",
           "linecolor": "#506784",
           "ticks": "",
           "title": {
            "standoff": 15
           },
           "zerolinecolor": "#283442",
           "zerolinewidth": 2
          },
          "yaxis": {
           "automargin": true,
           "gridcolor": "#283442",
           "linecolor": "#506784",
           "ticks": "",
           "title": {
            "standoff": 15
           },
           "zerolinecolor": "#283442",
           "zerolinewidth": 2
          }
         }
        },
        "title": {
         "text": "Pickup Hour=2023-12-22 00:00:00, location_id=265"
        },
        "xaxis": {
         "anchor": "y",
         "domain": [
          0,
          1
         ],
         "title": {
          "text": "x"
         }
        },
        "yaxis": {
         "anchor": "x",
         "domain": [
          0,
          1
         ],
         "title": {
          "text": "y"
         }
        }
       }
      }
     },
     "metadata": {},
     "output_type": "display_data"
    }
   ],
   "source": [
    "plot_one_sample(\n",
    "    example_id=56700,\n",
    "    features=X_test,\n",
    "    targets=y_test,\n",
    "    predictions=pd.Series(predictions)\n",
    ")"
   ]
  },
  {
   "cell_type": "code",
   "execution_count": 21,
   "metadata": {},
   "outputs": [
    {
     "name": "stdout",
     "output_type": "stream",
     "text": [
      "Max value of the predictions: 522.14\n",
      "Index of the max value: 16701\n"
     ]
    }
   ],
   "source": [
    "max_value = predictions.max()\n",
    "argmax = predictions.argmax()\n",
    "print(f'Max value of the predictions: {max_value:.2f}')\n",
    "print(f'Index of the max value: {argmax}')"
   ]
  },
  {
   "cell_type": "code",
   "execution_count": null,
   "metadata": {},
   "outputs": [],
   "source": []
  }
 ],
 "metadata": {
  "kernelspec": {
   "display_name": "python39",
   "language": "python",
   "name": "python3"
  },
  "language_info": {
   "codemirror_mode": {
    "name": "ipython",
    "version": 3
   },
   "file_extension": ".py",
   "mimetype": "text/x-python",
   "name": "python",
   "nbconvert_exporter": "python",
   "pygments_lexer": "ipython3",
   "version": "3.9.13"
  }
 },
 "nbformat": 4,
 "nbformat_minor": 2
}
